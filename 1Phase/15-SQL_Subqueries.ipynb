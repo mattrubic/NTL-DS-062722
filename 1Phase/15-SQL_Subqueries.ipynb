{
 "cells": [
  {
   "cell_type": "markdown",
   "metadata": {
    "toc": true
   },
   "source": [
    "<h1>Table of Contents<span class=\"tocSkip\"></span></h1>\n",
    "<div class=\"toc\"><ul class=\"toc-item\"><li><span><a href=\"#Objectives\" data-toc-modified-id=\"Objectives-1\"><span class=\"toc-item-num\">1&nbsp;&nbsp;</span>Objectives</a></span></li><li><span><a href=\"#SQL-Subqueries\" data-toc-modified-id=\"SQL-Subqueries-2\"><span class=\"toc-item-num\">2&nbsp;&nbsp;</span>SQL Subqueries</a></span><ul class=\"toc-item\"><li><span><a href=\"#Subqueries-in-FROM\" data-toc-modified-id=\"Subqueries-in-FROM-2.1\"><span class=\"toc-item-num\">2.1&nbsp;&nbsp;</span>Subqueries in <code>FROM</code></a></span></li><li><span><a href=\"#Note:-Subqueries-are-Like-New-Tables!\" data-toc-modified-id=\"Note:-Subqueries-are-Like-New-Tables!-2.2\"><span class=\"toc-item-num\">2.2&nbsp;&nbsp;</span>Note: Subqueries are Like New Tables!</a></span></li><li><span><a href=\"#Subqueries-in-WHERE\" data-toc-modified-id=\"Subqueries-in-WHERE-2.3\"><span class=\"toc-item-num\">2.3&nbsp;&nbsp;</span>Subqueries in <code>WHERE</code></a></span></li><li><span><a href=\"#Level-Up:-Common-Table-Expressions\" data-toc-modified-id=\"Level-Up:-Common-Table-Expressions-2.4\"><span class=\"toc-item-num\">2.4&nbsp;&nbsp;</span>Level Up: Common Table Expressions</a></span><ul class=\"toc-item\"><li><span><a href=\"#Exercise\" data-toc-modified-id=\"Exercise-2.4.1\"><span class=\"toc-item-num\">2.4.1&nbsp;&nbsp;</span>Exercise</a></span></li></ul></li></ul></li><li><span><a href=\"#SQL-Versions\" data-toc-modified-id=\"SQL-Versions-3\"><span class=\"toc-item-num\">3&nbsp;&nbsp;</span>SQL Versions</a></span><ul class=\"toc-item\"><li><span><a href=\"#SQL-Dialects\" data-toc-modified-id=\"SQL-Dialects-3.1\"><span class=\"toc-item-num\">3.1&nbsp;&nbsp;</span>SQL Dialects</a></span></li><li><span><a href=\"#SQLite-Pros-&amp;-Cons\" data-toc-modified-id=\"SQLite-Pros-&amp;-Cons-3.2\"><span class=\"toc-item-num\">3.2&nbsp;&nbsp;</span>SQLite Pros &amp; Cons</a></span><ul class=\"toc-item\"><li><span><a href=\"#Pros\" data-toc-modified-id=\"Pros-3.2.1\"><span class=\"toc-item-num\">3.2.1&nbsp;&nbsp;</span>Pros</a></span></li><li><span><a href=\"#Cons\" data-toc-modified-id=\"Cons-3.2.2\"><span class=\"toc-item-num\">3.2.2&nbsp;&nbsp;</span>Cons</a></span></li></ul></li><li><span><a href=\"#Extra-Resources:-SQL-Versions\" data-toc-modified-id=\"Extra-Resources:-SQL-Versions-3.3\"><span class=\"toc-item-num\">3.3&nbsp;&nbsp;</span>Extra Resources: SQL Versions</a></span></li></ul></li><li><span><a href=\"#Web-Databases:-data.world\" data-toc-modified-id=\"Web-Databases:-data.world-4\"><span class=\"toc-item-num\">4&nbsp;&nbsp;</span>Web Databases: data.world</a></span><ul class=\"toc-item\"><li><span><a href=\"#Step-1:-Create-a-data.world-account\" data-toc-modified-id=\"Step-1:-Create-a-data.world-account-4.1\"><span class=\"toc-item-num\">4.1&nbsp;&nbsp;</span>Step 1: Create a data.world account</a></span></li><li><span><a href=\"#Step-2:-Create-a-project-using-this-Austin-AirBnB-dataset\" data-toc-modified-id=\"Step-2:-Create-a-project-using-this-Austin-AirBnB-dataset-4.2\"><span class=\"toc-item-num\">4.2&nbsp;&nbsp;</span>Step 2: Create a project using this <a href=\"https://data.world/jonloyens/inside-airbnb-austin\" target=\"_blank\">Austin AirBnB</a> dataset</a></span></li><li><span><a href=\"#Step-3:-Create-a-SQL-query\" data-toc-modified-id=\"Step-3:-Create-a-SQL-query-4.3\"><span class=\"toc-item-num\">4.3&nbsp;&nbsp;</span>Step 3: Create a SQL query</a></span></li><li><span><a href=\"#Step-4:-Run-a-simple-SQL-query\" data-toc-modified-id=\"Step-4:-Run-a-simple-SQL-query-4.4\"><span class=\"toc-item-num\">4.4&nbsp;&nbsp;</span>Step 4: Run a simple SQL query</a></span></li><li><span><a href=\"#Step-5:-Practice-using-SQL-to-explore-the-data\" data-toc-modified-id=\"Step-5:-Practice-using-SQL-to-explore-the-data-4.5\"><span class=\"toc-item-num\">4.5&nbsp;&nbsp;</span>Step 5: Practice using SQL to explore the data</a></span><ul class=\"toc-item\"><li><span><a href=\"#Exercise-1:-Create-a-table-showing-the-number-of-listings-in-each-neighborhood\" data-toc-modified-id=\"Exercise-1:-Create-a-table-showing-the-number-of-listings-in-each-neighborhood-4.5.1\"><span class=\"toc-item-num\">4.5.1&nbsp;&nbsp;</span>Exercise 1: Create a table showing the number of listings in each neighborhood</a></span></li><li><span><a href=\"#Exercise-2:-Create-a-table-showing-the-20-listings-with-the-most-reviews\" data-toc-modified-id=\"Exercise-2:-Create-a-table-showing-the-20-listings-with-the-most-reviews-4.5.2\"><span class=\"toc-item-num\">4.5.2&nbsp;&nbsp;</span>Exercise 2: Create a table showing the 20 listings with the most reviews</a></span></li><li><span><a href=\"#Exercise-3:-Create-a-table-showing-all-of-the-reviews-for-listings-that-are-&quot;Bed-&amp;-Breakfast&quot;-property-types.\" data-toc-modified-id=\"Exercise-3:-Create-a-table-showing-all-of-the-reviews-for-listings-that-are-&quot;Bed-&amp;-Breakfast&quot;-property-types.-4.5.3\"><span class=\"toc-item-num\">4.5.3&nbsp;&nbsp;</span>Exercise 3: Create a table showing all of the reviews for listings that are \"Bed &amp; Breakfast\" property types.</a></span></li><li><span><a href=\"#Exercise-4:-Run-your-own-query-using-a-subquery-or-CTE.\" data-toc-modified-id=\"Exercise-4:-Run-your-own-query-using-a-subquery-or-CTE.-4.5.4\"><span class=\"toc-item-num\">4.5.4&nbsp;&nbsp;</span>Exercise 4: Run your own query using a subquery or CTE.</a></span></li></ul></li></ul></li></ul></div>"
   ]
  },
  {
   "cell_type": "code",
   "execution_count": 5,
   "metadata": {},
   "outputs": [],
   "source": [
    "# Imports\n",
    "import sqlite3\n",
    "import pandas as pd"
   ]
  },
  {
   "cell_type": "markdown",
   "metadata": {
    "slideshow": {
     "slide_type": "slide"
    }
   },
   "source": [
    "# Objectives"
   ]
  },
  {
   "cell_type": "markdown",
   "metadata": {
    "slideshow": {
     "slide_type": "slide"
    }
   },
   "source": [
    "- Use SQL subqueries to nest queries\n",
    "- Identify common SQL dialects and tools\n",
    "- Query data from web databases"
   ]
  },
  {
   "cell_type": "markdown",
   "metadata": {},
   "source": [
    "# SQL Subqueries"
   ]
  },
  {
   "cell_type": "markdown",
   "metadata": {},
   "source": [
    "Like you might nest one function within another in Python, you can nest queries in SQL. We can use a **subquery** within another query to succinctly implement queries that have multiple query steps."
   ]
  },
  {
   "cell_type": "code",
   "execution_count": 2,
   "metadata": {},
   "outputs": [],
   "source": [
    "# Create the connect to the flights.db database\n",
    "con = sqlite3.connect('./data/flights.db')"
   ]
  },
  {
   "cell_type": "code",
   "execution_count": 3,
   "metadata": {},
   "outputs": [],
   "source": [
    "cursor = con.cursor()"
   ]
  },
  {
   "cell_type": "code",
   "execution_count": 6,
   "metadata": {},
   "outputs": [
    {
     "data": {
      "text/html": [
       "<div>\n",
       "<style scoped>\n",
       "    .dataframe tbody tr th:only-of-type {\n",
       "        vertical-align: middle;\n",
       "    }\n",
       "\n",
       "    .dataframe tbody tr th {\n",
       "        vertical-align: top;\n",
       "    }\n",
       "\n",
       "    .dataframe thead th {\n",
       "        text-align: right;\n",
       "    }\n",
       "</style>\n",
       "<table border=\"1\" class=\"dataframe\">\n",
       "  <thead>\n",
       "    <tr style=\"text-align: right;\">\n",
       "      <th></th>\n",
       "      <th>index</th>\n",
       "      <th>id</th>\n",
       "      <th>name</th>\n",
       "      <th>city</th>\n",
       "      <th>country</th>\n",
       "      <th>code</th>\n",
       "      <th>icao</th>\n",
       "      <th>latitude</th>\n",
       "      <th>longitude</th>\n",
       "      <th>altitude</th>\n",
       "      <th>offset</th>\n",
       "      <th>dst</th>\n",
       "      <th>timezone</th>\n",
       "    </tr>\n",
       "  </thead>\n",
       "  <tbody>\n",
       "    <tr>\n",
       "      <th>0</th>\n",
       "      <td>0</td>\n",
       "      <td>1</td>\n",
       "      <td>Goroka</td>\n",
       "      <td>Goroka</td>\n",
       "      <td>Papua New Guinea</td>\n",
       "      <td>GKA</td>\n",
       "      <td>AYGA</td>\n",
       "      <td>-6.081689</td>\n",
       "      <td>145.391881</td>\n",
       "      <td>5282</td>\n",
       "      <td>10</td>\n",
       "      <td>U</td>\n",
       "      <td>Pacific/Port_Moresby</td>\n",
       "    </tr>\n",
       "    <tr>\n",
       "      <th>1</th>\n",
       "      <td>1</td>\n",
       "      <td>2</td>\n",
       "      <td>Madang</td>\n",
       "      <td>Madang</td>\n",
       "      <td>Papua New Guinea</td>\n",
       "      <td>MAG</td>\n",
       "      <td>AYMD</td>\n",
       "      <td>-5.207083</td>\n",
       "      <td>145.7887</td>\n",
       "      <td>20</td>\n",
       "      <td>10</td>\n",
       "      <td>U</td>\n",
       "      <td>Pacific/Port_Moresby</td>\n",
       "    </tr>\n",
       "  </tbody>\n",
       "</table>\n",
       "</div>"
      ],
      "text/plain": [
       "   index id    name    city           country code  icao   latitude  \\\n",
       "0      0  1  Goroka  Goroka  Papua New Guinea  GKA  AYGA  -6.081689   \n",
       "1      1  2  Madang  Madang  Papua New Guinea  MAG  AYMD  -5.207083   \n",
       "\n",
       "    longitude altitude offset dst              timezone  \n",
       "0  145.391881     5282     10   U  Pacific/Port_Moresby  \n",
       "1    145.7887       20     10   U  Pacific/Port_Moresby  "
      ]
     },
     "execution_count": 6,
     "metadata": {},
     "output_type": "execute_result"
    }
   ],
   "source": [
    "pd.read_sql('''\n",
    "SELECT *\n",
    "FROM airports\n",
    "LIMIT 2\n",
    "''',\n",
    "con)"
   ]
  },
  {
   "cell_type": "code",
   "execution_count": 15,
   "metadata": {},
   "outputs": [],
   "source": [
    "# get the average altitiude of the highest altitiude airports in United States, Russia, China\n",
    "# first filter airports on country\n",
    "sq1 = pd.read_sql('''\n",
    "SELECT\n",
    "    *\n",
    "FROM\n",
    "    airports\n",
    "WHERE\n",
    "    country IN ('United States', 'Russia', 'China')\n",
    "''',\n",
    "con)\n",
    "#step 2, use filtered table via subquery and get max altitude by country\n",
    "sq2 = pd.read_sql('''\n",
    "SELECT\n",
    "    cf.name,\n",
    "    cf.city,\n",
    "    MAX(CAST(altitude AS int)) AS maxalt\n",
    "FROM\n",
    "    (SELECT\n",
    "    *\n",
    "    FROM\n",
    "        airports\n",
    "    WHERE\n",
    "        country IN ('United States', 'Russia', 'China')) AS cf\n",
    "GROUP BY\n",
    "    country\n",
    "''',\n",
    "con)\n",
    "#Use filtered table via subquery to average maxalts\n",
    "sq3 = pd.read_sql('''\n",
    "\n",
    "SELECT\n",
    "    AVG(maxalt) AS maxalt_avg\n",
    "    \n",
    "FROM\n",
    "    (SELECT\n",
    "        cf.name,\n",
    "        cf.city,\n",
    "        MAX(CAST(altitude AS int)) AS maxalt\n",
    "    FROM\n",
    "        (SELECT\n",
    "        *\n",
    "        FROM\n",
    "            airports\n",
    "        WHERE\n",
    "            country IN ('United States', 'Russia', 'China')) AS cf)\n",
    "''',\n",
    "con)"
   ]
  },
  {
   "cell_type": "code",
   "execution_count": 13,
   "metadata": {},
   "outputs": [
    {
     "data": {
      "text/html": [
       "<div>\n",
       "<style scoped>\n",
       "    .dataframe tbody tr th:only-of-type {\n",
       "        vertical-align: middle;\n",
       "    }\n",
       "\n",
       "    .dataframe tbody tr th {\n",
       "        vertical-align: top;\n",
       "    }\n",
       "\n",
       "    .dataframe thead th {\n",
       "        text-align: right;\n",
       "    }\n",
       "</style>\n",
       "<table border=\"1\" class=\"dataframe\">\n",
       "  <thead>\n",
       "    <tr style=\"text-align: right;\">\n",
       "      <th></th>\n",
       "      <th>index</th>\n",
       "      <th>id</th>\n",
       "      <th>name</th>\n",
       "      <th>city</th>\n",
       "      <th>country</th>\n",
       "      <th>code</th>\n",
       "      <th>icao</th>\n",
       "      <th>latitude</th>\n",
       "      <th>longitude</th>\n",
       "      <th>altitude</th>\n",
       "      <th>offset</th>\n",
       "      <th>dst</th>\n",
       "      <th>timezone</th>\n",
       "    </tr>\n",
       "  </thead>\n",
       "  <tbody>\n",
       "    <tr>\n",
       "      <th>0</th>\n",
       "      <td>318</td>\n",
       "      <td>6891</td>\n",
       "      <td>Putnam County Airport</td>\n",
       "      <td>Greencastle</td>\n",
       "      <td>United States</td>\n",
       "      <td>4I7</td>\n",
       "      <td>\\N</td>\n",
       "      <td>39.6335556</td>\n",
       "      <td>-86.8138056</td>\n",
       "      <td>842</td>\n",
       "      <td>-5</td>\n",
       "      <td>U</td>\n",
       "      <td>America/New_York</td>\n",
       "    </tr>\n",
       "    <tr>\n",
       "      <th>1</th>\n",
       "      <td>1104</td>\n",
       "      <td>6890</td>\n",
       "      <td>Dowagiac Municipal Airport</td>\n",
       "      <td>Dowagiac</td>\n",
       "      <td>United States</td>\n",
       "      <td>C91</td>\n",
       "      <td>\\N</td>\n",
       "      <td>41.9929342</td>\n",
       "      <td>-86.1280125</td>\n",
       "      <td>748</td>\n",
       "      <td>-5</td>\n",
       "      <td>U</td>\n",
       "      <td>America/New_York</td>\n",
       "    </tr>\n",
       "    <tr>\n",
       "      <th>2</th>\n",
       "      <td>1121</td>\n",
       "      <td>6889</td>\n",
       "      <td>Cambridge Municipal Airport</td>\n",
       "      <td>Cambridge</td>\n",
       "      <td>United States</td>\n",
       "      <td>CDI</td>\n",
       "      <td>\\N</td>\n",
       "      <td>39.9750278</td>\n",
       "      <td>-81.5775833</td>\n",
       "      <td>799</td>\n",
       "      <td>-5</td>\n",
       "      <td>U</td>\n",
       "      <td>America/New_York</td>\n",
       "    </tr>\n",
       "    <tr>\n",
       "      <th>3</th>\n",
       "      <td>1470</td>\n",
       "      <td>6885</td>\n",
       "      <td>Door County Cherryland Airport</td>\n",
       "      <td>Sturgeon Bay</td>\n",
       "      <td>United States</td>\n",
       "      <td>SUE</td>\n",
       "      <td>\\N</td>\n",
       "      <td>44.8436667</td>\n",
       "      <td>-87.4215556</td>\n",
       "      <td>725</td>\n",
       "      <td>-6</td>\n",
       "      <td>U</td>\n",
       "      <td>America/Chicago</td>\n",
       "    </tr>\n",
       "    <tr>\n",
       "      <th>4</th>\n",
       "      <td>1507</td>\n",
       "      <td>6884</td>\n",
       "      <td>Shoestring Aviation Airfield</td>\n",
       "      <td>Stewartstown</td>\n",
       "      <td>United States</td>\n",
       "      <td>0P2</td>\n",
       "      <td>\\N</td>\n",
       "      <td>39.7948244</td>\n",
       "      <td>-76.6471914</td>\n",
       "      <td>1000</td>\n",
       "      <td>-5</td>\n",
       "      <td>U</td>\n",
       "      <td>America/New_York</td>\n",
       "    </tr>\n",
       "    <tr>\n",
       "      <th>...</th>\n",
       "      <td>...</td>\n",
       "      <td>...</td>\n",
       "      <td>...</td>\n",
       "      <td>...</td>\n",
       "      <td>...</td>\n",
       "      <td>...</td>\n",
       "      <td>...</td>\n",
       "      <td>...</td>\n",
       "      <td>...</td>\n",
       "      <td>...</td>\n",
       "      <td>...</td>\n",
       "      <td>...</td>\n",
       "      <td>...</td>\n",
       "    </tr>\n",
       "    <tr>\n",
       "      <th>2160</th>\n",
       "      <td>8079</td>\n",
       "      <td>9514</td>\n",
       "      <td>Ferry Terminal</td>\n",
       "      <td>Valdez</td>\n",
       "      <td>United States</td>\n",
       "      <td>None</td>\n",
       "      <td>VLDZ</td>\n",
       "      <td>61.123976</td>\n",
       "      <td>-146.365309</td>\n",
       "      <td>0</td>\n",
       "      <td>-9</td>\n",
       "      <td>A</td>\n",
       "      <td>America/Anchorage</td>\n",
       "    </tr>\n",
       "    <tr>\n",
       "      <th>2161</th>\n",
       "      <td>8090</td>\n",
       "      <td>9525</td>\n",
       "      <td>Ferry Dock</td>\n",
       "      <td>Bainbridge Island</td>\n",
       "      <td>United States</td>\n",
       "      <td>None</td>\n",
       "      <td>BAIN</td>\n",
       "      <td>47.622237</td>\n",
       "      <td>-122.509362</td>\n",
       "      <td>0</td>\n",
       "      <td>-8</td>\n",
       "      <td>A</td>\n",
       "      <td>America/Los_Angeles</td>\n",
       "    </tr>\n",
       "    <tr>\n",
       "      <th>2162</th>\n",
       "      <td>8098</td>\n",
       "      <td>9533</td>\n",
       "      <td>Chatsworth Station</td>\n",
       "      <td>Chatsworth</td>\n",
       "      <td>United States</td>\n",
       "      <td>CWT</td>\n",
       "      <td>\\N</td>\n",
       "      <td>34.256944</td>\n",
       "      <td>-118.598889</td>\n",
       "      <td>978</td>\n",
       "      <td>-8</td>\n",
       "      <td>A</td>\n",
       "      <td>America/Los_Angeles</td>\n",
       "    </tr>\n",
       "    <tr>\n",
       "      <th>2163</th>\n",
       "      <td>8105</td>\n",
       "      <td>9540</td>\n",
       "      <td>Deer Harbor Seaplane</td>\n",
       "      <td>Deer Harbor</td>\n",
       "      <td>United States</td>\n",
       "      <td>DHB</td>\n",
       "      <td>\\N</td>\n",
       "      <td>48.618397</td>\n",
       "      <td>-123.00596</td>\n",
       "      <td>0</td>\n",
       "      <td>-8</td>\n",
       "      <td>A</td>\n",
       "      <td>America/Los_Angeles</td>\n",
       "    </tr>\n",
       "    <tr>\n",
       "      <th>2164</th>\n",
       "      <td>8106</td>\n",
       "      <td>9541</td>\n",
       "      <td>San Diego Old Town Transit Center</td>\n",
       "      <td>San Diego</td>\n",
       "      <td>United States</td>\n",
       "      <td>OLT</td>\n",
       "      <td>\\N</td>\n",
       "      <td>32.7552</td>\n",
       "      <td>-117.1995</td>\n",
       "      <td>0</td>\n",
       "      <td>-8</td>\n",
       "      <td>A</td>\n",
       "      <td>America/Los_Angeles</td>\n",
       "    </tr>\n",
       "  </tbody>\n",
       "</table>\n",
       "<p>2165 rows × 13 columns</p>\n",
       "</div>"
      ],
      "text/plain": [
       "      index    id                               name               city  \\\n",
       "0       318  6891              Putnam County Airport        Greencastle   \n",
       "1      1104  6890         Dowagiac Municipal Airport           Dowagiac   \n",
       "2      1121  6889        Cambridge Municipal Airport          Cambridge   \n",
       "3      1470  6885     Door County Cherryland Airport       Sturgeon Bay   \n",
       "4      1507  6884       Shoestring Aviation Airfield       Stewartstown   \n",
       "...     ...   ...                                ...                ...   \n",
       "2160   8079  9514                     Ferry Terminal             Valdez   \n",
       "2161   8090  9525                         Ferry Dock  Bainbridge Island   \n",
       "2162   8098  9533                 Chatsworth Station         Chatsworth   \n",
       "2163   8105  9540               Deer Harbor Seaplane        Deer Harbor   \n",
       "2164   8106  9541  San Diego Old Town Transit Center          San Diego   \n",
       "\n",
       "            country  code  icao    latitude    longitude altitude offset dst  \\\n",
       "0     United States   4I7    \\N  39.6335556  -86.8138056      842     -5   U   \n",
       "1     United States   C91    \\N  41.9929342  -86.1280125      748     -5   U   \n",
       "2     United States   CDI    \\N  39.9750278  -81.5775833      799     -5   U   \n",
       "3     United States   SUE    \\N  44.8436667  -87.4215556      725     -6   U   \n",
       "4     United States   0P2    \\N  39.7948244  -76.6471914     1000     -5   U   \n",
       "...             ...   ...   ...         ...          ...      ...    ...  ..   \n",
       "2160  United States  None  VLDZ   61.123976  -146.365309        0     -9   A   \n",
       "2161  United States  None  BAIN   47.622237  -122.509362        0     -8   A   \n",
       "2162  United States   CWT    \\N   34.256944  -118.598889      978     -8   A   \n",
       "2163  United States   DHB    \\N   48.618397   -123.00596        0     -8   A   \n",
       "2164  United States   OLT    \\N     32.7552    -117.1995        0     -8   A   \n",
       "\n",
       "                 timezone  \n",
       "0        America/New_York  \n",
       "1        America/New_York  \n",
       "2        America/New_York  \n",
       "3         America/Chicago  \n",
       "4        America/New_York  \n",
       "...                   ...  \n",
       "2160    America/Anchorage  \n",
       "2161  America/Los_Angeles  \n",
       "2162  America/Los_Angeles  \n",
       "2163  America/Los_Angeles  \n",
       "2164  America/Los_Angeles  \n",
       "\n",
       "[2165 rows x 13 columns]"
      ]
     },
     "execution_count": 13,
     "metadata": {},
     "output_type": "execute_result"
    }
   ],
   "source": [
    "sq1"
   ]
  },
  {
   "cell_type": "code",
   "execution_count": 14,
   "metadata": {},
   "outputs": [
    {
     "data": {
      "text/html": [
       "<div>\n",
       "<style scoped>\n",
       "    .dataframe tbody tr th:only-of-type {\n",
       "        vertical-align: middle;\n",
       "    }\n",
       "\n",
       "    .dataframe tbody tr th {\n",
       "        vertical-align: top;\n",
       "    }\n",
       "\n",
       "    .dataframe thead th {\n",
       "        text-align: right;\n",
       "    }\n",
       "</style>\n",
       "<table border=\"1\" class=\"dataframe\">\n",
       "  <thead>\n",
       "    <tr style=\"text-align: right;\">\n",
       "      <th></th>\n",
       "      <th>name</th>\n",
       "      <th>city</th>\n",
       "      <th>maxalt</th>\n",
       "    </tr>\n",
       "  </thead>\n",
       "  <tbody>\n",
       "    <tr>\n",
       "      <th>0</th>\n",
       "      <td>Yading Daocheng</td>\n",
       "      <td>Daocheng</td>\n",
       "      <td>14472</td>\n",
       "    </tr>\n",
       "    <tr>\n",
       "      <th>1</th>\n",
       "      <td>Irkutsk-2</td>\n",
       "      <td>Irkutsk</td>\n",
       "      <td>13411</td>\n",
       "    </tr>\n",
       "    <tr>\n",
       "      <th>2</th>\n",
       "      <td>Silverton</td>\n",
       "      <td>Silverton</td>\n",
       "      <td>9308</td>\n",
       "    </tr>\n",
       "  </tbody>\n",
       "</table>\n",
       "</div>"
      ],
      "text/plain": [
       "              name       city  maxalt\n",
       "0  Yading Daocheng   Daocheng   14472\n",
       "1        Irkutsk-2    Irkutsk   13411\n",
       "2        Silverton  Silverton    9308"
      ]
     },
     "execution_count": 14,
     "metadata": {},
     "output_type": "execute_result"
    }
   ],
   "source": [
    "sq2"
   ]
  },
  {
   "cell_type": "code",
   "execution_count": 12,
   "metadata": {},
   "outputs": [
    {
     "data": {
      "text/html": [
       "<div>\n",
       "<style scoped>\n",
       "    .dataframe tbody tr th:only-of-type {\n",
       "        vertical-align: middle;\n",
       "    }\n",
       "\n",
       "    .dataframe tbody tr th {\n",
       "        vertical-align: top;\n",
       "    }\n",
       "\n",
       "    .dataframe thead th {\n",
       "        text-align: right;\n",
       "    }\n",
       "</style>\n",
       "<table border=\"1\" class=\"dataframe\">\n",
       "  <thead>\n",
       "    <tr style=\"text-align: right;\">\n",
       "      <th></th>\n",
       "      <th>maxalt_avg</th>\n",
       "    </tr>\n",
       "  </thead>\n",
       "  <tbody>\n",
       "    <tr>\n",
       "      <th>0</th>\n",
       "      <td>14472.0</td>\n",
       "    </tr>\n",
       "  </tbody>\n",
       "</table>\n",
       "</div>"
      ],
      "text/plain": [
       "   maxalt_avg\n",
       "0     14472.0"
      ]
     },
     "execution_count": 12,
     "metadata": {},
     "output_type": "execute_result"
    }
   ],
   "source": [
    "sq3"
   ]
  },
  {
   "cell_type": "markdown",
   "metadata": {},
   "source": [
    "## Subqueries in `FROM`"
   ]
  },
  {
   "cell_type": "markdown",
   "metadata": {},
   "source": [
    "You can use a subquery in the `FROM` clause - this is useful, for example, if you want to apply multiple aggregation functions.\n",
    "\n",
    "Let say we want to get the average of the number of routes departing from all airports. First we'd need to get the total number of routes departing from all airports, then take the average."
   ]
  },
  {
   "cell_type": "code",
   "execution_count": 17,
   "metadata": {
    "scrolled": false
   },
   "outputs": [
    {
     "data": {
      "text/html": [
       "<div>\n",
       "<style scoped>\n",
       "    .dataframe tbody tr th:only-of-type {\n",
       "        vertical-align: middle;\n",
       "    }\n",
       "\n",
       "    .dataframe tbody tr th {\n",
       "        vertical-align: top;\n",
       "    }\n",
       "\n",
       "    .dataframe thead th {\n",
       "        text-align: right;\n",
       "    }\n",
       "</style>\n",
       "<table border=\"1\" class=\"dataframe\">\n",
       "  <thead>\n",
       "    <tr style=\"text-align: right;\">\n",
       "      <th></th>\n",
       "      <th>source</th>\n",
       "      <th>COUNT()</th>\n",
       "    </tr>\n",
       "  </thead>\n",
       "  <tbody>\n",
       "    <tr>\n",
       "      <th>0</th>\n",
       "      <td>AAE</td>\n",
       "      <td>9</td>\n",
       "    </tr>\n",
       "    <tr>\n",
       "      <th>1</th>\n",
       "      <td>AAL</td>\n",
       "      <td>20</td>\n",
       "    </tr>\n",
       "    <tr>\n",
       "      <th>2</th>\n",
       "      <td>AAN</td>\n",
       "      <td>2</td>\n",
       "    </tr>\n",
       "    <tr>\n",
       "      <th>3</th>\n",
       "      <td>AAQ</td>\n",
       "      <td>3</td>\n",
       "    </tr>\n",
       "    <tr>\n",
       "      <th>4</th>\n",
       "      <td>AAR</td>\n",
       "      <td>8</td>\n",
       "    </tr>\n",
       "    <tr>\n",
       "      <th>...</th>\n",
       "      <td>...</td>\n",
       "      <td>...</td>\n",
       "    </tr>\n",
       "    <tr>\n",
       "      <th>3404</th>\n",
       "      <td>ZUH</td>\n",
       "      <td>60</td>\n",
       "    </tr>\n",
       "    <tr>\n",
       "      <th>3405</th>\n",
       "      <td>ZUM</td>\n",
       "      <td>2</td>\n",
       "    </tr>\n",
       "    <tr>\n",
       "      <th>3406</th>\n",
       "      <td>ZVK</td>\n",
       "      <td>3</td>\n",
       "    </tr>\n",
       "    <tr>\n",
       "      <th>3407</th>\n",
       "      <td>ZYI</td>\n",
       "      <td>15</td>\n",
       "    </tr>\n",
       "    <tr>\n",
       "      <th>3408</th>\n",
       "      <td>ZYL</td>\n",
       "      <td>4</td>\n",
       "    </tr>\n",
       "  </tbody>\n",
       "</table>\n",
       "<p>3409 rows × 2 columns</p>\n",
       "</div>"
      ],
      "text/plain": [
       "     source  COUNT()\n",
       "0       AAE        9\n",
       "1       AAL       20\n",
       "2       AAN        2\n",
       "3       AAQ        3\n",
       "4       AAR        8\n",
       "...     ...      ...\n",
       "3404    ZUH       60\n",
       "3405    ZUM        2\n",
       "3406    ZVK        3\n",
       "3407    ZYI       15\n",
       "3408    ZYL        4\n",
       "\n",
       "[3409 rows x 2 columns]"
      ]
     },
     "execution_count": 17,
     "metadata": {},
     "output_type": "execute_result"
    }
   ],
   "source": [
    "# Get the number of departures\n",
    "departure_table = pd.read_sql('''\n",
    "SELECT\n",
    "    source,\n",
    "    COUNT()\n",
    "FROM\n",
    "    routes\n",
    "GROUP BY\n",
    "    source\n",
    "''',\n",
    "con)\n",
    "departure_table"
   ]
  },
  {
   "cell_type": "code",
   "execution_count": 18,
   "metadata": {},
   "outputs": [
    {
     "data": {
      "text/html": [
       "<div>\n",
       "<style scoped>\n",
       "    .dataframe tbody tr th:only-of-type {\n",
       "        vertical-align: middle;\n",
       "    }\n",
       "\n",
       "    .dataframe tbody tr th {\n",
       "        vertical-align: top;\n",
       "    }\n",
       "\n",
       "    .dataframe thead th {\n",
       "        text-align: right;\n",
       "    }\n",
       "</style>\n",
       "<table border=\"1\" class=\"dataframe\">\n",
       "  <thead>\n",
       "    <tr style=\"text-align: right;\">\n",
       "      <th></th>\n",
       "      <th>dest</th>\n",
       "      <th>COUNT()</th>\n",
       "    </tr>\n",
       "  </thead>\n",
       "  <tbody>\n",
       "    <tr>\n",
       "      <th>0</th>\n",
       "      <td>ALG</td>\n",
       "      <td>9</td>\n",
       "    </tr>\n",
       "    <tr>\n",
       "      <th>1</th>\n",
       "      <td>AMS</td>\n",
       "      <td>20</td>\n",
       "    </tr>\n",
       "    <tr>\n",
       "      <th>2</th>\n",
       "      <td>CCJ</td>\n",
       "      <td>2</td>\n",
       "    </tr>\n",
       "    <tr>\n",
       "      <th>3</th>\n",
       "      <td>DME</td>\n",
       "      <td>3</td>\n",
       "    </tr>\n",
       "    <tr>\n",
       "      <th>4</th>\n",
       "      <td>AAL</td>\n",
       "      <td>8</td>\n",
       "    </tr>\n",
       "    <tr>\n",
       "      <th>...</th>\n",
       "      <td>...</td>\n",
       "      <td>...</td>\n",
       "    </tr>\n",
       "    <tr>\n",
       "      <th>3404</th>\n",
       "      <td>CZX</td>\n",
       "      <td>60</td>\n",
       "    </tr>\n",
       "    <tr>\n",
       "      <th>3405</th>\n",
       "      <td>YWK</td>\n",
       "      <td>2</td>\n",
       "    </tr>\n",
       "    <tr>\n",
       "      <th>3406</th>\n",
       "      <td>BKK</td>\n",
       "      <td>3</td>\n",
       "    </tr>\n",
       "    <tr>\n",
       "      <th>3407</th>\n",
       "      <td>KMG</td>\n",
       "      <td>15</td>\n",
       "    </tr>\n",
       "    <tr>\n",
       "      <th>3408</th>\n",
       "      <td>DAC</td>\n",
       "      <td>4</td>\n",
       "    </tr>\n",
       "  </tbody>\n",
       "</table>\n",
       "<p>3409 rows × 2 columns</p>\n",
       "</div>"
      ],
      "text/plain": [
       "     dest  COUNT()\n",
       "0     ALG        9\n",
       "1     AMS       20\n",
       "2     CCJ        2\n",
       "3     DME        3\n",
       "4     AAL        8\n",
       "...   ...      ...\n",
       "3404  CZX       60\n",
       "3405  YWK        2\n",
       "3406  BKK        3\n",
       "3407  KMG       15\n",
       "3408  DAC        4\n",
       "\n",
       "[3409 rows x 2 columns]"
      ]
     },
     "execution_count": 18,
     "metadata": {},
     "output_type": "execute_result"
    }
   ],
   "source": [
    "arrival_table = pd.read_sql('''\n",
    "SELECT\n",
    "    dest,\n",
    "    COUNT()\n",
    "FROM\n",
    "    routes\n",
    "GROUP BY\n",
    "    source\n",
    "''',\n",
    "con)\n",
    "arrival_table"
   ]
  },
  {
   "cell_type": "code",
   "execution_count": null,
   "metadata": {},
   "outputs": [],
   "source": []
  },
  {
   "cell_type": "markdown",
   "metadata": {},
   "source": [
    "We can use this query as a subquery, and take the average of the new `number_of_departures` column."
   ]
  },
  {
   "cell_type": "code",
   "execution_count": null,
   "metadata": {
    "scrolled": true
   },
   "outputs": [],
   "source": [
    "# Get the average via a subquery\n"
   ]
  },
  {
   "cell_type": "markdown",
   "metadata": {},
   "source": [
    "## Note: Subqueries are Like New Tables!"
   ]
  },
  {
   "cell_type": "markdown",
   "metadata": {},
   "source": [
    "If you squint, you'll notice that the subquery is taking the place of where we might put a table!"
   ]
  },
  {
   "cell_type": "markdown",
   "metadata": {},
   "source": [
    "For example, checkout the SQL we wrote in our first subquery example:\n",
    "\n",
    "```sql\n",
    "SELECT \n",
    "    AVG(number_of_departures)\n",
    "FROM (\n",
    "    SELECT \n",
    "        source AS depart_airport\n",
    "        ,COUNT() AS number_of_departures\n",
    "    FROM\n",
    "        routes\n",
    "    GROUP BY\n",
    "        source\n",
    ")\n",
    "```"
   ]
  },
  {
   "cell_type": "markdown",
   "metadata": {},
   "source": [
    "We could imagine that some new table that returned by the subquery existed (let's call it `airport_departures`) and be placed in place of the subquery:\n",
    "\n",
    "```sql\n",
    "SELECT \n",
    "    AVG(number_of_departures)\n",
    "FROM (\n",
    "    airport_departures -- Replacing subquery with this hypothetical table\n",
    ") \n",
    "```"
   ]
  },
  {
   "cell_type": "markdown",
   "metadata": {},
   "source": [
    "You can actually use syntax close to this with **Common Table Expressions (CTEs)** found in the [Level Up section](#Level-Up:-Common-Table-Expressions) below."
   ]
  },
  {
   "cell_type": "markdown",
   "metadata": {},
   "source": [
    "## Subqueries in `WHERE`"
   ]
  },
  {
   "cell_type": "markdown",
   "metadata": {},
   "source": [
    "You can use a subquery in the `WHERE` clause - this is useful, for example, if you want to filter a query based on results from another query.\n",
    "\n",
    "Let's say that we want to get a table with all of the departures and destinations for the flight routes, but I only want to include flights departing from the five countries with the most airports.\n",
    "\n",
    "To do this, we'd first need to identify the five countries that have the most airports. "
   ]
  },
  {
   "cell_type": "code",
   "execution_count": null,
   "metadata": {},
   "outputs": [],
   "source": [
    "# get top 5 countries\n"
   ]
  },
  {
   "cell_type": "markdown",
   "metadata": {},
   "source": [
    "I could enter these results into a new query of the routes table to get the data I want."
   ]
  },
  {
   "cell_type": "code",
   "execution_count": null,
   "metadata": {},
   "outputs": [],
   "source": [
    "pd.read_sql('''\n",
    "SELECT \n",
    "    rt.source AS depart_airport,\n",
    "    rt.dest AS destination_airport,\n",
    "    ap.country AS depart_country\n",
    "FROM\n",
    "    routes AS rt\n",
    "    LEFT JOIN airports AS ap\n",
    "        ON rt.source_id = ap.id\n",
    "WHERE \n",
    "    ap.country IN (\n",
    "        \"United States\", \n",
    "        \"Canada\", \n",
    "        \"Germany\", \n",
    "        \"Australia\", \n",
    "        \"Russia\"\n",
    "    )\n",
    "ORDER BY \n",
    "    depart_country\n",
    "''', conn)"
   ]
  },
  {
   "cell_type": "markdown",
   "metadata": {},
   "source": [
    "This approach works but has a few limitations:\n",
    "\n",
    "- We have to manually enter the countries to filter them\n",
    "- The list of countries won't update with our data, so we'd have to monitor and manually change them in the future\n",
    "- We have to look at two separate queries to understand what our code is supposed to do\n",
    "- We have to run two separate queries, which might take longer than one combined query\n",
    "\n",
    "A better solution uses a subquery to get the list of 5 countries and feed it into our WHERE clause."
   ]
  },
  {
   "cell_type": "code",
   "execution_count": null,
   "metadata": {},
   "outputs": [],
   "source": [
    "# Do it with a subquery!\n"
   ]
  },
  {
   "cell_type": "markdown",
   "metadata": {},
   "source": [
    "\n",
    "## Level Up: Common Table Expressions"
   ]
  },
  {
   "cell_type": "markdown",
   "metadata": {},
   "source": [
    "Common Table Expressions (CTEs) are a more readable way to implement subqueries, using `WITH` and `AS`."
   ]
  },
  {
   "cell_type": "code",
   "execution_count": null,
   "metadata": {},
   "outputs": [],
   "source": [
    "# Create a CTE"
   ]
  },
  {
   "cell_type": "markdown",
   "metadata": {},
   "source": [
    "### Exercise"
   ]
  },
  {
   "cell_type": "markdown",
   "metadata": {},
   "source": [
    "Create a table listing all airlines that serve the three airports with the most outbound routes."
   ]
  },
  {
   "cell_type": "code",
   "execution_count": null,
   "metadata": {},
   "outputs": [],
   "source": [
    "## Your work here\n"
   ]
  },
  {
   "cell_type": "markdown",
   "metadata": {},
   "source": [
    "# SQL Versions"
   ]
  },
  {
   "cell_type": "markdown",
   "metadata": {},
   "source": [
    "There is no one version of SQL - there are many versions out there! What you're learning about SQL with SQLite will apply to all of them. Just keep in mind when you apply for jobs that you may see any of these listed in any given job posting, and they are all just different versions of what you know."
   ]
  },
  {
   "cell_type": "markdown",
   "metadata": {},
   "source": [
    "## SQL Dialects"
   ]
  },
  {
   "cell_type": "markdown",
   "metadata": {},
   "source": [
    "As with dialects of spoken languages, SQL dialects have many commonalities but some differences in syntax and functionality.  Here are a few of the major players:\n",
    "\n",
    "- SQLite (we've already seen this!)\n",
    "- PostgreSQL (free and open-source!)\n",
    "- Oracle SQL\n",
    "- MySQL (half open-souce, half Oracle)\n",
    "- Microsoft SQL Server\n",
    "- Transact-SQL (extends MS SQL)"
   ]
  },
  {
   "cell_type": "markdown",
   "metadata": {},
   "source": [
    "## SQLite Pros & Cons"
   ]
  },
  {
   "cell_type": "markdown",
   "metadata": {},
   "source": [
    "We use SQLite in this course, but it has some limitations."
   ]
  },
  {
   "cell_type": "markdown",
   "metadata": {},
   "source": [
    "### Pros"
   ]
  },
  {
   "cell_type": "markdown",
   "metadata": {},
   "source": [
    "- Easy to set up\n",
    "- Easy to share database files\n",
    "- Uses little memory"
   ]
  },
  {
   "cell_type": "markdown",
   "metadata": {},
   "source": [
    "### Cons"
   ]
  },
  {
   "cell_type": "markdown",
   "metadata": {},
   "source": [
    "- Limited functionality for managing users and access permissions\n",
    "- Not \"thread safe\": two edits at the same time can mess up your data"
   ]
  },
  {
   "cell_type": "markdown",
   "metadata": {},
   "source": [
    "## Extra Resources: SQL Versions"
   ]
  },
  {
   "cell_type": "markdown",
   "metadata": {},
   "source": [
    "[What Is a SQL Dialect, and Which one Should You Learn?](https://learnsql.com/blog/what-sql-dialect-to-learn/)\n",
    "\n",
    "[SQLite vs MySQL vs PostgreSQL](https://www.digitalocean.com/community/tutorials/sqlite-vs-mysql-vs-postgresql-a-comparison-of-relational-database-management-systems)\n",
    "\n",
    "[SQL Dialect Reference](https://en.wikibooks.org/wiki/SQL_Dialects_Reference)"
   ]
  },
  {
   "cell_type": "markdown",
   "metadata": {},
   "source": [
    "# Web Databases: data.world"
   ]
  },
  {
   "cell_type": "markdown",
   "metadata": {},
   "source": [
    "For the rest of this lesson, we'll be exploring databases in [data.world](https://data.world/), a web database that we can query using SQL in our browser. For reference, you can see the instructions for creating a new project here: [Getting Started Working with Data at data.world](https://help.data.world/hc/en-us/articles/360008853693-Getting-started-guide#working_with_data)"
   ]
  },
  {
   "cell_type": "markdown",
   "metadata": {},
   "source": [
    "## Step 1: Create a data.world account"
   ]
  },
  {
   "cell_type": "markdown",
   "metadata": {},
   "source": [
    "You will need to enter and verify your email address."
   ]
  },
  {
   "cell_type": "markdown",
   "metadata": {},
   "source": [
    "## Step 2: Create a project using this [Austin AirBnB](https://data.world/jonloyens/inside-airbnb-austin) dataset"
   ]
  },
  {
   "cell_type": "markdown",
   "metadata": {},
   "source": [
    "Navigate to [this page](https://data.world/jonloyens/inside-airbnb-austin) and use the button at the top right of the page to create a new project using the data.\n",
    "\n",
    "![](./images/data_world_austin_airbnb_new_proj.png)"
   ]
  },
  {
   "cell_type": "markdown",
   "metadata": {},
   "source": [
    "## Step 3: Create a SQL query"
   ]
  },
  {
   "cell_type": "markdown",
   "metadata": {},
   "source": [
    "In your project, use the \"+ Add\" button to add a SQL query.\n",
    "\n",
    "![](./images/data_world_add_sql_query.png)"
   ]
  },
  {
   "cell_type": "markdown",
   "metadata": {},
   "source": [
    "## Step 4: Run a simple SQL query"
   ]
  },
  {
   "cell_type": "markdown",
   "metadata": {},
   "source": [
    "Try entering \"SELECT * FROM listings\" and clicking the \"Run Query\" button in the top right."
   ]
  },
  {
   "cell_type": "markdown",
   "metadata": {},
   "source": [
    "\n",
    "## Step 5: Practice using SQL to explore the data"
   ]
  },
  {
   "cell_type": "markdown",
   "metadata": {},
   "source": [
    "Below are some exercises to practice your SQL skills and help explore the data. You will need to explore the table schemas to complete these exercises. \n",
    "\n",
    "You may find it helpful to click on the corresponding .csv files to inspect the data, or look at the columns in each table in the right sidebar."
   ]
  },
  {
   "cell_type": "markdown",
   "metadata": {},
   "source": [
    "### Exercise 1: Create a table showing the number of listings in each neighborhood"
   ]
  },
  {
   "cell_type": "markdown",
   "metadata": {},
   "source": [
    "### Exercise 2: Create a table showing the 20 listings with the most reviews"
   ]
  },
  {
   "cell_type": "markdown",
   "metadata": {},
   "source": [
    "### Exercise 3: Create a table showing all of the reviews for listings that are \"Bed & Breakfast\" property types."
   ]
  },
  {
   "cell_type": "markdown",
   "metadata": {},
   "source": [
    "### Exercise 4: Run your own query using a subquery or CTE."
   ]
  },
  {
   "cell_type": "markdown",
   "metadata": {},
   "source": [
    "Note that the syntax and functionality for subqueries and CTEs in data.world are more limited than SQLite, so try creating simple ones."
   ]
  }
 ],
 "metadata": {
  "kernelspec": {
   "display_name": "Python 3 (ipykernel)",
   "language": "python",
   "name": "python3"
  },
  "language_info": {
   "codemirror_mode": {
    "name": "ipython",
    "version": 3
   },
   "file_extension": ".py",
   "mimetype": "text/x-python",
   "name": "python",
   "nbconvert_exporter": "python",
   "pygments_lexer": "ipython3",
   "version": "3.9.12"
  },
  "toc": {
   "base_numbering": 1,
   "nav_menu": {},
   "number_sections": true,
   "sideBar": true,
   "skip_h1_title": false,
   "title_cell": "Table of Contents",
   "title_sidebar": "TOC",
   "toc_cell": true,
   "toc_position": {
    "height": "calc(100% - 180px)",
    "left": "10px",
    "top": "150px",
    "width": "336px"
   },
   "toc_section_display": true,
   "toc_window_display": true
  },
  "varInspector": {
   "cols": {
    "lenName": 16,
    "lenType": 16,
    "lenVar": 40
   },
   "kernels_config": {
    "python": {
     "delete_cmd_postfix": "",
     "delete_cmd_prefix": "del ",
     "library": "var_list.py",
     "varRefreshCmd": "print(var_dic_list())"
    },
    "r": {
     "delete_cmd_postfix": ") ",
     "delete_cmd_prefix": "rm(",
     "library": "var_list.r",
     "varRefreshCmd": "cat(var_dic_list()) "
    }
   },
   "types_to_exclude": [
    "module",
    "function",
    "builtin_function_or_method",
    "instance",
    "_Feature"
   ],
   "window_display": true
  }
 },
 "nbformat": 4,
 "nbformat_minor": 2
}
