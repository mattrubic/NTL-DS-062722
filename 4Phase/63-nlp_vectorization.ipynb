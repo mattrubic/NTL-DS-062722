{
 "cells": [
  {
   "cell_type": "markdown",
   "metadata": {
    "heading_collapsed": true
   },
   "source": [
    "# NLP Vectorization"
   ]
  },
  {
   "cell_type": "code",
   "execution_count": 1,
   "metadata": {
    "hidden": true,
    "scrolled": true
   },
   "outputs": [],
   "source": [
    "%load_ext autoreload\n",
    "%autoreload 2\n",
    "\n",
    "import os\n",
    "import sys\n",
    "module_path = os.path.abspath(os.path.join(os.pardir, os.pardir))\n",
    "if module_path not in sys.path:\n",
    "    sys.path.append(module_path)\n",
    "    \n",
    "import pandas as pd\n",
    "import nltk\n",
    "from nltk.probability import FreqDist\n",
    "from nltk.corpus import stopwords\n",
    "from nltk.tokenize import regexp_tokenize, word_tokenize, RegexpTokenizer\n",
    "from nltk import pos_tag\n",
    "from nltk.corpus import wordnet\n",
    "import matplotlib.pyplot as plt\n",
    "import string\n",
    "import re\n",
    "\n",
    "# Notice that these vectorizers are from `sklearn` and not `nltk`!\n",
    "from sklearn.feature_extraction.text import CountVectorizer, TfidfVectorizer,\\\n",
    "HashingVectorizer"
   ]
  },
  {
   "cell_type": "markdown",
   "metadata": {
    "heading_collapsed": true,
    "hidden": true
   },
   "source": [
    "## Learning Goals"
   ]
  },
  {
   "cell_type": "markdown",
   "metadata": {
    "hidden": true
   },
   "source": [
    "- normalize a lexicon with stemming and lemmatization\n",
    "- run feature engineering algorithms for NLP\n",
    "    - bag-of-Words\n",
    "    - vectorization"
   ]
  },
  {
   "cell_type": "code",
   "execution_count": 2,
   "metadata": {
    "hidden": true
   },
   "outputs": [],
   "source": [
    "corpus = pd.read_csv('data/satire_nosatire.csv')\n",
    "sample_document = corpus.iloc[1].body"
   ]
  },
  {
   "cell_type": "code",
   "execution_count": 3,
   "metadata": {
    "hidden": true
   },
   "outputs": [],
   "source": [
    "pattern = \"([a-zA-Z]+(?:'[a-z]+)?)\"\n",
    "tokenizer = RegexpTokenizer(pattern)\n",
    "sample_doc = tokenizer.tokenize(sample_document)\n",
    "sample_doc = [token.lower() for token in sample_doc]\n",
    "sw = stopwords.words('english')\n",
    "sample_doc = [token for token in sample_doc if token not in sw]"
   ]
  },
  {
   "cell_type": "code",
   "execution_count": 4,
   "metadata": {
    "hidden": true
   },
   "outputs": [
    {
     "data": {
      "text/plain": [
       "['desperate',\n",
       " 'unwind',\n",
       " 'months',\n",
       " 'nonstop',\n",
       " 'work',\n",
       " 'investigating',\n",
       " 'russian',\n",
       " 'influence',\n",
       " 'election',\n",
       " 'visibly',\n",
       " 'exhausted',\n",
       " 'special',\n",
       " 'counsel',\n",
       " 'robert',\n",
       " 'mueller',\n",
       " 'powered',\n",
       " 'phone',\n",
       " 'friday',\n",
       " 'order',\n",
       " 'give',\n",
       " 'break',\n",
       " 'news',\n",
       " 'concerning',\n",
       " 'probe',\n",
       " 'holiday',\n",
       " 'break',\n",
       " 'last',\n",
       " 'thing',\n",
       " 'want',\n",
       " 'spending',\n",
       " 'time',\n",
       " 'family',\n",
       " 'cascade',\n",
       " 'push',\n",
       " 'notifications',\n",
       " 'telling',\n",
       " 'yet',\n",
       " 'another',\n",
       " 'russian',\n",
       " 'oligarch',\n",
       " 'political',\n",
       " 'operative',\n",
       " 'highly',\n",
       " 'placed',\n",
       " 'socialite',\n",
       " 'used',\n",
       " 'deutsche',\n",
       " 'bank',\n",
       " 'channels',\n",
       " 'funnel',\n",
       " 'money',\n",
       " 'campaign',\n",
       " 'said',\n",
       " 'former',\n",
       " 'fbi',\n",
       " 'director',\n",
       " 'firmly',\n",
       " 'holding',\n",
       " 'phone',\n",
       " 'power',\n",
       " 'button',\n",
       " 'adding',\n",
       " 'wants',\n",
       " 'completely',\n",
       " 'present',\n",
       " 'moment',\n",
       " 'celebrating',\n",
       " 'loved',\n",
       " 'ones',\n",
       " 'ruminating',\n",
       " 'met',\n",
       " 'diplomat',\n",
       " 'whether',\n",
       " 'someone',\n",
       " 'using',\n",
       " 'social',\n",
       " 'media',\n",
       " 'tamper',\n",
       " 'witnesses',\n",
       " 'want',\n",
       " 'two',\n",
       " 'calm',\n",
       " 'weeks',\n",
       " 'even',\n",
       " 'think',\n",
       " 'individual',\n",
       " 'one',\n",
       " 'even',\n",
       " 'say',\n",
       " 'name',\n",
       " 'wait',\n",
       " 'hear',\n",
       " 'important',\n",
       " 'developments',\n",
       " 'january',\n",
       " 'since',\n",
       " 'know',\n",
       " 'second',\n",
       " 'read',\n",
       " 'say',\n",
       " 'something',\n",
       " 'eric',\n",
       " 'involved',\n",
       " 'deeply',\n",
       " 'previously',\n",
       " 'suspected',\n",
       " 'get',\n",
       " 'pulled',\n",
       " 'back',\n",
       " 'ruin',\n",
       " 'whole',\n",
       " 'vacation',\n",
       " 'press',\n",
       " 'time',\n",
       " 'mueller',\n",
       " 'reactivated',\n",
       " 'phone',\n",
       " 'check',\n",
       " 'news',\n",
       " 'real',\n",
       " 'quick']"
      ]
     },
     "execution_count": 4,
     "metadata": {},
     "output_type": "execute_result"
    }
   ],
   "source": [
    "sample_doc"
   ]
  },
  {
   "cell_type": "code",
   "execution_count": 5,
   "metadata": {
    "hidden": true
   },
   "outputs": [
    {
     "data": {
      "text/plain": [
       "111"
      ]
     },
     "execution_count": 5,
     "metadata": {},
     "output_type": "execute_result"
    }
   ],
   "source": [
    "len(set(sample_doc))"
   ]
  },
  {
   "cell_type": "markdown",
   "metadata": {
    "heading_collapsed": true,
    "hidden": true
   },
   "source": [
    "### Stemming and Lemmatizing"
   ]
  },
  {
   "cell_type": "markdown",
   "metadata": {
    "heading_collapsed": true,
    "hidden": true
   },
   "source": [
    "#### Stemming"
   ]
  },
  {
   "cell_type": "markdown",
   "metadata": {
    "hidden": true
   },
   "source": [
    "Most of the semantic meaning of a word is held in the root, which is usually the beginning of a word.  Conjugations and plurality do not change the semantic meaning. \"eat\", \"eats\", and \"eating\" all have essentially the same meaning. The rest is grammatical variation for the sake of marking things like tense or person or number.   \n",
    "\n",
    "Stemmers consolidate similar words by chopping off the ends of the words."
   ]
  },
  {
   "cell_type": "markdown",
   "metadata": {
    "hidden": true
   },
   "source": [
    "![stemmer](images/stemmer.png)"
   ]
  },
  {
   "cell_type": "markdown",
   "metadata": {
    "hidden": true
   },
   "source": [
    "There are different stemmers available.  The two we will use here are the **Porter** and **Snowball** stemmers.  A main difference between the two is how aggressively it stems, Porter being less aggressive."
   ]
  },
  {
   "cell_type": "code",
   "execution_count": 6,
   "metadata": {
    "hidden": true
   },
   "outputs": [],
   "source": [
    "p_stemmer = nltk.stem.PorterStemmer()\n",
    "s_stemmer = nltk.stem.SnowballStemmer(language=\"english\")"
   ]
  },
  {
   "cell_type": "code",
   "execution_count": 7,
   "metadata": {
    "hidden": true
   },
   "outputs": [
    {
     "data": {
      "text/plain": [
       "'desperate'"
      ]
     },
     "execution_count": 7,
     "metadata": {},
     "output_type": "execute_result"
    }
   ],
   "source": [
    "sample_doc[0]"
   ]
  },
  {
   "cell_type": "code",
   "execution_count": 8,
   "metadata": {
    "hidden": true
   },
   "outputs": [
    {
     "data": {
      "text/plain": [
       "'desper'"
      ]
     },
     "execution_count": 8,
     "metadata": {},
     "output_type": "execute_result"
    }
   ],
   "source": [
    "p_stemmer.stem(sample_doc[0])"
   ]
  },
  {
   "cell_type": "code",
   "execution_count": 9,
   "metadata": {
    "hidden": true
   },
   "outputs": [
    {
     "data": {
      "text/plain": [
       "'desper'"
      ]
     },
     "execution_count": 9,
     "metadata": {},
     "output_type": "execute_result"
    }
   ],
   "source": [
    "s_stemmer.stem(sample_doc[0])"
   ]
  },
  {
   "cell_type": "code",
   "execution_count": 10,
   "metadata": {
    "hidden": true
   },
   "outputs": [
    {
     "name": "stdout",
     "output_type": "stream",
     "text": [
      "highly highli high\n",
      "firmly firmli firm\n"
     ]
    }
   ],
   "source": [
    "for word in sample_doc:\n",
    "    p_word = p_stemmer.stem(word)\n",
    "    s_word = s_stemmer.stem(word)\n",
    "    \n",
    "    if p_word != s_word:\n",
    "        print(word, p_word, s_word)"
   ]
  },
  {
   "cell_type": "code",
   "execution_count": 11,
   "metadata": {
    "hidden": true
   },
   "outputs": [],
   "source": [
    "sample_doc = [p_stemmer.stem(word) for word in sample_doc]"
   ]
  },
  {
   "cell_type": "code",
   "execution_count": 12,
   "metadata": {
    "hidden": true
   },
   "outputs": [
    {
     "data": {
      "image/png": "[encoded data removed]",
      "text/plain": [
       "<Figure size 1000x1000 with 1 Axes>"
      ]
     },
     "metadata": {},
     "output_type": "display_data"
    }
   ],
   "source": [
    "fdist = FreqDist(sample_doc)\n",
    "plt.figure(figsize=(10, 10))\n",
    "fdist.plot(30);"
   ]
  },
  {
   "cell_type": "code",
   "execution_count": 13,
   "metadata": {
    "hidden": true
   },
   "outputs": [
    {
     "name": "stdout",
     "output_type": "stream",
     "text": [
      "Stemming slightly reduced our token count: 107 unique tokens\n"
     ]
    }
   ],
   "source": [
    "print(f'Stemming slightly reduced our token count: {len(set(sample_doc))} unique tokens')"
   ]
  },
  {
   "cell_type": "markdown",
   "metadata": {
    "heading_collapsed": true,
    "hidden": true
   },
   "source": [
    "#### Lemmatizing"
   ]
  },
  {
   "cell_type": "markdown",
   "metadata": {
    "hidden": true
   },
   "source": [
    "Lemmatizing is a bit more sophisticated than the stem choppers. Lemmatizing uses part-of-speech tagging to determine how to transform a word.\n",
    "\n",
    "- Unlike Stemming, Lemmatization reduces the inflected words, properly ensuring that the root word belongs to the language. It can handle words such as \"mouse\", whose plural \"mice\" the stemmers would not lump together with the original. \n",
    "\n",
    "- In Lemmatization, the root word is called the \"lemma\". \n",
    "\n",
    "- A lemma (plural lemmas or lemmata) is the canonical form, dictionary form, or citation form of a set of words.\n",
    "\n",
    "![lemmer](images/lemmer.png)"
   ]
  },
  {
   "cell_type": "code",
   "execution_count": 14,
   "metadata": {
    "hidden": true
   },
   "outputs": [
    {
     "name": "stderr",
     "output_type": "stream",
     "text": [
      "[nltk_data] Downloading package wordnet to\n",
      "[nltk_data]     C:\\Users\\user\\AppData\\Roaming\\nltk_data...\n"
     ]
    },
    {
     "data": {
      "text/plain": [
       "True"
      ]
     },
     "execution_count": 14,
     "metadata": {},
     "output_type": "execute_result"
    }
   ],
   "source": [
    "nltk.download('wordnet')"
   ]
  },
  {
   "cell_type": "code",
   "execution_count": 17,
   "metadata": {},
   "outputs": [
    {
     "name": "stderr",
     "output_type": "stream",
     "text": [
      "[nltk_data] Downloading package omw-1.4 to\n",
      "[nltk_data]     C:\\Users\\user\\AppData\\Roaming\\nltk_data...\n"
     ]
    },
    {
     "data": {
      "text/plain": [
       "True"
      ]
     },
     "execution_count": 17,
     "metadata": {},
     "output_type": "execute_result"
    }
   ],
   "source": [
    "nltk.download('omw-1.4')"
   ]
  },
  {
   "cell_type": "code",
   "execution_count": 18,
   "metadata": {
    "hidden": true
   },
   "outputs": [],
   "source": [
    "lemmatizer = nltk.stem.WordNetLemmatizer()"
   ]
  },
  {
   "cell_type": "code",
   "execution_count": 19,
   "metadata": {
    "hidden": true
   },
   "outputs": [
    {
     "name": "stdout",
     "output_type": "stream",
     "text": [
      "\"Mice\" becomes: mouse\n",
      "\"Media\" becomes: medium\n"
     ]
    }
   ],
   "source": [
    "print(f'\"Mice\" becomes: {lemmatizer.lemmatize(\"mice\")}')\n",
    "print(f'\"Media\" becomes: {lemmatizer.lemmatize(sample_doc[76])}')"
   ]
  },
  {
   "cell_type": "code",
   "execution_count": 20,
   "metadata": {
    "hidden": true
   },
   "outputs": [
    {
     "data": {
      "text/plain": [
       "['He', 'saw', 'the', 'tree', 'get', 'sawed', 'down']"
      ]
     },
     "execution_count": 20,
     "metadata": {},
     "output_type": "execute_result"
    }
   ],
   "source": [
    "# However, look at the output below:\n",
    "    \n",
    "sentence = \"He saw the trees get sawed down\"\n",
    "lemmed_sentence = [lemmatizer.lemmatize(token) for token in sentence.split(' ')]\n",
    "lemmed_sentence"
   ]
  },
  {
   "cell_type": "markdown",
   "metadata": {
    "hidden": true
   },
   "source": [
    "Lemmatizers depend, for their full functionality, on POS (Part of Speech) tagging, and **the default tag is 'noun'**."
   ]
  },
  {
   "cell_type": "markdown",
   "metadata": {
    "hidden": true
   },
   "source": [
    "With a little bit of work, we can POS tag our text."
   ]
  },
  {
   "cell_type": "code",
   "execution_count": 21,
   "metadata": {
    "hidden": true
   },
   "outputs": [
    {
     "data": {
      "text/plain": [
       "'Desperate to unwind after months of nonstop work investigating Russian influence in the 2016 election, visibly exhausted Special Counsel Robert Mueller powered his phone down Friday in order to give himself a break from any news concerning the probe over the holiday break. “The last thing I want when I’m spending time with my family is a cascade of push notifications telling me yet another Russian oligarch, political operative, or highly placed socialite used Deutsche Bank channels to funnel money to the campaign,” said the former FBI director, firmly holding down his phone’s power button and adding that he wants to be “completely present in the moment” while celebrating with his loved ones, not ruminating about who met with which diplomat or whether someone was using social media to tamper with his witnesses. “I just want to have two calm weeks where I don’t even think about Individual One. I won’t even say his name. I’ll have to wait to hear about any important developments in January, since I just know the second I read, say, something about Eric being involved more deeply than we previously suspected, I’ll get pulled back in and ruin my whole vacation.” At press time, Mueller had reactivated his phone just to check the news real quick. '"
      ]
     },
     "execution_count": 21,
     "metadata": {},
     "output_type": "execute_result"
    }
   ],
   "source": [
    "pattern = \"([a-zA-Z]+(?:'[a-z]+)?)\"\n",
    "tokenizer = RegexpTokenizer(pattern)\n",
    "sample_doc = tokenizer.tokenize(sample_document)\n",
    "sample_doc = [token.lower() for token in sample_doc]\n",
    "sample_doc = [token for token in sample_doc if token not in sw]\n",
    "corpus.loc[1].body"
   ]
  },
  {
   "cell_type": "code",
   "execution_count": 22,
   "metadata": {
    "hidden": true
   },
   "outputs": [
    {
     "data": {
      "text/plain": [
       "['desperate',\n",
       " 'unwind',\n",
       " 'months',\n",
       " 'nonstop',\n",
       " 'work',\n",
       " 'investigating',\n",
       " 'russian',\n",
       " 'influence',\n",
       " 'election',\n",
       " 'visibly',\n",
       " 'exhausted',\n",
       " 'special',\n",
       " 'counsel',\n",
       " 'robert',\n",
       " 'mueller',\n",
       " 'powered',\n",
       " 'phone',\n",
       " 'friday',\n",
       " 'order',\n",
       " 'give',\n",
       " 'break',\n",
       " 'news',\n",
       " 'concerning',\n",
       " 'probe',\n",
       " 'holiday',\n",
       " 'break',\n",
       " 'last',\n",
       " 'thing',\n",
       " 'want',\n",
       " 'spending',\n",
       " 'time',\n",
       " 'family',\n",
       " 'cascade',\n",
       " 'push',\n",
       " 'notifications',\n",
       " 'telling',\n",
       " 'yet',\n",
       " 'another',\n",
       " 'russian',\n",
       " 'oligarch',\n",
       " 'political',\n",
       " 'operative',\n",
       " 'highly',\n",
       " 'placed',\n",
       " 'socialite',\n",
       " 'used',\n",
       " 'deutsche',\n",
       " 'bank',\n",
       " 'channels',\n",
       " 'funnel',\n",
       " 'money',\n",
       " 'campaign',\n",
       " 'said',\n",
       " 'former',\n",
       " 'fbi',\n",
       " 'director',\n",
       " 'firmly',\n",
       " 'holding',\n",
       " 'phone',\n",
       " 'power',\n",
       " 'button',\n",
       " 'adding',\n",
       " 'wants',\n",
       " 'completely',\n",
       " 'present',\n",
       " 'moment',\n",
       " 'celebrating',\n",
       " 'loved',\n",
       " 'ones',\n",
       " 'ruminating',\n",
       " 'met',\n",
       " 'diplomat',\n",
       " 'whether',\n",
       " 'someone',\n",
       " 'using',\n",
       " 'social',\n",
       " 'media',\n",
       " 'tamper',\n",
       " 'witnesses',\n",
       " 'want',\n",
       " 'two',\n",
       " 'calm',\n",
       " 'weeks',\n",
       " 'even',\n",
       " 'think',\n",
       " 'individual',\n",
       " 'one',\n",
       " 'even',\n",
       " 'say',\n",
       " 'name',\n",
       " 'wait',\n",
       " 'hear',\n",
       " 'important',\n",
       " 'developments',\n",
       " 'january',\n",
       " 'since',\n",
       " 'know',\n",
       " 'second',\n",
       " 'read',\n",
       " 'say',\n",
       " 'something',\n",
       " 'eric',\n",
       " 'involved',\n",
       " 'deeply',\n",
       " 'previously',\n",
       " 'suspected',\n",
       " 'get',\n",
       " 'pulled',\n",
       " 'back',\n",
       " 'ruin',\n",
       " 'whole',\n",
       " 'vacation',\n",
       " 'press',\n",
       " 'time',\n",
       " 'mueller',\n",
       " 'reactivated',\n",
       " 'phone',\n",
       " 'check',\n",
       " 'news',\n",
       " 'real',\n",
       " 'quick']"
      ]
     },
     "execution_count": 22,
     "metadata": {},
     "output_type": "execute_result"
    }
   ],
   "source": [
    "sample_doc"
   ]
  },
  {
   "cell_type": "code",
   "execution_count": 23,
   "metadata": {
    "hidden": true
   },
   "outputs": [
    {
     "name": "stderr",
     "output_type": "stream",
     "text": [
      "[nltk_data] Downloading package tagsets to\n",
      "[nltk_data]     C:\\Users\\user\\AppData\\Roaming\\nltk_data...\n",
      "[nltk_data]   Unzipping help\\tagsets.zip.\n",
      "[nltk_data] Downloading package averaged_perceptron_tagger to\n",
      "[nltk_data]     C:\\Users\\user\\AppData\\Roaming\\nltk_data...\n"
     ]
    },
    {
     "name": "stdout",
     "output_type": "stream",
     "text": [
      "$: dollar\n",
      "    $ -$ --$ A$ C$ HK$ M$ NZ$ S$ U.S.$ US$\n",
      "'': closing quotation mark\n",
      "    ' ''\n",
      "(: opening parenthesis\n",
      "    ( [ {\n",
      "): closing parenthesis\n",
      "    ) ] }\n",
      ",: comma\n",
      "    ,\n",
      "--: dash\n",
      "    --\n",
      ".: sentence terminator\n",
      "    . ! ?\n",
      ":: colon or ellipsis\n",
      "    : ; ...\n",
      "CC: conjunction, coordinating\n",
      "    & 'n and both but either et for less minus neither nor or plus so\n",
      "    therefore times v. versus vs. whether yet\n",
      "CD: numeral, cardinal\n",
      "    mid-1890 nine-thirty forty-two one-tenth ten million 0.5 one forty-\n",
      "    seven 1987 twenty '79 zero two 78-degrees eighty-four IX '60s .025\n",
      "    fifteen 271,124 dozen quintillion DM2,000 ...\n",
      "DT: determiner\n",
      "    all an another any both del each either every half la many much nary\n",
      "    neither no some such that the them these this those\n",
      "EX: existential there\n",
      "    there\n",
      "FW: foreign word\n",
      "    gemeinschaft hund ich jeux habeas Haementeria Herr K'ang-si vous\n",
      "    lutihaw alai je jour objets salutaris fille quibusdam pas trop Monte\n",
      "    terram fiche oui corporis ...\n",
      "IN: preposition or conjunction, subordinating\n",
      "    astride among uppon whether out inside pro despite on by throughout\n",
      "    below within for towards near behind atop around if like until below\n",
      "    next into if beside ...\n",
      "JJ: adjective or numeral, ordinal\n",
      "    third ill-mannered pre-war regrettable oiled calamitous first separable\n",
      "    ectoplasmic battery-powered participatory fourth still-to-be-named\n",
      "    multilingual multi-disciplinary ...\n",
      "JJR: adjective, comparative\n",
      "    bleaker braver breezier briefer brighter brisker broader bumper busier\n",
      "    calmer cheaper choosier cleaner clearer closer colder commoner costlier\n",
      "    cozier creamier crunchier cuter ...\n",
      "JJS: adjective, superlative\n",
      "    calmest cheapest choicest classiest cleanest clearest closest commonest\n",
      "    corniest costliest crassest creepiest crudest cutest darkest deadliest\n",
      "    dearest deepest densest dinkiest ...\n",
      "LS: list item marker\n",
      "    A A. B B. C C. D E F First G H I J K One SP-44001 SP-44002 SP-44005\n",
      "    SP-44007 Second Third Three Two * a b c d first five four one six three\n",
      "    two\n",
      "MD: modal auxiliary\n",
      "    can cannot could couldn't dare may might must need ought shall should\n",
      "    shouldn't will would\n",
      "NN: noun, common, singular or mass\n",
      "    common-carrier cabbage knuckle-duster Casino afghan shed thermostat\n",
      "    investment slide humour falloff slick wind hyena override subhumanity\n",
      "    machinist ...\n",
      "NNP: noun, proper, singular\n",
      "    Motown Venneboerger Czestochwa Ranzer Conchita Trumplane Christos\n",
      "    Oceanside Escobar Kreisler Sawyer Cougar Yvette Ervin ODI Darryl CTCA\n",
      "    Shannon A.K.C. Meltex Liverpool ...\n",
      "NNPS: noun, proper, plural\n",
      "    Americans Americas Amharas Amityvilles Amusements Anarcho-Syndicalists\n",
      "    Andalusians Andes Andruses Angels Animals Anthony Antilles Antiques\n",
      "    Apache Apaches Apocrypha ...\n",
      "NNS: noun, common, plural\n",
      "    undergraduates scotches bric-a-brac products bodyguards facets coasts\n",
      "    divestitures storehouses designs clubs fragrances averages\n",
      "    subjectivists apprehensions muses factory-jobs ...\n",
      "PDT: pre-determiner\n",
      "    all both half many quite such sure this\n",
      "POS: genitive marker\n",
      "    ' 's\n",
      "PRP: pronoun, personal\n",
      "    hers herself him himself hisself it itself me myself one oneself ours\n",
      "    ourselves ownself self she thee theirs them themselves they thou thy us\n",
      "PRP$: pronoun, possessive\n",
      "    her his mine my our ours their thy your\n",
      "RB: adverb\n",
      "    occasionally unabatingly maddeningly adventurously professedly\n",
      "    stirringly prominently technologically magisterially predominately\n",
      "    swiftly fiscally pitilessly ...\n",
      "RBR: adverb, comparative\n",
      "    further gloomier grander graver greater grimmer harder harsher\n",
      "    healthier heavier higher however larger later leaner lengthier less-\n",
      "    perfectly lesser lonelier longer louder lower more ...\n",
      "RBS: adverb, superlative\n",
      "    best biggest bluntest earliest farthest first furthest hardest\n",
      "    heartiest highest largest least less most nearest second tightest worst\n",
      "RP: particle\n",
      "    aboard about across along apart around aside at away back before behind\n",
      "    by crop down ever fast for forth from go high i.e. in into just later\n",
      "    low more off on open out over per pie raising start teeth that through\n",
      "    under unto up up-pp upon whole with you\n",
      "SYM: symbol\n",
      "    % & ' '' ''. ) ). * + ,. < = > @ A[fj] U.S U.S.S.R * ** ***\n",
      "TO: \"to\" as preposition or infinitive marker\n",
      "    to\n",
      "UH: interjection\n",
      "    Goodbye Goody Gosh Wow Jeepers Jee-sus Hubba Hey Kee-reist Oops amen\n",
      "    huh howdy uh dammit whammo shucks heck anyways whodunnit honey golly\n",
      "    man baby diddle hush sonuvabitch ...\n",
      "VB: verb, base form\n",
      "    ask assemble assess assign assume atone attention avoid bake balkanize\n",
      "    bank begin behold believe bend benefit bevel beware bless boil bomb\n",
      "    boost brace break bring broil brush build ...\n",
      "VBD: verb, past tense\n",
      "    dipped pleaded swiped regummed soaked tidied convened halted registered\n",
      "    cushioned exacted snubbed strode aimed adopted belied figgered\n",
      "    speculated wore appreciated contemplated ...\n",
      "VBG: verb, present participle or gerund\n",
      "    telegraphing stirring focusing angering judging stalling lactating\n",
      "    hankerin' alleging veering capping approaching traveling besieging\n",
      "    encrypting interrupting erasing wincing ...\n",
      "VBN: verb, past participle\n",
      "    multihulled dilapidated aerosolized chaired languished panelized used\n",
      "    experimented flourished imitated reunifed factored condensed sheared\n",
      "    unsettled primed dubbed desired ...\n",
      "VBP: verb, present tense, not 3rd person singular\n",
      "    predominate wrap resort sue twist spill cure lengthen brush terminate\n",
      "    appear tend stray glisten obtain comprise detest tease attract\n",
      "    emphasize mold postpone sever return wag ...\n",
      "VBZ: verb, present tense, 3rd person singular\n",
      "    bases reconstructs marks mixes displeases seals carps weaves snatches\n",
      "    slumps stretches authorizes smolders pictures emerges stockpiles\n",
      "    seduces fizzes uses bolsters slaps speaks pleads ...\n",
      "WDT: WH-determiner\n",
      "    that what whatever which whichever\n",
      "WP: WH-pronoun\n",
      "    that what whatever whatsoever which who whom whosoever\n",
      "WP$: WH-pronoun, possessive\n",
      "    whose\n",
      "WRB: Wh-adverb\n",
      "    how however whence whenever where whereby whereever wherein whereof why\n",
      "``: opening quotation mark\n",
      "    ` ``\n"
     ]
    },
    {
     "name": "stderr",
     "output_type": "stream",
     "text": [
      "[nltk_data]   Unzipping taggers\\averaged_perceptron_tagger.zip.\n"
     ]
    }
   ],
   "source": [
    "nltk.download('tagsets')\n",
    "nltk.download('averaged_perceptron_tagger')\n",
    "nltk.help.upenn_tagset()"
   ]
  },
  {
   "cell_type": "code",
   "execution_count": 24,
   "metadata": {
    "hidden": true
   },
   "outputs": [
    {
     "data": {
      "text/plain": [
       "[('desperate', 'JJ'),\n",
       " ('unwind', 'JJ'),\n",
       " ('months', 'NNS'),\n",
       " ('nonstop', 'JJ'),\n",
       " ('work', 'NN'),\n",
       " ('investigating', 'VBG'),\n",
       " ('russian', 'JJ'),\n",
       " ('influence', 'NN'),\n",
       " ('election', 'NN'),\n",
       " ('visibly', 'RB'),\n",
       " ('exhausted', 'VBD'),\n",
       " ('special', 'JJ'),\n",
       " ('counsel', 'NN'),\n",
       " ('robert', 'NN'),\n",
       " ('mueller', 'NN'),\n",
       " ('powered', 'VBD'),\n",
       " ('phone', 'NN'),\n",
       " ('friday', 'NN'),\n",
       " ('order', 'NN'),\n",
       " ('give', 'VBP'),\n",
       " ('break', 'NN'),\n",
       " ('news', 'NN'),\n",
       " ('concerning', 'VBG'),\n",
       " ('probe', 'NN'),\n",
       " ('holiday', 'NN'),\n",
       " ('break', 'IN'),\n",
       " ('last', 'JJ'),\n",
       " ('thing', 'NN'),\n",
       " ('want', 'VB'),\n",
       " ('spending', 'NN'),\n",
       " ('time', 'NN'),\n",
       " ('family', 'NN'),\n",
       " ('cascade', 'VBD'),\n",
       " ('push', 'JJ'),\n",
       " ('notifications', 'NNS'),\n",
       " ('telling', 'VBG'),\n",
       " ('yet', 'RB'),\n",
       " ('another', 'DT'),\n",
       " ('russian', 'JJ'),\n",
       " ('oligarch', 'NN'),\n",
       " ('political', 'JJ'),\n",
       " ('operative', 'JJ'),\n",
       " ('highly', 'RB'),\n",
       " ('placed', 'VBN'),\n",
       " ('socialite', 'NN'),\n",
       " ('used', 'VBN'),\n",
       " ('deutsche', 'NN'),\n",
       " ('bank', 'NN'),\n",
       " ('channels', 'NNS'),\n",
       " ('funnel', 'VBP'),\n",
       " ('money', 'NN'),\n",
       " ('campaign', 'NN'),\n",
       " ('said', 'VBD'),\n",
       " ('former', 'JJ'),\n",
       " ('fbi', 'NNS'),\n",
       " ('director', 'NN'),\n",
       " ('firmly', 'RB'),\n",
       " ('holding', 'VBG'),\n",
       " ('phone', 'NN'),\n",
       " ('power', 'NN'),\n",
       " ('button', 'NN'),\n",
       " ('adding', 'VBG'),\n",
       " ('wants', 'VBZ'),\n",
       " ('completely', 'RB'),\n",
       " ('present', 'JJ'),\n",
       " ('moment', 'NN'),\n",
       " ('celebrating', 'VBG'),\n",
       " ('loved', 'VBN'),\n",
       " ('ones', 'NNS'),\n",
       " ('ruminating', 'VBG'),\n",
       " ('met', 'VBD'),\n",
       " ('diplomat', 'NN'),\n",
       " ('whether', 'IN'),\n",
       " ('someone', 'NN'),\n",
       " ('using', 'VBG'),\n",
       " ('social', 'JJ'),\n",
       " ('media', 'NNS'),\n",
       " ('tamper', 'JJ'),\n",
       " ('witnesses', 'NNS'),\n",
       " ('want', 'VBP'),\n",
       " ('two', 'CD'),\n",
       " ('calm', 'JJ'),\n",
       " ('weeks', 'NNS'),\n",
       " ('even', 'RB'),\n",
       " ('think', 'VBP'),\n",
       " ('individual', 'JJ'),\n",
       " ('one', 'CD'),\n",
       " ('even', 'RB'),\n",
       " ('say', 'VBP'),\n",
       " ('name', 'NN'),\n",
       " ('wait', 'VBP'),\n",
       " ('hear', 'JJ'),\n",
       " ('important', 'JJ'),\n",
       " ('developments', 'NNS'),\n",
       " ('january', 'JJ'),\n",
       " ('since', 'IN'),\n",
       " ('know', 'JJ'),\n",
       " ('second', 'JJ'),\n",
       " ('read', 'NNS'),\n",
       " ('say', 'VBP'),\n",
       " ('something', 'NN'),\n",
       " ('eric', 'JJ'),\n",
       " ('involved', 'VBN'),\n",
       " ('deeply', 'RB'),\n",
       " ('previously', 'RB'),\n",
       " ('suspected', 'VBN'),\n",
       " ('get', 'NN'),\n",
       " ('pulled', 'VBN'),\n",
       " ('back', 'RB'),\n",
       " ('ruin', 'JJ'),\n",
       " ('whole', 'JJ'),\n",
       " ('vacation', 'NN'),\n",
       " ('press', 'NN'),\n",
       " ('time', 'NN'),\n",
       " ('mueller', 'NN'),\n",
       " ('reactivated', 'VBD'),\n",
       " ('phone', 'NN'),\n",
       " ('check', 'NN'),\n",
       " ('news', 'NN'),\n",
       " ('real', 'JJ'),\n",
       " ('quick', 'NN')]"
      ]
     },
     "execution_count": 24,
     "metadata": {},
     "output_type": "execute_result"
    }
   ],
   "source": [
    "# Use nltk's pos_tag to tag our words\n",
    "# Does a pretty good job, but does make some mistakes\n",
    "\n",
    "sample_doc_tagged = pos_tag(sample_doc)\n",
    "sample_doc_tagged"
   ]
  },
  {
   "cell_type": "code",
   "execution_count": 25,
   "metadata": {
    "hidden": true
   },
   "outputs": [],
   "source": [
    "# Then transform the tags into the tags of our lemmatizers\n",
    "\n",
    "def get_wordnet_pos(treebank_tag):\n",
    "    '''\n",
    "    Translate nltk POS to wordnet tags\n",
    "    '''\n",
    "    if treebank_tag.startswith('J'):\n",
    "        return wordnet.ADJ\n",
    "    elif treebank_tag.startswith('V'):\n",
    "        return wordnet.VERB\n",
    "    elif treebank_tag.startswith('N'):\n",
    "        return wordnet.NOUN\n",
    "    elif treebank_tag.startswith('R'):\n",
    "        return wordnet.ADV\n",
    "    else:\n",
    "        return wordnet.NOUN"
   ]
  },
  {
   "cell_type": "code",
   "execution_count": 26,
   "metadata": {
    "hidden": true
   },
   "outputs": [],
   "source": [
    "sample_doc_tagged = [(token[0], get_wordnet_pos(token[1]))\n",
    "             for token in sample_doc_tagged]"
   ]
  },
  {
   "cell_type": "code",
   "execution_count": 27,
   "metadata": {
    "hidden": true
   },
   "outputs": [
    {
     "data": {
      "text/plain": [
       "[('desperate', 'a'),\n",
       " ('unwind', 'a'),\n",
       " ('months', 'n'),\n",
       " ('nonstop', 'a'),\n",
       " ('work', 'n'),\n",
       " ('investigating', 'v'),\n",
       " ('russian', 'a'),\n",
       " ('influence', 'n'),\n",
       " ('election', 'n'),\n",
       " ('visibly', 'r'),\n",
       " ('exhausted', 'v'),\n",
       " ('special', 'a'),\n",
       " ('counsel', 'n'),\n",
       " ('robert', 'n'),\n",
       " ('mueller', 'n'),\n",
       " ('powered', 'v'),\n",
       " ('phone', 'n'),\n",
       " ('friday', 'n'),\n",
       " ('order', 'n'),\n",
       " ('give', 'v'),\n",
       " ('break', 'n'),\n",
       " ('news', 'n'),\n",
       " ('concerning', 'v'),\n",
       " ('probe', 'n'),\n",
       " ('holiday', 'n'),\n",
       " ('break', 'n'),\n",
       " ('last', 'a'),\n",
       " ('thing', 'n'),\n",
       " ('want', 'v'),\n",
       " ('spending', 'n'),\n",
       " ('time', 'n'),\n",
       " ('family', 'n'),\n",
       " ('cascade', 'v'),\n",
       " ('push', 'a'),\n",
       " ('notifications', 'n'),\n",
       " ('telling', 'v'),\n",
       " ('yet', 'r'),\n",
       " ('another', 'n'),\n",
       " ('russian', 'a'),\n",
       " ('oligarch', 'n'),\n",
       " ('political', 'a'),\n",
       " ('operative', 'a'),\n",
       " ('highly', 'r'),\n",
       " ('placed', 'v'),\n",
       " ('socialite', 'n'),\n",
       " ('used', 'v'),\n",
       " ('deutsche', 'n'),\n",
       " ('bank', 'n'),\n",
       " ('channels', 'n'),\n",
       " ('funnel', 'v'),\n",
       " ('money', 'n'),\n",
       " ('campaign', 'n'),\n",
       " ('said', 'v'),\n",
       " ('former', 'a'),\n",
       " ('fbi', 'n'),\n",
       " ('director', 'n'),\n",
       " ('firmly', 'r'),\n",
       " ('holding', 'v'),\n",
       " ('phone', 'n'),\n",
       " ('power', 'n'),\n",
       " ('button', 'n'),\n",
       " ('adding', 'v'),\n",
       " ('wants', 'v'),\n",
       " ('completely', 'r'),\n",
       " ('present', 'a'),\n",
       " ('moment', 'n'),\n",
       " ('celebrating', 'v'),\n",
       " ('loved', 'v'),\n",
       " ('ones', 'n'),\n",
       " ('ruminating', 'v'),\n",
       " ('met', 'v'),\n",
       " ('diplomat', 'n'),\n",
       " ('whether', 'n'),\n",
       " ('someone', 'n'),\n",
       " ('using', 'v'),\n",
       " ('social', 'a'),\n",
       " ('media', 'n'),\n",
       " ('tamper', 'a'),\n",
       " ('witnesses', 'n'),\n",
       " ('want', 'v'),\n",
       " ('two', 'n'),\n",
       " ('calm', 'a'),\n",
       " ('weeks', 'n'),\n",
       " ('even', 'r'),\n",
       " ('think', 'v'),\n",
       " ('individual', 'a'),\n",
       " ('one', 'n'),\n",
       " ('even', 'r'),\n",
       " ('say', 'v'),\n",
       " ('name', 'n'),\n",
       " ('wait', 'v'),\n",
       " ('hear', 'a'),\n",
       " ('important', 'a'),\n",
       " ('developments', 'n'),\n",
       " ('january', 'a'),\n",
       " ('since', 'n'),\n",
       " ('know', 'a'),\n",
       " ('second', 'a'),\n",
       " ('read', 'n'),\n",
       " ('say', 'v'),\n",
       " ('something', 'n'),\n",
       " ('eric', 'a'),\n",
       " ('involved', 'v'),\n",
       " ('deeply', 'r'),\n",
       " ('previously', 'r'),\n",
       " ('suspected', 'v'),\n",
       " ('get', 'n'),\n",
       " ('pulled', 'v'),\n",
       " ('back', 'r'),\n",
       " ('ruin', 'a'),\n",
       " ('whole', 'a'),\n",
       " ('vacation', 'n'),\n",
       " ('press', 'n'),\n",
       " ('time', 'n'),\n",
       " ('mueller', 'n'),\n",
       " ('reactivated', 'v'),\n",
       " ('phone', 'n'),\n",
       " ('check', 'n'),\n",
       " ('news', 'n'),\n",
       " ('real', 'a'),\n",
       " ('quick', 'n')]"
      ]
     },
     "execution_count": 27,
     "metadata": {},
     "output_type": "execute_result"
    }
   ],
   "source": [
    "sample_doc_tagged"
   ]
  },
  {
   "cell_type": "code",
   "execution_count": 28,
   "metadata": {
    "hidden": true
   },
   "outputs": [],
   "source": [
    "sample_doc_lemmed = [lemmatizer.lemmatize(token[0], token[1]) for token in sample_doc_tagged]"
   ]
  },
  {
   "cell_type": "code",
   "execution_count": 29,
   "metadata": {
    "hidden": true
   },
   "outputs": [
    {
     "data": {
      "text/plain": [
       "['desperate',\n",
       " 'unwind',\n",
       " 'months',\n",
       " 'nonstop',\n",
       " 'work',\n",
       " 'investigating',\n",
       " 'russian',\n",
       " 'influence',\n",
       " 'election',\n",
       " 'visibly',\n",
       " 'exhausted',\n",
       " 'special',\n",
       " 'counsel',\n",
       " 'robert',\n",
       " 'mueller',\n",
       " 'powered',\n",
       " 'phone',\n",
       " 'friday',\n",
       " 'order',\n",
       " 'give']"
      ]
     },
     "execution_count": 29,
     "metadata": {},
     "output_type": "execute_result"
    }
   ],
   "source": [
    "sample_doc[:20]"
   ]
  },
  {
   "cell_type": "code",
   "execution_count": 30,
   "metadata": {
    "hidden": true
   },
   "outputs": [
    {
     "data": {
      "text/plain": [
       "['desperate',\n",
       " 'unwind',\n",
       " 'month',\n",
       " 'nonstop',\n",
       " 'work',\n",
       " 'investigate',\n",
       " 'russian',\n",
       " 'influence',\n",
       " 'election',\n",
       " 'visibly',\n",
       " 'exhaust',\n",
       " 'special',\n",
       " 'counsel',\n",
       " 'robert',\n",
       " 'mueller',\n",
       " 'power',\n",
       " 'phone',\n",
       " 'friday',\n",
       " 'order',\n",
       " 'give']"
      ]
     },
     "execution_count": 30,
     "metadata": {},
     "output_type": "execute_result"
    }
   ],
   "source": [
    "sample_doc_lemmed[:20]"
   ]
  },
  {
   "cell_type": "code",
   "execution_count": 31,
   "metadata": {
    "hidden": true
   },
   "outputs": [
    {
     "name": "stdout",
     "output_type": "stream",
     "text": [
      "There are 106 unique lemmas.\n"
     ]
    }
   ],
   "source": [
    "print(f'There are {len(set(sample_doc_lemmed))} unique lemmas.')"
   ]
  },
  {
   "cell_type": "code",
   "execution_count": 32,
   "metadata": {
    "hidden": true
   },
   "outputs": [
    {
     "data": {
      "image/png": "[encoded data removed]",
      "text/plain": [
       "<Figure size 1000x1000 with 1 Axes>"
      ]
     },
     "metadata": {},
     "output_type": "display_data"
    }
   ],
   "source": [
    "fdist = FreqDist(sample_doc_lemmed)\n",
    "plt.figure(figsize=(10, 10))\n",
    "fdist.plot(30);"
   ]
  },
  {
   "cell_type": "markdown",
   "metadata": {
    "heading_collapsed": true,
    "hidden": true
   },
   "source": [
    "## Feature Engineering for NLP"
   ]
  },
  {
   "cell_type": "markdown",
   "metadata": {
    "hidden": true
   },
   "source": [
    "The machine learning algorithms we have encountered so far represent features as the variables that take on different value for each observation. For example, we represent individuals with distinct education levels, incomes, and such. However, in NLP, features are represented in a very different way. In order to pass text data to machine learning algorithms and perform classification, we need to represent the features in a sensible way. One such method is called **Bag-of-words (BoW)**."
   ]
  },
  {
   "cell_type": "markdown",
   "metadata": {
    "hidden": true
   },
   "source": [
    "A bag-of-words model, or BoW for short, is a way of extracting features from text for use in modeling. A bag-of-words is a representation of text that describes the occurrence of words within a document. It involves two things:\n",
    "\n",
    "- A vocabulary of known words.\n",
    "- A measure of the presence of known words.\n",
    "\n",
    "It is called a “bag” of words **because any information about the order or structure of words in the document is discarded**. The model is only concerned with whether known words occur in the document, not with **where** they may occur in the document. The intuition behind BoW is that a document is similar to another if they have similar contents. The Bag of Words method can be represented as a **Document Term Matrix**, in which each column is a unique vocabulary n-gram and each observation is a document. Consider, for example, the following **corpus** of documents:"
   ]
  },
  {
   "cell_type": "markdown",
   "metadata": {
    "hidden": true
   },
   "source": [
    "- Document 1: \"I love dogs.\"\n",
    "- Document 2: \"I love cats.\"\n",
    "- Document 3: \"I love all animals.\"\n",
    "- Document 4: \"I hate dogs.\"\n",
    "\n",
    "This corpus can be represented as:"
   ]
  },
  {
   "cell_type": "markdown",
   "metadata": {
    "hidden": true
   },
   "source": [
    "$\\downarrow$Doc\\|Word$\\rightarrow$|I|love|dogs|cats|all|animals|hate\n",
    "-|-|-|-|-|-|-|-\n",
    "Document_1|1|1|1|0|0|0|0\n",
    "Document_2|1|1|0|1|0|0|0\n",
    "Document_3|1|1|0|0|1|1|0\n",
    "Document_4|1|0|1|0|0|0|1"
   ]
  },
  {
   "cell_type": "markdown",
   "metadata": {
    "heading_collapsed": true,
    "hidden": true
   },
   "source": [
    "### Vectorization"
   ]
  },
  {
   "cell_type": "markdown",
   "metadata": {
    "hidden": true
   },
   "source": [
    "In order to get these tokens from our documents, we're going to use tools called \"vectorizers\".\n",
    "\n",
    "The most straightforward vectorizer in `sklearn.feature_extraction.text` is the `CountVectorizer`, which will simply count the number of each word type in each document."
   ]
  },
  {
   "cell_type": "markdown",
   "metadata": {
    "heading_collapsed": true,
    "hidden": true
   },
   "source": [
    "#### `CountVectorizer`"
   ]
  },
  {
   "cell_type": "code",
   "execution_count": 39,
   "metadata": {
    "hidden": true
   },
   "outputs": [
    {
     "name": "stderr",
     "output_type": "stream",
     "text": [
      "C:\\Users\\user\\anaconda3\\lib\\site-packages\\sklearn\\utils\\deprecation.py:87: FutureWarning: Function get_feature_names is deprecated; get_feature_names is deprecated in 1.0 and will be removed in 1.2. Please use get_feature_names_out instead.\n",
      "  warnings.warn(msg, category=FutureWarning)\n"
     ]
    },
    {
     "data": {
      "text/html": [
       "<div>\n",
       "<style scoped>\n",
       "    .dataframe tbody tr th:only-of-type {\n",
       "        vertical-align: middle;\n",
       "    }\n",
       "\n",
       "    .dataframe tbody tr th {\n",
       "        vertical-align: top;\n",
       "    }\n",
       "\n",
       "    .dataframe thead th {\n",
       "        text-align: right;\n",
       "    }\n",
       "</style>\n",
       "<table border=\"1\" class=\"dataframe\">\n",
       "  <thead>\n",
       "    <tr style=\"text-align: right;\">\n",
       "      <th></th>\n",
       "      <th>administration</th>\n",
       "      <th>administration official</th>\n",
       "      <th>advisor</th>\n",
       "      <th>advisor michael</th>\n",
       "      <th>also</th>\n",
       "      <th>also noting</th>\n",
       "      <th>americans</th>\n",
       "      <th>americans also</th>\n",
       "      <th>assholes</th>\n",
       "      <th>assholes need</th>\n",
       "      <th>...</th>\n",
       "      <th>u populace</th>\n",
       "      <th>unsure</th>\n",
       "      <th>unsure many</th>\n",
       "      <th>weeks</th>\n",
       "      <th>weeks worried</th>\n",
       "      <th>worried</th>\n",
       "      <th>worried populace</th>\n",
       "      <th>year</th>\n",
       "      <th>year country</th>\n",
       "      <th>year old</th>\n",
       "    </tr>\n",
       "  </thead>\n",
       "  <tbody>\n",
       "    <tr>\n",
       "      <th>0</th>\n",
       "      <td>1</td>\n",
       "      <td>1</td>\n",
       "      <td>1</td>\n",
       "      <td>1</td>\n",
       "      <td>1</td>\n",
       "      <td>1</td>\n",
       "      <td>1</td>\n",
       "      <td>1</td>\n",
       "      <td>1</td>\n",
       "      <td>1</td>\n",
       "      <td>...</td>\n",
       "      <td>1</td>\n",
       "      <td>1</td>\n",
       "      <td>1</td>\n",
       "      <td>1</td>\n",
       "      <td>1</td>\n",
       "      <td>1</td>\n",
       "      <td>1</td>\n",
       "      <td>2</td>\n",
       "      <td>1</td>\n",
       "      <td>1</td>\n",
       "    </tr>\n",
       "  </tbody>\n",
       "</table>\n",
       "<p>1 rows × 161 columns</p>\n",
       "</div>"
      ],
      "text/plain": [
       "   administration  administration official  advisor  advisor michael  also  \\\n",
       "0               1                        1        1                1     1   \n",
       "\n",
       "   also noting  americans  americans also  assholes  assholes need  ...  \\\n",
       "0            1          1               1         1              1  ...   \n",
       "\n",
       "   u populace  unsure  unsure many  weeks  weeks worried  worried  \\\n",
       "0           1       1            1      1              1        1   \n",
       "\n",
       "   worried populace  year  year country  year old  \n",
       "0                 1     2             1         1  \n",
       "\n",
       "[1 rows x 161 columns]"
      ]
     },
     "execution_count": 39,
     "metadata": {},
     "output_type": "execute_result"
    }
   ],
   "source": [
    "# implementing it in python\n",
    "\n",
    "# Convert a collection of text documents to a matrix of token counts\n",
    "vec = CountVectorizer(token_pattern=r\"([a-zA-Z]+(?:'[a-z]+)?)\", stop_words=sw,\n",
    "                      ngram_range=[1, 2])\n",
    "X = vec.fit_transform(corpus.body[:1])\n",
    "\n",
    "df = pd.DataFrame(X.toarray(), columns=vec.get_feature_names())\n",
    "df.head()"
   ]
  },
  {
   "cell_type": "markdown",
   "metadata": {
    "hidden": true
   },
   "source": [
    "That is not very exciting for one document. The idea is to make a document term matrix for all of the words in our corpus."
   ]
  },
  {
   "cell_type": "code",
   "execution_count": 35,
   "metadata": {
    "hidden": true
   },
   "outputs": [
    {
     "name": "stderr",
     "output_type": "stream",
     "text": [
      "C:\\Users\\user\\anaconda3\\lib\\site-packages\\sklearn\\utils\\deprecation.py:87: FutureWarning: Function get_feature_names is deprecated; get_feature_names is deprecated in 1.0 and will be removed in 1.2. Please use get_feature_names_out instead.\n",
      "  warnings.warn(msg, category=FutureWarning)\n"
     ]
    },
    {
     "data": {
      "text/html": [
       "<div>\n",
       "<style scoped>\n",
       "    .dataframe tbody tr th:only-of-type {\n",
       "        vertical-align: middle;\n",
       "    }\n",
       "\n",
       "    .dataframe tbody tr th {\n",
       "        vertical-align: top;\n",
       "    }\n",
       "\n",
       "    .dataframe thead th {\n",
       "        text-align: right;\n",
       "    }\n",
       "</style>\n",
       "<table border=\"1\" class=\"dataframe\">\n",
       "  <thead>\n",
       "    <tr style=\"text-align: right;\">\n",
       "      <th></th>\n",
       "      <th>adding</th>\n",
       "      <th>adding wants</th>\n",
       "      <th>administration</th>\n",
       "      <th>administration official</th>\n",
       "      <th>advisor</th>\n",
       "      <th>advisor michael</th>\n",
       "      <th>also</th>\n",
       "      <th>also noting</th>\n",
       "      <th>americans</th>\n",
       "      <th>americans also</th>\n",
       "      <th>...</th>\n",
       "      <th>witnesses want</th>\n",
       "      <th>work</th>\n",
       "      <th>work investigating</th>\n",
       "      <th>worried</th>\n",
       "      <th>worried populace</th>\n",
       "      <th>year</th>\n",
       "      <th>year country</th>\n",
       "      <th>year old</th>\n",
       "      <th>yet</th>\n",
       "      <th>yet another</th>\n",
       "    </tr>\n",
       "  </thead>\n",
       "  <tbody>\n",
       "    <tr>\n",
       "      <th>0</th>\n",
       "      <td>0</td>\n",
       "      <td>0</td>\n",
       "      <td>1</td>\n",
       "      <td>1</td>\n",
       "      <td>1</td>\n",
       "      <td>1</td>\n",
       "      <td>1</td>\n",
       "      <td>1</td>\n",
       "      <td>1</td>\n",
       "      <td>1</td>\n",
       "      <td>...</td>\n",
       "      <td>0</td>\n",
       "      <td>0</td>\n",
       "      <td>0</td>\n",
       "      <td>1</td>\n",
       "      <td>1</td>\n",
       "      <td>2</td>\n",
       "      <td>1</td>\n",
       "      <td>1</td>\n",
       "      <td>0</td>\n",
       "      <td>0</td>\n",
       "    </tr>\n",
       "    <tr>\n",
       "      <th>1</th>\n",
       "      <td>1</td>\n",
       "      <td>1</td>\n",
       "      <td>0</td>\n",
       "      <td>0</td>\n",
       "      <td>0</td>\n",
       "      <td>0</td>\n",
       "      <td>0</td>\n",
       "      <td>0</td>\n",
       "      <td>0</td>\n",
       "      <td>0</td>\n",
       "      <td>...</td>\n",
       "      <td>1</td>\n",
       "      <td>1</td>\n",
       "      <td>1</td>\n",
       "      <td>0</td>\n",
       "      <td>0</td>\n",
       "      <td>0</td>\n",
       "      <td>0</td>\n",
       "      <td>0</td>\n",
       "      <td>1</td>\n",
       "      <td>1</td>\n",
       "    </tr>\n",
       "  </tbody>\n",
       "</table>\n",
       "<p>2 rows × 382 columns</p>\n",
       "</div>"
      ],
      "text/plain": [
       "   adding  adding wants  administration  administration official  advisor  \\\n",
       "0       0             0               1                        1        1   \n",
       "1       1             1               0                        0        0   \n",
       "\n",
       "   advisor michael  also  also noting  americans  americans also  ...  \\\n",
       "0                1     1            1          1               1  ...   \n",
       "1                0     0            0          0               0  ...   \n",
       "\n",
       "   witnesses want  work  work investigating  worried  worried populace  year  \\\n",
       "0               0     0                   0        1                 1     2   \n",
       "1               1     1                   1        0                 0     0   \n",
       "\n",
       "   year country  year old  yet  yet another  \n",
       "0             1         1    0            0  \n",
       "1             0         0    1            1  \n",
       "\n",
       "[2 rows x 382 columns]"
      ]
     },
     "execution_count": 35,
     "metadata": {},
     "output_type": "execute_result"
    }
   ],
   "source": [
    "vec = CountVectorizer(token_pattern=r\"([a-zA-Z]+(?:'[a-z]+)?)\", stop_words=sw,\n",
    "                      ngram_range=[1, 2])\n",
    "X = vec.fit_transform(corpus.body[0:2])\n",
    "\n",
    "df = pd.DataFrame(X.toarray(), columns=vec.get_feature_names())\n",
    "df.head()"
   ]
  },
  {
   "cell_type": "code",
   "execution_count": 36,
   "metadata": {
    "hidden": true
   },
   "outputs": [
    {
     "name": "stderr",
     "output_type": "stream",
     "text": [
      "C:\\Users\\user\\anaconda3\\lib\\site-packages\\sklearn\\utils\\deprecation.py:87: FutureWarning: Function get_feature_names is deprecated; get_feature_names is deprecated in 1.0 and will be removed in 1.2. Please use get_feature_names_out instead.\n",
      "  warnings.warn(msg, category=FutureWarning)\n"
     ]
    },
    {
     "data": {
      "text/html": [
       "<div>\n",
       "<style scoped>\n",
       "    .dataframe tbody tr th:only-of-type {\n",
       "        vertical-align: middle;\n",
       "    }\n",
       "\n",
       "    .dataframe tbody tr th {\n",
       "        vertical-align: top;\n",
       "    }\n",
       "\n",
       "    .dataframe thead th {\n",
       "        text-align: right;\n",
       "    }\n",
       "</style>\n",
       "<table border=\"1\" class=\"dataframe\">\n",
       "  <thead>\n",
       "    <tr style=\"text-align: right;\">\n",
       "      <th></th>\n",
       "      <th>abuses</th>\n",
       "      <th>abuses power</th>\n",
       "      <th>accept</th>\n",
       "      <th>accept beautiful</th>\n",
       "      <th>accusations</th>\n",
       "      <th>accusations united</th>\n",
       "      <th>acknowledging</th>\n",
       "      <th>acknowledging gift</th>\n",
       "      <th>act</th>\n",
       "      <th>act acted</th>\n",
       "      <th>...</th>\n",
       "      <th>year country</th>\n",
       "      <th>year old</th>\n",
       "      <th>yemen</th>\n",
       "      <th>yemen left</th>\n",
       "      <th>yet</th>\n",
       "      <th>yet another</th>\n",
       "      <th>zinke</th>\n",
       "      <th>zinke acknowledging</th>\n",
       "      <th>zinke apologized</th>\n",
       "      <th>zinke plans</th>\n",
       "    </tr>\n",
       "  </thead>\n",
       "  <tbody>\n",
       "    <tr>\n",
       "      <th>0</th>\n",
       "      <td>0</td>\n",
       "      <td>0</td>\n",
       "      <td>0</td>\n",
       "      <td>0</td>\n",
       "      <td>0</td>\n",
       "      <td>0</td>\n",
       "      <td>0</td>\n",
       "      <td>0</td>\n",
       "      <td>0</td>\n",
       "      <td>0</td>\n",
       "      <td>...</td>\n",
       "      <td>1</td>\n",
       "      <td>1</td>\n",
       "      <td>0</td>\n",
       "      <td>0</td>\n",
       "      <td>0</td>\n",
       "      <td>0</td>\n",
       "      <td>0</td>\n",
       "      <td>0</td>\n",
       "      <td>0</td>\n",
       "      <td>0</td>\n",
       "    </tr>\n",
       "    <tr>\n",
       "      <th>1</th>\n",
       "      <td>0</td>\n",
       "      <td>0</td>\n",
       "      <td>0</td>\n",
       "      <td>0</td>\n",
       "      <td>0</td>\n",
       "      <td>0</td>\n",
       "      <td>0</td>\n",
       "      <td>0</td>\n",
       "      <td>0</td>\n",
       "      <td>0</td>\n",
       "      <td>...</td>\n",
       "      <td>0</td>\n",
       "      <td>0</td>\n",
       "      <td>0</td>\n",
       "      <td>0</td>\n",
       "      <td>1</td>\n",
       "      <td>1</td>\n",
       "      <td>0</td>\n",
       "      <td>0</td>\n",
       "      <td>0</td>\n",
       "      <td>0</td>\n",
       "    </tr>\n",
       "    <tr>\n",
       "      <th>2</th>\n",
       "      <td>0</td>\n",
       "      <td>0</td>\n",
       "      <td>0</td>\n",
       "      <td>0</td>\n",
       "      <td>0</td>\n",
       "      <td>0</td>\n",
       "      <td>0</td>\n",
       "      <td>0</td>\n",
       "      <td>0</td>\n",
       "      <td>0</td>\n",
       "      <td>...</td>\n",
       "      <td>0</td>\n",
       "      <td>0</td>\n",
       "      <td>0</td>\n",
       "      <td>0</td>\n",
       "      <td>0</td>\n",
       "      <td>0</td>\n",
       "      <td>0</td>\n",
       "      <td>0</td>\n",
       "      <td>0</td>\n",
       "      <td>0</td>\n",
       "    </tr>\n",
       "    <tr>\n",
       "      <th>3</th>\n",
       "      <td>1</td>\n",
       "      <td>1</td>\n",
       "      <td>1</td>\n",
       "      <td>1</td>\n",
       "      <td>0</td>\n",
       "      <td>0</td>\n",
       "      <td>1</td>\n",
       "      <td>1</td>\n",
       "      <td>1</td>\n",
       "      <td>1</td>\n",
       "      <td>...</td>\n",
       "      <td>0</td>\n",
       "      <td>0</td>\n",
       "      <td>0</td>\n",
       "      <td>0</td>\n",
       "      <td>0</td>\n",
       "      <td>0</td>\n",
       "      <td>3</td>\n",
       "      <td>1</td>\n",
       "      <td>1</td>\n",
       "      <td>1</td>\n",
       "    </tr>\n",
       "    <tr>\n",
       "      <th>4</th>\n",
       "      <td>0</td>\n",
       "      <td>0</td>\n",
       "      <td>0</td>\n",
       "      <td>0</td>\n",
       "      <td>1</td>\n",
       "      <td>1</td>\n",
       "      <td>0</td>\n",
       "      <td>0</td>\n",
       "      <td>0</td>\n",
       "      <td>0</td>\n",
       "      <td>...</td>\n",
       "      <td>0</td>\n",
       "      <td>0</td>\n",
       "      <td>1</td>\n",
       "      <td>1</td>\n",
       "      <td>0</td>\n",
       "      <td>0</td>\n",
       "      <td>0</td>\n",
       "      <td>0</td>\n",
       "      <td>0</td>\n",
       "      <td>0</td>\n",
       "    </tr>\n",
       "  </tbody>\n",
       "</table>\n",
       "<p>5 rows × 854 columns</p>\n",
       "</div>"
      ],
      "text/plain": [
       "   abuses  abuses power  accept  accept beautiful  accusations  \\\n",
       "0       0             0       0                 0            0   \n",
       "1       0             0       0                 0            0   \n",
       "2       0             0       0                 0            0   \n",
       "3       1             1       1                 1            0   \n",
       "4       0             0       0                 0            1   \n",
       "\n",
       "   accusations united  acknowledging  acknowledging gift  act  act acted  ...  \\\n",
       "0                   0              0                   0    0          0  ...   \n",
       "1                   0              0                   0    0          0  ...   \n",
       "2                   0              0                   0    0          0  ...   \n",
       "3                   0              1                   1    1          1  ...   \n",
       "4                   1              0                   0    0          0  ...   \n",
       "\n",
       "   year country  year old  yemen  yemen left  yet  yet another  zinke  \\\n",
       "0             1         1      0           0    0            0      0   \n",
       "1             0         0      0           0    1            1      0   \n",
       "2             0         0      0           0    0            0      0   \n",
       "3             0         0      0           0    0            0      3   \n",
       "4             0         0      1           1    0            0      0   \n",
       "\n",
       "   zinke acknowledging  zinke apologized  zinke plans  \n",
       "0                    0                 0            0  \n",
       "1                    0                 0            0  \n",
       "2                    0                 0            0  \n",
       "3                    1                 1            1  \n",
       "4                    0                 0            0  \n",
       "\n",
       "[5 rows x 854 columns]"
      ]
     },
     "execution_count": 36,
     "metadata": {},
     "output_type": "execute_result"
    }
   ],
   "source": [
    "vec = CountVectorizer(token_pattern=r\"([a-zA-Z]+(?:'[a-z]+)?)\", stop_words=sw,\n",
    "                      ngram_range=[1, 2])\n",
    "X = vec.fit_transform(corpus.body[0:5])\n",
    "\n",
    "df = pd.DataFrame(X.toarray(), columns=vec.get_feature_names())\n",
    "df.head()"
   ]
  },
  {
   "cell_type": "markdown",
   "metadata": {
    "hidden": true
   },
   "source": [
    "Our document term matrix gets bigger and bigger, with more and more zeros, becoming sparser and sparser."
   ]
  },
  {
   "cell_type": "code",
   "execution_count": 40,
   "metadata": {
    "hidden": true
   },
   "outputs": [
    {
     "name": "stderr",
     "output_type": "stream",
     "text": [
      "C:\\Users\\user\\anaconda3\\lib\\site-packages\\sklearn\\utils\\deprecation.py:87: FutureWarning: Function get_feature_names is deprecated; get_feature_names is deprecated in 1.0 and will be removed in 1.2. Please use get_feature_names_out instead.\n",
      "  warnings.warn(msg, category=FutureWarning)\n"
     ]
    },
    {
     "data": {
      "text/html": [
       "<div>\n",
       "<style scoped>\n",
       "    .dataframe tbody tr th:only-of-type {\n",
       "        vertical-align: middle;\n",
       "    }\n",
       "\n",
       "    .dataframe tbody tr th {\n",
       "        vertical-align: top;\n",
       "    }\n",
       "\n",
       "    .dataframe thead th {\n",
       "        text-align: right;\n",
       "    }\n",
       "</style>\n",
       "<table border=\"1\" class=\"dataframe\">\n",
       "  <thead>\n",
       "    <tr style=\"text-align: right;\">\n",
       "      <th></th>\n",
       "      <th>aa</th>\n",
       "      <th>aa united</th>\n",
       "      <th>aaaaaaah</th>\n",
       "      <th>aaaaaaah aaaaaah</th>\n",
       "      <th>aaaaaah</th>\n",
       "      <th>aaaaaah deal</th>\n",
       "      <th>aaaaargh</th>\n",
       "      <th>aaaaargh falls</th>\n",
       "      <th>aaaah</th>\n",
       "      <th>aaaah internet</th>\n",
       "      <th>...</th>\n",
       "      <th>zuercher kantonalbank</th>\n",
       "      <th>zverev</th>\n",
       "      <th>zverev two</th>\n",
       "      <th>zych</th>\n",
       "      <th>zych mother</th>\n",
       "      <th>zych whose</th>\n",
       "      <th>zzouss</th>\n",
       "      <th>zzzzzst</th>\n",
       "      <th>zzzzzst compilation</th>\n",
       "      <th>zzzzzst shut</th>\n",
       "    </tr>\n",
       "  </thead>\n",
       "  <tbody>\n",
       "    <tr>\n",
       "      <th>0</th>\n",
       "      <td>0</td>\n",
       "      <td>0</td>\n",
       "      <td>0</td>\n",
       "      <td>0</td>\n",
       "      <td>0</td>\n",
       "      <td>0</td>\n",
       "      <td>0</td>\n",
       "      <td>0</td>\n",
       "      <td>0</td>\n",
       "      <td>0</td>\n",
       "      <td>...</td>\n",
       "      <td>0</td>\n",
       "      <td>0</td>\n",
       "      <td>0</td>\n",
       "      <td>0</td>\n",
       "      <td>0</td>\n",
       "      <td>0</td>\n",
       "      <td>0</td>\n",
       "      <td>0</td>\n",
       "      <td>0</td>\n",
       "      <td>0</td>\n",
       "    </tr>\n",
       "    <tr>\n",
       "      <th>1</th>\n",
       "      <td>0</td>\n",
       "      <td>0</td>\n",
       "      <td>0</td>\n",
       "      <td>0</td>\n",
       "      <td>0</td>\n",
       "      <td>0</td>\n",
       "      <td>0</td>\n",
       "      <td>0</td>\n",
       "      <td>0</td>\n",
       "      <td>0</td>\n",
       "      <td>...</td>\n",
       "      <td>0</td>\n",
       "      <td>0</td>\n",
       "      <td>0</td>\n",
       "      <td>0</td>\n",
       "      <td>0</td>\n",
       "      <td>0</td>\n",
       "      <td>0</td>\n",
       "      <td>0</td>\n",
       "      <td>0</td>\n",
       "      <td>0</td>\n",
       "    </tr>\n",
       "    <tr>\n",
       "      <th>2</th>\n",
       "      <td>0</td>\n",
       "      <td>0</td>\n",
       "      <td>0</td>\n",
       "      <td>0</td>\n",
       "      <td>0</td>\n",
       "      <td>0</td>\n",
       "      <td>0</td>\n",
       "      <td>0</td>\n",
       "      <td>0</td>\n",
       "      <td>0</td>\n",
       "      <td>...</td>\n",
       "      <td>0</td>\n",
       "      <td>0</td>\n",
       "      <td>0</td>\n",
       "      <td>0</td>\n",
       "      <td>0</td>\n",
       "      <td>0</td>\n",
       "      <td>0</td>\n",
       "      <td>0</td>\n",
       "      <td>0</td>\n",
       "      <td>0</td>\n",
       "    </tr>\n",
       "    <tr>\n",
       "      <th>3</th>\n",
       "      <td>0</td>\n",
       "      <td>0</td>\n",
       "      <td>0</td>\n",
       "      <td>0</td>\n",
       "      <td>0</td>\n",
       "      <td>0</td>\n",
       "      <td>0</td>\n",
       "      <td>0</td>\n",
       "      <td>0</td>\n",
       "      <td>0</td>\n",
       "      <td>...</td>\n",
       "      <td>0</td>\n",
       "      <td>0</td>\n",
       "      <td>0</td>\n",
       "      <td>0</td>\n",
       "      <td>0</td>\n",
       "      <td>0</td>\n",
       "      <td>0</td>\n",
       "      <td>0</td>\n",
       "      <td>0</td>\n",
       "      <td>0</td>\n",
       "    </tr>\n",
       "    <tr>\n",
       "      <th>4</th>\n",
       "      <td>0</td>\n",
       "      <td>0</td>\n",
       "      <td>0</td>\n",
       "      <td>0</td>\n",
       "      <td>0</td>\n",
       "      <td>0</td>\n",
       "      <td>0</td>\n",
       "      <td>0</td>\n",
       "      <td>0</td>\n",
       "      <td>0</td>\n",
       "      <td>...</td>\n",
       "      <td>0</td>\n",
       "      <td>0</td>\n",
       "      <td>0</td>\n",
       "      <td>0</td>\n",
       "      <td>0</td>\n",
       "      <td>0</td>\n",
       "      <td>0</td>\n",
       "      <td>0</td>\n",
       "      <td>0</td>\n",
       "      <td>0</td>\n",
       "    </tr>\n",
       "  </tbody>\n",
       "</table>\n",
       "<p>5 rows × 201830 columns</p>\n",
       "</div>"
      ],
      "text/plain": [
       "   aa  aa united  aaaaaaah  aaaaaaah aaaaaah  aaaaaah  aaaaaah deal  aaaaargh  \\\n",
       "0   0          0         0                 0        0             0         0   \n",
       "1   0          0         0                 0        0             0         0   \n",
       "2   0          0         0                 0        0             0         0   \n",
       "3   0          0         0                 0        0             0         0   \n",
       "4   0          0         0                 0        0             0         0   \n",
       "\n",
       "   aaaaargh falls  aaaah  aaaah internet  ...  zuercher kantonalbank  zverev  \\\n",
       "0               0      0               0  ...                      0       0   \n",
       "1               0      0               0  ...                      0       0   \n",
       "2               0      0               0  ...                      0       0   \n",
       "3               0      0               0  ...                      0       0   \n",
       "4               0      0               0  ...                      0       0   \n",
       "\n",
       "   zverev two  zych  zych mother  zych whose  zzouss  zzzzzst  \\\n",
       "0           0     0            0           0       0        0   \n",
       "1           0     0            0           0       0        0   \n",
       "2           0     0            0           0       0        0   \n",
       "3           0     0            0           0       0        0   \n",
       "4           0     0            0           0       0        0   \n",
       "\n",
       "   zzzzzst compilation  zzzzzst shut  \n",
       "0                    0             0  \n",
       "1                    0             0  \n",
       "2                    0             0  \n",
       "3                    0             0  \n",
       "4                    0             0  \n",
       "\n",
       "[5 rows x 201830 columns]"
      ]
     },
     "execution_count": 40,
     "metadata": {},
     "output_type": "execute_result"
    }
   ],
   "source": [
    "vec = CountVectorizer(token_pattern=r\"([a-zA-Z]+(?:'[a-z]+)?)\", stop_words=sw,\n",
    "                      ngram_range=[1, 2])\n",
    "# Now fit to the entire corpus\n",
    "X = vec.fit_transform(corpus.body)\n",
    "\n",
    "df = pd.DataFrame(X.toarray(), columns=vec.get_feature_names())\n",
    "df.head()"
   ]
  },
  {
   "cell_type": "code",
   "execution_count": 41,
   "metadata": {
    "hidden": true
   },
   "outputs": [
    {
     "data": {
      "text/html": [
       "<div>\n",
       "<style scoped>\n",
       "    .dataframe tbody tr th:only-of-type {\n",
       "        vertical-align: middle;\n",
       "    }\n",
       "\n",
       "    .dataframe tbody tr th {\n",
       "        vertical-align: top;\n",
       "    }\n",
       "\n",
       "    .dataframe thead th {\n",
       "        text-align: right;\n",
       "    }\n",
       "</style>\n",
       "<table border=\"1\" class=\"dataframe\">\n",
       "  <thead>\n",
       "    <tr style=\"text-align: right;\">\n",
       "      <th></th>\n",
       "      <th>aa</th>\n",
       "      <th>aa united</th>\n",
       "      <th>aaaaaaah</th>\n",
       "      <th>aaaaaaah aaaaaah</th>\n",
       "      <th>aaaaaah</th>\n",
       "      <th>aaaaaah deal</th>\n",
       "      <th>aaaaargh</th>\n",
       "      <th>aaaaargh falls</th>\n",
       "      <th>aaaah</th>\n",
       "      <th>aaaah internet</th>\n",
       "      <th>...</th>\n",
       "      <th>zuercher kantonalbank</th>\n",
       "      <th>zverev</th>\n",
       "      <th>zverev two</th>\n",
       "      <th>zych</th>\n",
       "      <th>zych mother</th>\n",
       "      <th>zych whose</th>\n",
       "      <th>zzouss</th>\n",
       "      <th>zzzzzst</th>\n",
       "      <th>zzzzzst compilation</th>\n",
       "      <th>zzzzzst shut</th>\n",
       "    </tr>\n",
       "  </thead>\n",
       "  <tbody>\n",
       "    <tr>\n",
       "      <th>0</th>\n",
       "      <td>0</td>\n",
       "      <td>0</td>\n",
       "      <td>0</td>\n",
       "      <td>0</td>\n",
       "      <td>0</td>\n",
       "      <td>0</td>\n",
       "      <td>0</td>\n",
       "      <td>0</td>\n",
       "      <td>0</td>\n",
       "      <td>0</td>\n",
       "      <td>...</td>\n",
       "      <td>0</td>\n",
       "      <td>0</td>\n",
       "      <td>0</td>\n",
       "      <td>0</td>\n",
       "      <td>0</td>\n",
       "      <td>0</td>\n",
       "      <td>0</td>\n",
       "      <td>0</td>\n",
       "      <td>0</td>\n",
       "      <td>0</td>\n",
       "    </tr>\n",
       "    <tr>\n",
       "      <th>1</th>\n",
       "      <td>0</td>\n",
       "      <td>0</td>\n",
       "      <td>0</td>\n",
       "      <td>0</td>\n",
       "      <td>0</td>\n",
       "      <td>0</td>\n",
       "      <td>0</td>\n",
       "      <td>0</td>\n",
       "      <td>0</td>\n",
       "      <td>0</td>\n",
       "      <td>...</td>\n",
       "      <td>0</td>\n",
       "      <td>0</td>\n",
       "      <td>0</td>\n",
       "      <td>0</td>\n",
       "      <td>0</td>\n",
       "      <td>0</td>\n",
       "      <td>0</td>\n",
       "      <td>0</td>\n",
       "      <td>0</td>\n",
       "      <td>0</td>\n",
       "    </tr>\n",
       "    <tr>\n",
       "      <th>2</th>\n",
       "      <td>0</td>\n",
       "      <td>0</td>\n",
       "      <td>0</td>\n",
       "      <td>0</td>\n",
       "      <td>0</td>\n",
       "      <td>0</td>\n",
       "      <td>0</td>\n",
       "      <td>0</td>\n",
       "      <td>0</td>\n",
       "      <td>0</td>\n",
       "      <td>...</td>\n",
       "      <td>0</td>\n",
       "      <td>0</td>\n",
       "      <td>0</td>\n",
       "      <td>0</td>\n",
       "      <td>0</td>\n",
       "      <td>0</td>\n",
       "      <td>0</td>\n",
       "      <td>0</td>\n",
       "      <td>0</td>\n",
       "      <td>0</td>\n",
       "    </tr>\n",
       "    <tr>\n",
       "      <th>3</th>\n",
       "      <td>0</td>\n",
       "      <td>0</td>\n",
       "      <td>0</td>\n",
       "      <td>0</td>\n",
       "      <td>0</td>\n",
       "      <td>0</td>\n",
       "      <td>0</td>\n",
       "      <td>0</td>\n",
       "      <td>0</td>\n",
       "      <td>0</td>\n",
       "      <td>...</td>\n",
       "      <td>0</td>\n",
       "      <td>0</td>\n",
       "      <td>0</td>\n",
       "      <td>0</td>\n",
       "      <td>0</td>\n",
       "      <td>0</td>\n",
       "      <td>0</td>\n",
       "      <td>0</td>\n",
       "      <td>0</td>\n",
       "      <td>0</td>\n",
       "    </tr>\n",
       "    <tr>\n",
       "      <th>4</th>\n",
       "      <td>0</td>\n",
       "      <td>0</td>\n",
       "      <td>0</td>\n",
       "      <td>0</td>\n",
       "      <td>0</td>\n",
       "      <td>0</td>\n",
       "      <td>0</td>\n",
       "      <td>0</td>\n",
       "      <td>0</td>\n",
       "      <td>0</td>\n",
       "      <td>...</td>\n",
       "      <td>0</td>\n",
       "      <td>0</td>\n",
       "      <td>0</td>\n",
       "      <td>0</td>\n",
       "      <td>0</td>\n",
       "      <td>0</td>\n",
       "      <td>0</td>\n",
       "      <td>0</td>\n",
       "      <td>0</td>\n",
       "      <td>0</td>\n",
       "    </tr>\n",
       "    <tr>\n",
       "      <th>...</th>\n",
       "      <td>...</td>\n",
       "      <td>...</td>\n",
       "      <td>...</td>\n",
       "      <td>...</td>\n",
       "      <td>...</td>\n",
       "      <td>...</td>\n",
       "      <td>...</td>\n",
       "      <td>...</td>\n",
       "      <td>...</td>\n",
       "      <td>...</td>\n",
       "      <td>...</td>\n",
       "      <td>...</td>\n",
       "      <td>...</td>\n",
       "      <td>...</td>\n",
       "      <td>...</td>\n",
       "      <td>...</td>\n",
       "      <td>...</td>\n",
       "      <td>...</td>\n",
       "      <td>...</td>\n",
       "      <td>...</td>\n",
       "      <td>...</td>\n",
       "    </tr>\n",
       "    <tr>\n",
       "      <th>995</th>\n",
       "      <td>0</td>\n",
       "      <td>0</td>\n",
       "      <td>0</td>\n",
       "      <td>0</td>\n",
       "      <td>0</td>\n",
       "      <td>0</td>\n",
       "      <td>0</td>\n",
       "      <td>0</td>\n",
       "      <td>0</td>\n",
       "      <td>0</td>\n",
       "      <td>...</td>\n",
       "      <td>0</td>\n",
       "      <td>0</td>\n",
       "      <td>0</td>\n",
       "      <td>0</td>\n",
       "      <td>0</td>\n",
       "      <td>0</td>\n",
       "      <td>0</td>\n",
       "      <td>0</td>\n",
       "      <td>0</td>\n",
       "      <td>0</td>\n",
       "    </tr>\n",
       "    <tr>\n",
       "      <th>996</th>\n",
       "      <td>0</td>\n",
       "      <td>0</td>\n",
       "      <td>0</td>\n",
       "      <td>0</td>\n",
       "      <td>0</td>\n",
       "      <td>0</td>\n",
       "      <td>0</td>\n",
       "      <td>0</td>\n",
       "      <td>0</td>\n",
       "      <td>0</td>\n",
       "      <td>...</td>\n",
       "      <td>0</td>\n",
       "      <td>0</td>\n",
       "      <td>0</td>\n",
       "      <td>0</td>\n",
       "      <td>0</td>\n",
       "      <td>0</td>\n",
       "      <td>0</td>\n",
       "      <td>0</td>\n",
       "      <td>0</td>\n",
       "      <td>0</td>\n",
       "    </tr>\n",
       "    <tr>\n",
       "      <th>997</th>\n",
       "      <td>0</td>\n",
       "      <td>0</td>\n",
       "      <td>0</td>\n",
       "      <td>0</td>\n",
       "      <td>0</td>\n",
       "      <td>0</td>\n",
       "      <td>0</td>\n",
       "      <td>0</td>\n",
       "      <td>0</td>\n",
       "      <td>0</td>\n",
       "      <td>...</td>\n",
       "      <td>0</td>\n",
       "      <td>0</td>\n",
       "      <td>0</td>\n",
       "      <td>0</td>\n",
       "      <td>0</td>\n",
       "      <td>0</td>\n",
       "      <td>0</td>\n",
       "      <td>0</td>\n",
       "      <td>0</td>\n",
       "      <td>0</td>\n",
       "    </tr>\n",
       "    <tr>\n",
       "      <th>998</th>\n",
       "      <td>0</td>\n",
       "      <td>0</td>\n",
       "      <td>0</td>\n",
       "      <td>0</td>\n",
       "      <td>0</td>\n",
       "      <td>0</td>\n",
       "      <td>0</td>\n",
       "      <td>0</td>\n",
       "      <td>0</td>\n",
       "      <td>0</td>\n",
       "      <td>...</td>\n",
       "      <td>0</td>\n",
       "      <td>0</td>\n",
       "      <td>0</td>\n",
       "      <td>0</td>\n",
       "      <td>0</td>\n",
       "      <td>0</td>\n",
       "      <td>0</td>\n",
       "      <td>0</td>\n",
       "      <td>0</td>\n",
       "      <td>0</td>\n",
       "    </tr>\n",
       "    <tr>\n",
       "      <th>999</th>\n",
       "      <td>0</td>\n",
       "      <td>0</td>\n",
       "      <td>0</td>\n",
       "      <td>0</td>\n",
       "      <td>0</td>\n",
       "      <td>0</td>\n",
       "      <td>0</td>\n",
       "      <td>0</td>\n",
       "      <td>0</td>\n",
       "      <td>0</td>\n",
       "      <td>...</td>\n",
       "      <td>0</td>\n",
       "      <td>0</td>\n",
       "      <td>0</td>\n",
       "      <td>0</td>\n",
       "      <td>0</td>\n",
       "      <td>0</td>\n",
       "      <td>0</td>\n",
       "      <td>0</td>\n",
       "      <td>0</td>\n",
       "      <td>0</td>\n",
       "    </tr>\n",
       "  </tbody>\n",
       "</table>\n",
       "<p>1000 rows × 201830 columns</p>\n",
       "</div>"
      ],
      "text/plain": [
       "     aa  aa united  aaaaaaah  aaaaaaah aaaaaah  aaaaaah  aaaaaah deal  \\\n",
       "0     0          0         0                 0        0             0   \n",
       "1     0          0         0                 0        0             0   \n",
       "2     0          0         0                 0        0             0   \n",
       "3     0          0         0                 0        0             0   \n",
       "4     0          0         0                 0        0             0   \n",
       "..   ..        ...       ...               ...      ...           ...   \n",
       "995   0          0         0                 0        0             0   \n",
       "996   0          0         0                 0        0             0   \n",
       "997   0          0         0                 0        0             0   \n",
       "998   0          0         0                 0        0             0   \n",
       "999   0          0         0                 0        0             0   \n",
       "\n",
       "     aaaaargh  aaaaargh falls  aaaah  aaaah internet  ...  \\\n",
       "0           0               0      0               0  ...   \n",
       "1           0               0      0               0  ...   \n",
       "2           0               0      0               0  ...   \n",
       "3           0               0      0               0  ...   \n",
       "4           0               0      0               0  ...   \n",
       "..        ...             ...    ...             ...  ...   \n",
       "995         0               0      0               0  ...   \n",
       "996         0               0      0               0  ...   \n",
       "997         0               0      0               0  ...   \n",
       "998         0               0      0               0  ...   \n",
       "999         0               0      0               0  ...   \n",
       "\n",
       "     zuercher kantonalbank  zverev  zverev two  zych  zych mother  zych whose  \\\n",
       "0                        0       0           0     0            0           0   \n",
       "1                        0       0           0     0            0           0   \n",
       "2                        0       0           0     0            0           0   \n",
       "3                        0       0           0     0            0           0   \n",
       "4                        0       0           0     0            0           0   \n",
       "..                     ...     ...         ...   ...          ...         ...   \n",
       "995                      0       0           0     0            0           0   \n",
       "996                      0       0           0     0            0           0   \n",
       "997                      0       0           0     0            0           0   \n",
       "998                      0       0           0     0            0           0   \n",
       "999                      0       0           0     0            0           0   \n",
       "\n",
       "     zzouss  zzzzzst  zzzzzst compilation  zzzzzst shut  \n",
       "0         0        0                    0             0  \n",
       "1         0        0                    0             0  \n",
       "2         0        0                    0             0  \n",
       "3         0        0                    0             0  \n",
       "4         0        0                    0             0  \n",
       "..      ...      ...                  ...           ...  \n",
       "995       0        0                    0             0  \n",
       "996       0        0                    0             0  \n",
       "997       0        0                    0             0  \n",
       "998       0        0                    0             0  \n",
       "999       0        0                    0             0  \n",
       "\n",
       "[1000 rows x 201830 columns]"
      ]
     },
     "execution_count": 41,
     "metadata": {},
     "output_type": "execute_result"
    }
   ],
   "source": [
    "df"
   ]
  },
  {
   "cell_type": "markdown",
   "metadata": {
    "hidden": true
   },
   "source": [
    "We can set upper and lower limits to the word frequency:"
   ]
  },
  {
   "cell_type": "code",
   "execution_count": 42,
   "metadata": {
    "hidden": true
   },
   "outputs": [
    {
     "data": {
      "text/plain": [
       "0      Noting that the resignation of James Mattis as...\n",
       "1      Desperate to unwind after months of nonstop wo...\n",
       "2      Nearly halfway through his presidential term, ...\n",
       "3      Attempting to make amends for gross abuses of ...\n",
       "4      Decrying the Senate’s resolution blaming the c...\n",
       "                             ...                        \n",
       "995     Britain’s opposition leader Jeremy Corbyn wou...\n",
       "996     Turkey will take over the fight against Islam...\n",
       "997     Malaysia is seeking $7.5 billion in reparatio...\n",
       "998     An Israeli court sentenced a Palestinian to 1...\n",
       "999     At least 22 people have died due to landslide...\n",
       "Name: body, Length: 1000, dtype: object"
      ]
     },
     "execution_count": 42,
     "metadata": {},
     "output_type": "execute_result"
    }
   ],
   "source": [
    "corpus.body"
   ]
  },
  {
   "cell_type": "code",
   "execution_count": 43,
   "metadata": {
    "hidden": true
   },
   "outputs": [
    {
     "name": "stderr",
     "output_type": "stream",
     "text": [
      "C:\\Users\\user\\anaconda3\\lib\\site-packages\\sklearn\\utils\\deprecation.py:87: FutureWarning: Function get_feature_names is deprecated; get_feature_names is deprecated in 1.0 and will be removed in 1.2. Please use get_feature_names_out instead.\n",
      "  warnings.warn(msg, category=FutureWarning)\n"
     ]
    },
    {
     "data": {
      "text/html": [
       "<div>\n",
       "<style scoped>\n",
       "    .dataframe tbody tr th:only-of-type {\n",
       "        vertical-align: middle;\n",
       "    }\n",
       "\n",
       "    .dataframe tbody tr th {\n",
       "        vertical-align: top;\n",
       "    }\n",
       "\n",
       "    .dataframe thead th {\n",
       "        text-align: right;\n",
       "    }\n",
       "</style>\n",
       "<table border=\"1\" class=\"dataframe\">\n",
       "  <thead>\n",
       "    <tr style=\"text-align: right;\">\n",
       "      <th></th>\n",
       "      <th>aapl</th>\n",
       "      <th>aaron</th>\n",
       "      <th>aaron ross</th>\n",
       "      <th>ab</th>\n",
       "      <th>abandon</th>\n",
       "      <th>abandon conservatives</th>\n",
       "      <th>abandoned</th>\n",
       "      <th>abandoned grassroots</th>\n",
       "      <th>abandoning</th>\n",
       "      <th>abandoning quarter</th>\n",
       "      <th>...</th>\n",
       "      <th>zone</th>\n",
       "      <th>zone eu</th>\n",
       "      <th>zones</th>\n",
       "      <th>zoo</th>\n",
       "      <th>zoo closed</th>\n",
       "      <th>zooming</th>\n",
       "      <th>zor</th>\n",
       "      <th>zte</th>\n",
       "      <th>zte corp</th>\n",
       "      <th>zuckerberg</th>\n",
       "    </tr>\n",
       "  </thead>\n",
       "  <tbody>\n",
       "    <tr>\n",
       "      <th>0</th>\n",
       "      <td>0</td>\n",
       "      <td>0</td>\n",
       "      <td>0</td>\n",
       "      <td>0</td>\n",
       "      <td>0</td>\n",
       "      <td>0</td>\n",
       "      <td>0</td>\n",
       "      <td>0</td>\n",
       "      <td>0</td>\n",
       "      <td>0</td>\n",
       "      <td>...</td>\n",
       "      <td>0</td>\n",
       "      <td>0</td>\n",
       "      <td>0</td>\n",
       "      <td>0</td>\n",
       "      <td>0</td>\n",
       "      <td>0</td>\n",
       "      <td>0</td>\n",
       "      <td>0</td>\n",
       "      <td>0</td>\n",
       "      <td>0</td>\n",
       "    </tr>\n",
       "    <tr>\n",
       "      <th>1</th>\n",
       "      <td>0</td>\n",
       "      <td>0</td>\n",
       "      <td>0</td>\n",
       "      <td>0</td>\n",
       "      <td>0</td>\n",
       "      <td>0</td>\n",
       "      <td>0</td>\n",
       "      <td>0</td>\n",
       "      <td>0</td>\n",
       "      <td>0</td>\n",
       "      <td>...</td>\n",
       "      <td>0</td>\n",
       "      <td>0</td>\n",
       "      <td>0</td>\n",
       "      <td>0</td>\n",
       "      <td>0</td>\n",
       "      <td>0</td>\n",
       "      <td>0</td>\n",
       "      <td>0</td>\n",
       "      <td>0</td>\n",
       "      <td>0</td>\n",
       "    </tr>\n",
       "    <tr>\n",
       "      <th>2</th>\n",
       "      <td>0</td>\n",
       "      <td>0</td>\n",
       "      <td>0</td>\n",
       "      <td>0</td>\n",
       "      <td>0</td>\n",
       "      <td>0</td>\n",
       "      <td>0</td>\n",
       "      <td>0</td>\n",
       "      <td>0</td>\n",
       "      <td>0</td>\n",
       "      <td>...</td>\n",
       "      <td>0</td>\n",
       "      <td>0</td>\n",
       "      <td>0</td>\n",
       "      <td>0</td>\n",
       "      <td>0</td>\n",
       "      <td>0</td>\n",
       "      <td>0</td>\n",
       "      <td>0</td>\n",
       "      <td>0</td>\n",
       "      <td>0</td>\n",
       "    </tr>\n",
       "    <tr>\n",
       "      <th>3</th>\n",
       "      <td>0</td>\n",
       "      <td>0</td>\n",
       "      <td>0</td>\n",
       "      <td>0</td>\n",
       "      <td>0</td>\n",
       "      <td>0</td>\n",
       "      <td>0</td>\n",
       "      <td>0</td>\n",
       "      <td>0</td>\n",
       "      <td>0</td>\n",
       "      <td>...</td>\n",
       "      <td>0</td>\n",
       "      <td>0</td>\n",
       "      <td>0</td>\n",
       "      <td>0</td>\n",
       "      <td>0</td>\n",
       "      <td>0</td>\n",
       "      <td>0</td>\n",
       "      <td>0</td>\n",
       "      <td>0</td>\n",
       "      <td>0</td>\n",
       "    </tr>\n",
       "    <tr>\n",
       "      <th>4</th>\n",
       "      <td>0</td>\n",
       "      <td>0</td>\n",
       "      <td>0</td>\n",
       "      <td>0</td>\n",
       "      <td>0</td>\n",
       "      <td>0</td>\n",
       "      <td>0</td>\n",
       "      <td>0</td>\n",
       "      <td>0</td>\n",
       "      <td>0</td>\n",
       "      <td>...</td>\n",
       "      <td>0</td>\n",
       "      <td>0</td>\n",
       "      <td>0</td>\n",
       "      <td>0</td>\n",
       "      <td>0</td>\n",
       "      <td>0</td>\n",
       "      <td>0</td>\n",
       "      <td>0</td>\n",
       "      <td>0</td>\n",
       "      <td>0</td>\n",
       "    </tr>\n",
       "    <tr>\n",
       "      <th>...</th>\n",
       "      <td>...</td>\n",
       "      <td>...</td>\n",
       "      <td>...</td>\n",
       "      <td>...</td>\n",
       "      <td>...</td>\n",
       "      <td>...</td>\n",
       "      <td>...</td>\n",
       "      <td>...</td>\n",
       "      <td>...</td>\n",
       "      <td>...</td>\n",
       "      <td>...</td>\n",
       "      <td>...</td>\n",
       "      <td>...</td>\n",
       "      <td>...</td>\n",
       "      <td>...</td>\n",
       "      <td>...</td>\n",
       "      <td>...</td>\n",
       "      <td>...</td>\n",
       "      <td>...</td>\n",
       "      <td>...</td>\n",
       "      <td>...</td>\n",
       "    </tr>\n",
       "    <tr>\n",
       "      <th>995</th>\n",
       "      <td>0</td>\n",
       "      <td>0</td>\n",
       "      <td>0</td>\n",
       "      <td>0</td>\n",
       "      <td>0</td>\n",
       "      <td>0</td>\n",
       "      <td>0</td>\n",
       "      <td>0</td>\n",
       "      <td>0</td>\n",
       "      <td>0</td>\n",
       "      <td>...</td>\n",
       "      <td>0</td>\n",
       "      <td>0</td>\n",
       "      <td>0</td>\n",
       "      <td>0</td>\n",
       "      <td>0</td>\n",
       "      <td>0</td>\n",
       "      <td>0</td>\n",
       "      <td>0</td>\n",
       "      <td>0</td>\n",
       "      <td>0</td>\n",
       "    </tr>\n",
       "    <tr>\n",
       "      <th>996</th>\n",
       "      <td>0</td>\n",
       "      <td>0</td>\n",
       "      <td>0</td>\n",
       "      <td>0</td>\n",
       "      <td>0</td>\n",
       "      <td>0</td>\n",
       "      <td>0</td>\n",
       "      <td>0</td>\n",
       "      <td>0</td>\n",
       "      <td>0</td>\n",
       "      <td>...</td>\n",
       "      <td>0</td>\n",
       "      <td>0</td>\n",
       "      <td>0</td>\n",
       "      <td>0</td>\n",
       "      <td>0</td>\n",
       "      <td>0</td>\n",
       "      <td>0</td>\n",
       "      <td>0</td>\n",
       "      <td>0</td>\n",
       "      <td>0</td>\n",
       "    </tr>\n",
       "    <tr>\n",
       "      <th>997</th>\n",
       "      <td>0</td>\n",
       "      <td>0</td>\n",
       "      <td>0</td>\n",
       "      <td>0</td>\n",
       "      <td>0</td>\n",
       "      <td>0</td>\n",
       "      <td>0</td>\n",
       "      <td>0</td>\n",
       "      <td>0</td>\n",
       "      <td>0</td>\n",
       "      <td>...</td>\n",
       "      <td>0</td>\n",
       "      <td>0</td>\n",
       "      <td>0</td>\n",
       "      <td>0</td>\n",
       "      <td>0</td>\n",
       "      <td>0</td>\n",
       "      <td>0</td>\n",
       "      <td>0</td>\n",
       "      <td>0</td>\n",
       "      <td>0</td>\n",
       "    </tr>\n",
       "    <tr>\n",
       "      <th>998</th>\n",
       "      <td>0</td>\n",
       "      <td>0</td>\n",
       "      <td>0</td>\n",
       "      <td>0</td>\n",
       "      <td>0</td>\n",
       "      <td>0</td>\n",
       "      <td>0</td>\n",
       "      <td>0</td>\n",
       "      <td>0</td>\n",
       "      <td>0</td>\n",
       "      <td>...</td>\n",
       "      <td>0</td>\n",
       "      <td>0</td>\n",
       "      <td>0</td>\n",
       "      <td>0</td>\n",
       "      <td>0</td>\n",
       "      <td>0</td>\n",
       "      <td>0</td>\n",
       "      <td>0</td>\n",
       "      <td>0</td>\n",
       "      <td>0</td>\n",
       "    </tr>\n",
       "    <tr>\n",
       "      <th>999</th>\n",
       "      <td>0</td>\n",
       "      <td>0</td>\n",
       "      <td>0</td>\n",
       "      <td>0</td>\n",
       "      <td>0</td>\n",
       "      <td>0</td>\n",
       "      <td>0</td>\n",
       "      <td>0</td>\n",
       "      <td>0</td>\n",
       "      <td>0</td>\n",
       "      <td>...</td>\n",
       "      <td>0</td>\n",
       "      <td>0</td>\n",
       "      <td>0</td>\n",
       "      <td>0</td>\n",
       "      <td>0</td>\n",
       "      <td>0</td>\n",
       "      <td>0</td>\n",
       "      <td>0</td>\n",
       "      <td>0</td>\n",
       "      <td>0</td>\n",
       "    </tr>\n",
       "  </tbody>\n",
       "</table>\n",
       "<p>1000 rows × 31392 columns</p>\n",
       "</div>"
      ],
      "text/plain": [
       "     aapl  aaron  aaron ross  ab  abandon  abandon conservatives  abandoned  \\\n",
       "0       0      0           0   0        0                      0          0   \n",
       "1       0      0           0   0        0                      0          0   \n",
       "2       0      0           0   0        0                      0          0   \n",
       "3       0      0           0   0        0                      0          0   \n",
       "4       0      0           0   0        0                      0          0   \n",
       "..    ...    ...         ...  ..      ...                    ...        ...   \n",
       "995     0      0           0   0        0                      0          0   \n",
       "996     0      0           0   0        0                      0          0   \n",
       "997     0      0           0   0        0                      0          0   \n",
       "998     0      0           0   0        0                      0          0   \n",
       "999     0      0           0   0        0                      0          0   \n",
       "\n",
       "     abandoned grassroots  abandoning  abandoning quarter  ...  zone  zone eu  \\\n",
       "0                       0           0                   0  ...     0        0   \n",
       "1                       0           0                   0  ...     0        0   \n",
       "2                       0           0                   0  ...     0        0   \n",
       "3                       0           0                   0  ...     0        0   \n",
       "4                       0           0                   0  ...     0        0   \n",
       "..                    ...         ...                 ...  ...   ...      ...   \n",
       "995                     0           0                   0  ...     0        0   \n",
       "996                     0           0                   0  ...     0        0   \n",
       "997                     0           0                   0  ...     0        0   \n",
       "998                     0           0                   0  ...     0        0   \n",
       "999                     0           0                   0  ...     0        0   \n",
       "\n",
       "     zones  zoo  zoo closed  zooming  zor  zte  zte corp  zuckerberg  \n",
       "0        0    0           0        0    0    0         0           0  \n",
       "1        0    0           0        0    0    0         0           0  \n",
       "2        0    0           0        0    0    0         0           0  \n",
       "3        0    0           0        0    0    0         0           0  \n",
       "4        0    0           0        0    0    0         0           0  \n",
       "..     ...  ...         ...      ...  ...  ...       ...         ...  \n",
       "995      0    0           0        0    0    0         0           0  \n",
       "996      0    0           0        0    0    0         0           0  \n",
       "997      0    0           0        0    0    0         0           0  \n",
       "998      0    0           0        0    0    0         0           0  \n",
       "999      0    0           0        0    0    0         0           0  \n",
       "\n",
       "[1000 rows x 31392 columns]"
      ]
     },
     "execution_count": 43,
     "metadata": {},
     "output_type": "execute_result"
    }
   ],
   "source": [
    "vec = CountVectorizer(token_pattern=r\"([a-zA-Z]+(?:'[a-z]+)?)\",\n",
    "                      stop_words=sw, ngram_range=(1, 2),\n",
    "                      min_df=2, max_df=25)\n",
    "X = vec.fit_transform(corpus.body)\n",
    "\n",
    "df_cv = pd.DataFrame(X.toarray(), columns=vec.get_feature_names())\n",
    "df_cv"
   ]
  },
  {
   "cell_type": "markdown",
   "metadata": {
    "heading_collapsed": true,
    "hidden": true
   },
   "source": [
    "#### `TfidfVectorizer`"
   ]
  },
  {
   "cell_type": "markdown",
   "metadata": {
    "hidden": true
   },
   "source": [
    "There are many schemas for determining the values of each entry in a document term matrix, and one of the most common uses the TF-IDF algorithm -- \"Term Frequency-Inverse Document Frequency\". Essentially, tf-idf *normalizes* the raw count of the document term matrix. And it represents how important a word is in the given document. \n",
    "\n",
    "> The goal of using tf-idf instead of the raw frequencies of occurrence of a token in a given document is to scale down the impact of tokens that occur very frequently in a given corpus and that are hence empirically less informative than features that occur in a small fraction of the training corpus.\n",
    "\n",
    "- TF (Term Frequency)\n",
    "Term frequency is the frequency of the word in the document divided by the total words in the document.\n",
    "\n",
    "- IDF (inverse document frequency)\n",
    "Inverse document frequency is a measure of how much information the word provides, i.e., if it's common or rare across all documents. It is generally calculated as the logarithmically scaled inverse fraction of the documents that contain the word (obtained by dividing the total number of documents by the number of documents containing the term, and then taking the logarithm of that quotient):\n",
    "\n",
    "$$idf(w) = log (\\frac{number\\ of\\ documents}{num\\ of\\ documents\\ containing\\ w})$$\n",
    "\n",
    "tf-idf is the product of term frequency and inverse document frequency, or tf * idf. "
   ]
  },
  {
   "cell_type": "code",
   "execution_count": 44,
   "metadata": {
    "hidden": true
   },
   "outputs": [
    {
     "name": "stderr",
     "output_type": "stream",
     "text": [
      "C:\\Users\\user\\anaconda3\\lib\\site-packages\\sklearn\\utils\\deprecation.py:87: FutureWarning: Function get_feature_names is deprecated; get_feature_names is deprecated in 1.0 and will be removed in 1.2. Please use get_feature_names_out instead.\n",
      "  warnings.warn(msg, category=FutureWarning)\n"
     ]
    },
    {
     "data": {
      "text/html": [
       "<div>\n",
       "<style scoped>\n",
       "    .dataframe tbody tr th:only-of-type {\n",
       "        vertical-align: middle;\n",
       "    }\n",
       "\n",
       "    .dataframe tbody tr th {\n",
       "        vertical-align: top;\n",
       "    }\n",
       "\n",
       "    .dataframe thead th {\n",
       "        text-align: right;\n",
       "    }\n",
       "</style>\n",
       "<table border=\"1\" class=\"dataframe\">\n",
       "  <thead>\n",
       "    <tr style=\"text-align: right;\">\n",
       "      <th></th>\n",
       "      <th>aa</th>\n",
       "      <th>aaaaaaah</th>\n",
       "      <th>aaaaaah</th>\n",
       "      <th>aaaaargh</th>\n",
       "      <th>aaaah</th>\n",
       "      <th>aaah</th>\n",
       "      <th>aaargh</th>\n",
       "      <th>aah</th>\n",
       "      <th>aahing</th>\n",
       "      <th>aap</th>\n",
       "      <th>...</th>\n",
       "      <th>zoos</th>\n",
       "      <th>zor</th>\n",
       "      <th>zozovitch</th>\n",
       "      <th>zte</th>\n",
       "      <th>zuckerberg</th>\n",
       "      <th>zuercher</th>\n",
       "      <th>zverev</th>\n",
       "      <th>zych</th>\n",
       "      <th>zzouss</th>\n",
       "      <th>zzzzzst</th>\n",
       "    </tr>\n",
       "  </thead>\n",
       "  <tbody>\n",
       "    <tr>\n",
       "      <th>0</th>\n",
       "      <td>0.0</td>\n",
       "      <td>0.0</td>\n",
       "      <td>0.0</td>\n",
       "      <td>0.0</td>\n",
       "      <td>0.0</td>\n",
       "      <td>0.0</td>\n",
       "      <td>0.0</td>\n",
       "      <td>0.0</td>\n",
       "      <td>0.0</td>\n",
       "      <td>0.0</td>\n",
       "      <td>...</td>\n",
       "      <td>0.0</td>\n",
       "      <td>0.0</td>\n",
       "      <td>0.0</td>\n",
       "      <td>0.0</td>\n",
       "      <td>0.0</td>\n",
       "      <td>0.0</td>\n",
       "      <td>0.0</td>\n",
       "      <td>0.0</td>\n",
       "      <td>0.0</td>\n",
       "      <td>0.0</td>\n",
       "    </tr>\n",
       "    <tr>\n",
       "      <th>1</th>\n",
       "      <td>0.0</td>\n",
       "      <td>0.0</td>\n",
       "      <td>0.0</td>\n",
       "      <td>0.0</td>\n",
       "      <td>0.0</td>\n",
       "      <td>0.0</td>\n",
       "      <td>0.0</td>\n",
       "      <td>0.0</td>\n",
       "      <td>0.0</td>\n",
       "      <td>0.0</td>\n",
       "      <td>...</td>\n",
       "      <td>0.0</td>\n",
       "      <td>0.0</td>\n",
       "      <td>0.0</td>\n",
       "      <td>0.0</td>\n",
       "      <td>0.0</td>\n",
       "      <td>0.0</td>\n",
       "      <td>0.0</td>\n",
       "      <td>0.0</td>\n",
       "      <td>0.0</td>\n",
       "      <td>0.0</td>\n",
       "    </tr>\n",
       "    <tr>\n",
       "      <th>2</th>\n",
       "      <td>0.0</td>\n",
       "      <td>0.0</td>\n",
       "      <td>0.0</td>\n",
       "      <td>0.0</td>\n",
       "      <td>0.0</td>\n",
       "      <td>0.0</td>\n",
       "      <td>0.0</td>\n",
       "      <td>0.0</td>\n",
       "      <td>0.0</td>\n",
       "      <td>0.0</td>\n",
       "      <td>...</td>\n",
       "      <td>0.0</td>\n",
       "      <td>0.0</td>\n",
       "      <td>0.0</td>\n",
       "      <td>0.0</td>\n",
       "      <td>0.0</td>\n",
       "      <td>0.0</td>\n",
       "      <td>0.0</td>\n",
       "      <td>0.0</td>\n",
       "      <td>0.0</td>\n",
       "      <td>0.0</td>\n",
       "    </tr>\n",
       "    <tr>\n",
       "      <th>3</th>\n",
       "      <td>0.0</td>\n",
       "      <td>0.0</td>\n",
       "      <td>0.0</td>\n",
       "      <td>0.0</td>\n",
       "      <td>0.0</td>\n",
       "      <td>0.0</td>\n",
       "      <td>0.0</td>\n",
       "      <td>0.0</td>\n",
       "      <td>0.0</td>\n",
       "      <td>0.0</td>\n",
       "      <td>...</td>\n",
       "      <td>0.0</td>\n",
       "      <td>0.0</td>\n",
       "      <td>0.0</td>\n",
       "      <td>0.0</td>\n",
       "      <td>0.0</td>\n",
       "      <td>0.0</td>\n",
       "      <td>0.0</td>\n",
       "      <td>0.0</td>\n",
       "      <td>0.0</td>\n",
       "      <td>0.0</td>\n",
       "    </tr>\n",
       "    <tr>\n",
       "      <th>4</th>\n",
       "      <td>0.0</td>\n",
       "      <td>0.0</td>\n",
       "      <td>0.0</td>\n",
       "      <td>0.0</td>\n",
       "      <td>0.0</td>\n",
       "      <td>0.0</td>\n",
       "      <td>0.0</td>\n",
       "      <td>0.0</td>\n",
       "      <td>0.0</td>\n",
       "      <td>0.0</td>\n",
       "      <td>...</td>\n",
       "      <td>0.0</td>\n",
       "      <td>0.0</td>\n",
       "      <td>0.0</td>\n",
       "      <td>0.0</td>\n",
       "      <td>0.0</td>\n",
       "      <td>0.0</td>\n",
       "      <td>0.0</td>\n",
       "      <td>0.0</td>\n",
       "      <td>0.0</td>\n",
       "      <td>0.0</td>\n",
       "    </tr>\n",
       "  </tbody>\n",
       "</table>\n",
       "<p>5 rows × 23458 columns</p>\n",
       "</div>"
      ],
      "text/plain": [
       "    aa  aaaaaaah  aaaaaah  aaaaargh  aaaah  aaah  aaargh  aah  aahing  aap  \\\n",
       "0  0.0       0.0      0.0       0.0    0.0   0.0     0.0  0.0     0.0  0.0   \n",
       "1  0.0       0.0      0.0       0.0    0.0   0.0     0.0  0.0     0.0  0.0   \n",
       "2  0.0       0.0      0.0       0.0    0.0   0.0     0.0  0.0     0.0  0.0   \n",
       "3  0.0       0.0      0.0       0.0    0.0   0.0     0.0  0.0     0.0  0.0   \n",
       "4  0.0       0.0      0.0       0.0    0.0   0.0     0.0  0.0     0.0  0.0   \n",
       "\n",
       "   ...  zoos  zor  zozovitch  zte  zuckerberg  zuercher  zverev  zych  zzouss  \\\n",
       "0  ...   0.0  0.0        0.0  0.0         0.0       0.0     0.0   0.0     0.0   \n",
       "1  ...   0.0  0.0        0.0  0.0         0.0       0.0     0.0   0.0     0.0   \n",
       "2  ...   0.0  0.0        0.0  0.0         0.0       0.0     0.0   0.0     0.0   \n",
       "3  ...   0.0  0.0        0.0  0.0         0.0       0.0     0.0   0.0     0.0   \n",
       "4  ...   0.0  0.0        0.0  0.0         0.0       0.0     0.0   0.0     0.0   \n",
       "\n",
       "   zzzzzst  \n",
       "0      0.0  \n",
       "1      0.0  \n",
       "2      0.0  \n",
       "3      0.0  \n",
       "4      0.0  \n",
       "\n",
       "[5 rows x 23458 columns]"
      ]
     },
     "execution_count": 44,
     "metadata": {},
     "output_type": "execute_result"
    }
   ],
   "source": [
    "tf_vec = TfidfVectorizer(token_pattern=r\"([a-zA-Z]+(?:'[a-z]+)?)\", stop_words=sw)\n",
    "X = tf_vec.fit_transform(corpus.body)\n",
    "\n",
    "df = pd.DataFrame(X.toarray(), columns=tf_vec.get_feature_names())\n",
    "df.head()"
   ]
  },
  {
   "cell_type": "code",
   "execution_count": 45,
   "metadata": {
    "hidden": true
   },
   "outputs": [
    {
     "data": {
      "text/plain": [
       "'Power nerds, these are a special breed of techie nerds who want to take over the world with their technological prowess. From the birth of the World Wide Web, these power nerds have created and grown companies that are now monopolies controlling every facet of people’s lives. Smartphones, apps, search engines, social networks – power nerds are in everything, their power increases daily as more millions of people use their networks. Power nerds are ruthless, they are creatures who do not balk in crushing their opponents completely without mercy and their greed for complete controlling power over everything is boundless. To quote a few examples of companies that are run by ruthless power nerds, we can of course cite Facebook, Twitter, Amazon and Google. These companies are not only seeking to rule and control everything, they also are using their power to manipulate data taken from their platforms to make money and increase their influence, as well as shut down any voices that are not left leaning. All Hail Zuckerberg “Power nerds are inherently evil. Zuckerberg is one example of a power nerd so power hungry that he pursues global domination with a vehement ruthless nasty streak. These tech robots are machines, they are not really human anymore, their fuel is pure power and more power, and they will use billions of people to achieve their goals at all cost. Tech power nerds are farmers of people, they farm billions of people for data,” an observer of the current situation revealed. Power nerds also do not have a problem about farming data from billions of people without their knowledge, they also abuse their positions to be politically biased and censor free speech as a means of gaining even more power. One can only hope that companies like Facebook one day are brought to justice for their evil, devious crimes committed against billions of people. In 2009, Facebook was caught lying to their account holders about the amount and type of information it was collecting on them, and the company also explicitly lied about who they were providing that information to. As a result, the Federal Trade Commission censured the company in 2011 for violations of Article 5 of the Federal Trade Commission Act. The core mission of Article 5 of the FTC Act is to protect consumer welfare and prevent unfair business acts or practices from occurring. In defiance of the Federal Trade Commission’s order, Facebook continued to reveal their customers private account information to unauthorized individuals and corporations and is therefore liable for civil penalties of $41,484 per each violation – a fine that could reach $3 trillion Dollars. Talking about fines, Google, a company that controls 91.5% of search traffic in Europe alone, is being slapped with antitrust fines from the EU, but it’s only for a measly £2.14 billion, which for a company that pays literally no tax, is peanuts. At the end of the day, these companies led by power nerds have now spread their octopus-like grip over the whole globe, and to even begin deconstructing their evil plan of complete control, will be nearly impossible now unless these companies are fined, broken up and told to pay the tax they owe. Hopefully one day the power nerds are put in their place, and we can all breathe a breath of fresh air on a free internet once again.'"
      ]
     },
     "execution_count": 45,
     "metadata": {},
     "output_type": "execute_result"
    }
   ],
   "source": [
    "corpus.iloc[313].body"
   ]
  },
  {
   "cell_type": "code",
   "execution_count": 46,
   "metadata": {
    "hidden": true,
    "scrolled": true
   },
   "outputs": [
    {
     "data": {
      "text/plain": [
       "nerds         0.600312\n",
       "power         0.396376\n",
       "companies     0.168090\n",
       "billions      0.140697\n",
       "facebook      0.129217\n",
       "ruthless      0.127204\n",
       "company       0.106695\n",
       "evil          0.104667\n",
       "zuckerberg    0.098663\n",
       "people        0.095626\n",
       "Name: 313, dtype: float64"
      ]
     },
     "execution_count": 46,
     "metadata": {},
     "output_type": "execute_result"
    }
   ],
   "source": [
    "df.iloc[313].sort_values(ascending=False)[:10]"
   ]
  },
  {
   "cell_type": "markdown",
   "metadata": {
    "hidden": true
   },
   "source": [
    "Let's compare the tfidf to the count vectorizer output for one document."
   ]
  },
  {
   "cell_type": "code",
   "execution_count": 47,
   "metadata": {
    "hidden": true
   },
   "outputs": [
    {
     "name": "stderr",
     "output_type": "stream",
     "text": [
      "C:\\Users\\user\\anaconda3\\lib\\site-packages\\sklearn\\utils\\deprecation.py:87: FutureWarning: Function get_feature_names is deprecated; get_feature_names is deprecated in 1.0 and will be removed in 1.2. Please use get_feature_names_out instead.\n",
      "  warnings.warn(msg, category=FutureWarning)\n"
     ]
    },
    {
     "data": {
      "text/html": [
       "<div>\n",
       "<style scoped>\n",
       "    .dataframe tbody tr th:only-of-type {\n",
       "        vertical-align: middle;\n",
       "    }\n",
       "\n",
       "    .dataframe tbody tr th {\n",
       "        vertical-align: top;\n",
       "    }\n",
       "\n",
       "    .dataframe thead th {\n",
       "        text-align: right;\n",
       "    }\n",
       "</style>\n",
       "<table border=\"1\" class=\"dataframe\">\n",
       "  <thead>\n",
       "    <tr style=\"text-align: right;\">\n",
       "      <th></th>\n",
       "      <th>aa</th>\n",
       "      <th>aaaaaaah</th>\n",
       "      <th>aaaaaah</th>\n",
       "      <th>aaaaargh</th>\n",
       "      <th>aaaah</th>\n",
       "      <th>aaah</th>\n",
       "      <th>aaargh</th>\n",
       "      <th>aah</th>\n",
       "      <th>aahing</th>\n",
       "      <th>aap</th>\n",
       "      <th>...</th>\n",
       "      <th>zoos</th>\n",
       "      <th>zor</th>\n",
       "      <th>zozovitch</th>\n",
       "      <th>zte</th>\n",
       "      <th>zuckerberg</th>\n",
       "      <th>zuercher</th>\n",
       "      <th>zverev</th>\n",
       "      <th>zych</th>\n",
       "      <th>zzouss</th>\n",
       "      <th>zzzzzst</th>\n",
       "    </tr>\n",
       "  </thead>\n",
       "  <tbody>\n",
       "    <tr>\n",
       "      <th>0</th>\n",
       "      <td>0</td>\n",
       "      <td>0</td>\n",
       "      <td>0</td>\n",
       "      <td>0</td>\n",
       "      <td>0</td>\n",
       "      <td>0</td>\n",
       "      <td>0</td>\n",
       "      <td>0</td>\n",
       "      <td>0</td>\n",
       "      <td>0</td>\n",
       "      <td>...</td>\n",
       "      <td>0</td>\n",
       "      <td>0</td>\n",
       "      <td>0</td>\n",
       "      <td>0</td>\n",
       "      <td>0</td>\n",
       "      <td>0</td>\n",
       "      <td>0</td>\n",
       "      <td>0</td>\n",
       "      <td>0</td>\n",
       "      <td>0</td>\n",
       "    </tr>\n",
       "    <tr>\n",
       "      <th>1</th>\n",
       "      <td>0</td>\n",
       "      <td>0</td>\n",
       "      <td>0</td>\n",
       "      <td>0</td>\n",
       "      <td>0</td>\n",
       "      <td>0</td>\n",
       "      <td>0</td>\n",
       "      <td>0</td>\n",
       "      <td>0</td>\n",
       "      <td>0</td>\n",
       "      <td>...</td>\n",
       "      <td>0</td>\n",
       "      <td>0</td>\n",
       "      <td>0</td>\n",
       "      <td>0</td>\n",
       "      <td>0</td>\n",
       "      <td>0</td>\n",
       "      <td>0</td>\n",
       "      <td>0</td>\n",
       "      <td>0</td>\n",
       "      <td>0</td>\n",
       "    </tr>\n",
       "    <tr>\n",
       "      <th>2</th>\n",
       "      <td>0</td>\n",
       "      <td>0</td>\n",
       "      <td>0</td>\n",
       "      <td>0</td>\n",
       "      <td>0</td>\n",
       "      <td>0</td>\n",
       "      <td>0</td>\n",
       "      <td>0</td>\n",
       "      <td>0</td>\n",
       "      <td>0</td>\n",
       "      <td>...</td>\n",
       "      <td>0</td>\n",
       "      <td>0</td>\n",
       "      <td>0</td>\n",
       "      <td>0</td>\n",
       "      <td>0</td>\n",
       "      <td>0</td>\n",
       "      <td>0</td>\n",
       "      <td>0</td>\n",
       "      <td>0</td>\n",
       "      <td>0</td>\n",
       "    </tr>\n",
       "    <tr>\n",
       "      <th>3</th>\n",
       "      <td>0</td>\n",
       "      <td>0</td>\n",
       "      <td>0</td>\n",
       "      <td>0</td>\n",
       "      <td>0</td>\n",
       "      <td>0</td>\n",
       "      <td>0</td>\n",
       "      <td>0</td>\n",
       "      <td>0</td>\n",
       "      <td>0</td>\n",
       "      <td>...</td>\n",
       "      <td>0</td>\n",
       "      <td>0</td>\n",
       "      <td>0</td>\n",
       "      <td>0</td>\n",
       "      <td>0</td>\n",
       "      <td>0</td>\n",
       "      <td>0</td>\n",
       "      <td>0</td>\n",
       "      <td>0</td>\n",
       "      <td>0</td>\n",
       "    </tr>\n",
       "    <tr>\n",
       "      <th>4</th>\n",
       "      <td>0</td>\n",
       "      <td>0</td>\n",
       "      <td>0</td>\n",
       "      <td>0</td>\n",
       "      <td>0</td>\n",
       "      <td>0</td>\n",
       "      <td>0</td>\n",
       "      <td>0</td>\n",
       "      <td>0</td>\n",
       "      <td>0</td>\n",
       "      <td>...</td>\n",
       "      <td>0</td>\n",
       "      <td>0</td>\n",
       "      <td>0</td>\n",
       "      <td>0</td>\n",
       "      <td>0</td>\n",
       "      <td>0</td>\n",
       "      <td>0</td>\n",
       "      <td>0</td>\n",
       "      <td>0</td>\n",
       "      <td>0</td>\n",
       "    </tr>\n",
       "    <tr>\n",
       "      <th>...</th>\n",
       "      <td>...</td>\n",
       "      <td>...</td>\n",
       "      <td>...</td>\n",
       "      <td>...</td>\n",
       "      <td>...</td>\n",
       "      <td>...</td>\n",
       "      <td>...</td>\n",
       "      <td>...</td>\n",
       "      <td>...</td>\n",
       "      <td>...</td>\n",
       "      <td>...</td>\n",
       "      <td>...</td>\n",
       "      <td>...</td>\n",
       "      <td>...</td>\n",
       "      <td>...</td>\n",
       "      <td>...</td>\n",
       "      <td>...</td>\n",
       "      <td>...</td>\n",
       "      <td>...</td>\n",
       "      <td>...</td>\n",
       "      <td>...</td>\n",
       "    </tr>\n",
       "    <tr>\n",
       "      <th>995</th>\n",
       "      <td>0</td>\n",
       "      <td>0</td>\n",
       "      <td>0</td>\n",
       "      <td>0</td>\n",
       "      <td>0</td>\n",
       "      <td>0</td>\n",
       "      <td>0</td>\n",
       "      <td>0</td>\n",
       "      <td>0</td>\n",
       "      <td>0</td>\n",
       "      <td>...</td>\n",
       "      <td>0</td>\n",
       "      <td>0</td>\n",
       "      <td>0</td>\n",
       "      <td>0</td>\n",
       "      <td>0</td>\n",
       "      <td>0</td>\n",
       "      <td>0</td>\n",
       "      <td>0</td>\n",
       "      <td>0</td>\n",
       "      <td>0</td>\n",
       "    </tr>\n",
       "    <tr>\n",
       "      <th>996</th>\n",
       "      <td>0</td>\n",
       "      <td>0</td>\n",
       "      <td>0</td>\n",
       "      <td>0</td>\n",
       "      <td>0</td>\n",
       "      <td>0</td>\n",
       "      <td>0</td>\n",
       "      <td>0</td>\n",
       "      <td>0</td>\n",
       "      <td>0</td>\n",
       "      <td>...</td>\n",
       "      <td>0</td>\n",
       "      <td>0</td>\n",
       "      <td>0</td>\n",
       "      <td>0</td>\n",
       "      <td>0</td>\n",
       "      <td>0</td>\n",
       "      <td>0</td>\n",
       "      <td>0</td>\n",
       "      <td>0</td>\n",
       "      <td>0</td>\n",
       "    </tr>\n",
       "    <tr>\n",
       "      <th>997</th>\n",
       "      <td>0</td>\n",
       "      <td>0</td>\n",
       "      <td>0</td>\n",
       "      <td>0</td>\n",
       "      <td>0</td>\n",
       "      <td>0</td>\n",
       "      <td>0</td>\n",
       "      <td>0</td>\n",
       "      <td>0</td>\n",
       "      <td>0</td>\n",
       "      <td>...</td>\n",
       "      <td>0</td>\n",
       "      <td>0</td>\n",
       "      <td>0</td>\n",
       "      <td>0</td>\n",
       "      <td>0</td>\n",
       "      <td>0</td>\n",
       "      <td>0</td>\n",
       "      <td>0</td>\n",
       "      <td>0</td>\n",
       "      <td>0</td>\n",
       "    </tr>\n",
       "    <tr>\n",
       "      <th>998</th>\n",
       "      <td>0</td>\n",
       "      <td>0</td>\n",
       "      <td>0</td>\n",
       "      <td>0</td>\n",
       "      <td>0</td>\n",
       "      <td>0</td>\n",
       "      <td>0</td>\n",
       "      <td>0</td>\n",
       "      <td>0</td>\n",
       "      <td>0</td>\n",
       "      <td>...</td>\n",
       "      <td>0</td>\n",
       "      <td>0</td>\n",
       "      <td>0</td>\n",
       "      <td>0</td>\n",
       "      <td>0</td>\n",
       "      <td>0</td>\n",
       "      <td>0</td>\n",
       "      <td>0</td>\n",
       "      <td>0</td>\n",
       "      <td>0</td>\n",
       "    </tr>\n",
       "    <tr>\n",
       "      <th>999</th>\n",
       "      <td>0</td>\n",
       "      <td>0</td>\n",
       "      <td>0</td>\n",
       "      <td>0</td>\n",
       "      <td>0</td>\n",
       "      <td>0</td>\n",
       "      <td>0</td>\n",
       "      <td>0</td>\n",
       "      <td>0</td>\n",
       "      <td>0</td>\n",
       "      <td>...</td>\n",
       "      <td>0</td>\n",
       "      <td>0</td>\n",
       "      <td>0</td>\n",
       "      <td>0</td>\n",
       "      <td>0</td>\n",
       "      <td>0</td>\n",
       "      <td>0</td>\n",
       "      <td>0</td>\n",
       "      <td>0</td>\n",
       "      <td>0</td>\n",
       "    </tr>\n",
       "  </tbody>\n",
       "</table>\n",
       "<p>1000 rows × 23458 columns</p>\n",
       "</div>"
      ],
      "text/plain": [
       "     aa  aaaaaaah  aaaaaah  aaaaargh  aaaah  aaah  aaargh  aah  aahing  aap  \\\n",
       "0     0         0        0         0      0     0       0    0       0    0   \n",
       "1     0         0        0         0      0     0       0    0       0    0   \n",
       "2     0         0        0         0      0     0       0    0       0    0   \n",
       "3     0         0        0         0      0     0       0    0       0    0   \n",
       "4     0         0        0         0      0     0       0    0       0    0   \n",
       "..   ..       ...      ...       ...    ...   ...     ...  ...     ...  ...   \n",
       "995   0         0        0         0      0     0       0    0       0    0   \n",
       "996   0         0        0         0      0     0       0    0       0    0   \n",
       "997   0         0        0         0      0     0       0    0       0    0   \n",
       "998   0         0        0         0      0     0       0    0       0    0   \n",
       "999   0         0        0         0      0     0       0    0       0    0   \n",
       "\n",
       "     ...  zoos  zor  zozovitch  zte  zuckerberg  zuercher  zverev  zych  \\\n",
       "0    ...     0    0          0    0           0         0       0     0   \n",
       "1    ...     0    0          0    0           0         0       0     0   \n",
       "2    ...     0    0          0    0           0         0       0     0   \n",
       "3    ...     0    0          0    0           0         0       0     0   \n",
       "4    ...     0    0          0    0           0         0       0     0   \n",
       "..   ...   ...  ...        ...  ...         ...       ...     ...   ...   \n",
       "995  ...     0    0          0    0           0         0       0     0   \n",
       "996  ...     0    0          0    0           0         0       0     0   \n",
       "997  ...     0    0          0    0           0         0       0     0   \n",
       "998  ...     0    0          0    0           0         0       0     0   \n",
       "999  ...     0    0          0    0           0         0       0     0   \n",
       "\n",
       "     zzouss  zzzzzst  \n",
       "0         0        0  \n",
       "1         0        0  \n",
       "2         0        0  \n",
       "3         0        0  \n",
       "4         0        0  \n",
       "..      ...      ...  \n",
       "995       0        0  \n",
       "996       0        0  \n",
       "997       0        0  \n",
       "998       0        0  \n",
       "999       0        0  \n",
       "\n",
       "[1000 rows x 23458 columns]"
      ]
     },
     "execution_count": 47,
     "metadata": {},
     "output_type": "execute_result"
    }
   ],
   "source": [
    "vec = CountVectorizer(token_pattern=r\"([a-zA-Z]+(?:'[a-z]+)?)\", stop_words=sw)\n",
    "X = vec.fit_transform(corpus.body)\n",
    "\n",
    "df_cv = pd.DataFrame(X.toarray(), columns=vec.get_feature_names())\n",
    "df_cv"
   ]
  },
  {
   "cell_type": "code",
   "execution_count": 48,
   "metadata": {
    "hidden": true
   },
   "outputs": [
    {
     "data": {
      "text/plain": [
       "power        18\n",
       "nerds        11\n",
       "people        7\n",
       "companies     6\n",
       "billions      4\n",
       "facebook      4\n",
       "one           4\n",
       "also          4\n",
       "company       4\n",
       "data          3\n",
       "Name: 313, dtype: int64"
      ]
     },
     "execution_count": 48,
     "metadata": {},
     "output_type": "execute_result"
    }
   ],
   "source": [
    "df_cv.iloc[313].sort_values(ascending=False)[:10]"
   ]
  },
  {
   "cell_type": "markdown",
   "metadata": {
    "hidden": true
   },
   "source": [
    "The tfidf lessoned the importance of some of the more common words, including a word, \"also\", which might have made it into the stopword list.\n",
    "\n",
    "It also assigns \"nerds\" more weight than power.  "
   ]
  },
  {
   "cell_type": "code",
   "execution_count": 49,
   "metadata": {
    "hidden": true
   },
   "outputs": [
    {
     "name": "stdout",
     "output_type": "stream",
     "text": [
      "\"Nerds\" only shows up in document 313: 1 document.\n",
      "\"Power\" shows up in 147 documents!\n"
     ]
    }
   ],
   "source": [
    "print(f'\"Nerds\" only shows up in document 313: {len(df_cv[df.nerds!=0])} document.')\n",
    "print(f'\"Power\" shows up in {len(df_cv[df.power!=0])} documents!')"
   ]
  },
  {
   "cell_type": "markdown",
   "metadata": {
    "hidden": true
   },
   "source": [
    "All the words are stored in a `.vocabulary_` attribute:"
   ]
  },
  {
   "cell_type": "code",
   "execution_count": null,
   "metadata": {
    "hidden": true
   },
   "outputs": [],
   "source": [
    "tf_vec.vocabulary_"
   ]
  },
  {
   "cell_type": "markdown",
   "metadata": {
    "heading_collapsed": true,
    "hidden": true
   },
   "source": [
    "#### `HashingVectorizer`"
   ]
  },
  {
   "cell_type": "markdown",
   "metadata": {
    "hidden": true
   },
   "source": [
    "There is also a hashing vectorizer, which will encrypt all the words of the corpus."
   ]
  },
  {
   "cell_type": "code",
   "execution_count": null,
   "metadata": {
    "hidden": true
   },
   "outputs": [],
   "source": [
    "hvec = HashingVectorizer(token_pattern=r\"([a-zA-Z]+(?:'[a-z]+)?)\",\n",
    "                         stop_words=sw)\n",
    "X = hvec.fit_transform(corpus.body)\n",
    "\n",
    "df_cv = pd.DataFrame(X.toarray())\n",
    "df_cv"
   ]
  },
  {
   "cell_type": "markdown",
   "metadata": {
    "hidden": true
   },
   "source": [
    "Some rules of thumb about these vectorizers:\n",
    "\n",
    "**Tf-Idf**: Probably the most commonly used. Useful when the goal is to distinguish the **content** of documents from others in the corpus.\n",
    "\n",
    "**Count**: Useful when the words themselves matter. If the goal is instead about identifying authors by their words, then the fact that some word appears in many documents of the corpus may be important.\n",
    "\n",
    "**Hashing**: The advantage here is speed and low memory usage. The disadvantage is that you lose the identities of the words being tokenized. Useful for very large datasets where the ultimate model may be a bit of a black box."
   ]
  },
  {
   "cell_type": "markdown",
   "metadata": {
    "heading_collapsed": true,
    "hidden": true
   },
   "source": [
    "## Exercise"
   ]
  },
  {
   "cell_type": "markdown",
   "metadata": {
    "hidden": true
   },
   "source": [
    "For a final exercise, work through the following:\n",
    "\n",
    "Create a document term matrix of the 1000-document corpus. The vocabulary should have no stopwords, numbers, or punctuation, and it should be lemmatized. Use a `TfidfVectorizer`."
   ]
  },
  {
   "cell_type": "code",
   "execution_count": null,
   "metadata": {
    "hidden": true
   },
   "outputs": [],
   "source": [
    "# Your Code"
   ]
  }
 ],
 "metadata": {
  "kernelspec": {
   "display_name": "Python 3 (ipykernel)",
   "language": "python",
   "name": "python3"
  },
  "language_info": {
   "codemirror_mode": {
    "name": "ipython",
    "version": 3
   },
   "file_extension": ".py",
   "mimetype": "text/x-python",
   "name": "python",
   "nbconvert_exporter": "python",
   "pygments_lexer": "ipython3",
   "version": "3.9.13"
  },
  "toc": {
   "base_numbering": 1,
   "nav_menu": {},
   "number_sections": true,
   "sideBar": true,
   "skip_h1_title": false,
   "title_cell": "Table of Contents",
   "title_sidebar": "Contents",
   "toc_cell": false,
   "toc_position": {},
   "toc_section_display": true,
   "toc_window_display": false
  },
  "varInspector": {
   "cols": {
    "lenName": 16,
    "lenType": 16,
    "lenVar": 40
   },
   "kernels_config": {
    "python": {
     "delete_cmd_postfix": "",
     "delete_cmd_prefix": "del ",
     "library": "var_list.py",
     "varRefreshCmd": "print(var_dic_list())"
    },
    "r": {
     "delete_cmd_postfix": ") ",
     "delete_cmd_prefix": "rm(",
     "library": "var_list.r",
     "varRefreshCmd": "cat(var_dic_list()) "
    }
   },
   "types_to_exclude": [
    "module",
    "function",
    "builtin_function_or_method",
    "instance",
    "_Feature"
   ],
   "window_display": false
  }
 },
 "nbformat": 4,
 "nbformat_minor": 4
}
