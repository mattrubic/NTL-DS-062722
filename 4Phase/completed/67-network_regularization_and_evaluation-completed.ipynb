{
 "cells": [
  {
   "cell_type": "markdown",
   "metadata": {
    "slideshow": {
     "slide_type": "slide"
    }
   },
   "source": [
    "# Regularization and Evaluation of Neural Networks"
   ]
  },
  {
   "cell_type": "code",
   "execution_count": 3,
   "metadata": {
    "ExecuteTime": {
     "end_time": "2022-09-09T18:02:46.611545Z",
     "start_time": "2022-09-09T18:02:42.877618Z"
    }
   },
   "outputs": [],
   "source": [
    "from sklearn.datasets import load_sample_images\n",
    "from sklearn.datasets import load_digits\n",
    "from sklearn.model_selection import train_test_split, cross_val_score\n",
    "from sklearn.preprocessing import OneHotEncoder\n",
    "from sklearn.metrics import accuracy_score, confusion_matrix\n",
    "import matplotlib.pyplot as plt\n",
    "import matplotlib.image as mpimg\n",
    "import numpy as np\n",
    "import seaborn as sns\n",
    "\n",
    "from tensorflow.keras.models import Sequential\n",
    "from tensorflow.keras.layers import Dense, Dropout\n",
    "from tensorflow.keras.regularizers import l2\n",
    "from tensorflow.keras.optimizers import SGD\n",
    "from tensorflow.keras.wrappers import scikit_learn\n",
    "from tensorflow.keras.callbacks import EarlyStopping\n",
    "\n",
    "import os\n",
    "import sys\n",
    "module_path = os.path.abspath(os.path.join(os.pardir, os.pardir))\n",
    "if module_path not in sys.path:\n",
    "    sys.path.append(module_path)\n",
    "    \n",
    "from src.confusion import plot_confusion_matrix\n",
    "    \n",
    "%load_ext autoreload\n",
    "%autoreload 2"
   ]
  },
  {
   "cell_type": "markdown",
   "metadata": {},
   "source": [
    "## Learning Objectives"
   ]
  },
  {
   "cell_type": "markdown",
   "metadata": {},
   "source": [
    "- use `keras` to code up a neural network model;\n",
    "- explain dropout and early stopping as distinctive forms of regularization in neural networks;\n",
    "- use wrappers inside `keras` to make models that can jibe with `sklearn`."
   ]
  },
  {
   "cell_type": "markdown",
   "metadata": {},
   "source": [
    "### From last time"
   ]
  },
  {
   "cell_type": "code",
   "execution_count": 22,
   "metadata": {
    "ExecuteTime": {
     "end_time": "2022-09-09T18:11:51.952821Z",
     "start_time": "2022-09-09T18:11:51.760821Z"
    }
   },
   "outputs": [],
   "source": [
    "digits = load_digits()\n",
    "X = digits.data.astype('float32')\n",
    "y = digits.target.astype('float32')\n",
    "\n",
    "y_binary = y % 2"
   ]
  },
  {
   "cell_type": "code",
   "execution_count": 23,
   "metadata": {
    "ExecuteTime": {
     "end_time": "2022-09-09T18:11:58.865820Z",
     "start_time": "2022-09-09T18:11:52.737319Z"
    },
    "scrolled": true
   },
   "outputs": [
    {
     "name": "stdout",
     "output_type": "stream",
     "text": [
      "Epoch 1/50\n",
      "180/180 [==============================] - 0s 581us/step - loss: 0.6168 - accuracy: 0.6722\n",
      "Epoch 2/50\n",
      "180/180 [==============================] - 0s 600us/step - loss: 0.2742 - accuracy: 0.8831\n",
      "Epoch 3/50\n",
      "180/180 [==============================] - 0s 650us/step - loss: 0.1911 - accuracy: 0.9232\n",
      "Epoch 4/50\n",
      "180/180 [==============================] - 0s 761us/step - loss: 0.1483 - accuracy: 0.9449\n",
      "Epoch 5/50\n",
      "180/180 [==============================] - 0s 583us/step - loss: 0.1241 - accuracy: 0.9516\n",
      "Epoch 6/50\n",
      "180/180 [==============================] - 0s 678us/step - loss: 0.1022 - accuracy: 0.9588\n",
      "Epoch 7/50\n",
      "180/180 [==============================] - 0s 594us/step - loss: 0.0840 - accuracy: 0.9688\n",
      "Epoch 8/50\n",
      "180/180 [==============================] - 0s 525us/step - loss: 0.0744 - accuracy: 0.9711\n",
      "Epoch 9/50\n",
      "180/180 [==============================] - 0s 539us/step - loss: 0.0642 - accuracy: 0.9750\n",
      "Epoch 10/50\n",
      "180/180 [==============================] - 0s 530us/step - loss: 0.0558 - accuracy: 0.9777\n",
      "Epoch 11/50\n",
      "180/180 [==============================] - 0s 519us/step - loss: 0.0497 - accuracy: 0.9850\n",
      "Epoch 12/50\n",
      "180/180 [==============================] - 0s 650us/step - loss: 0.0446 - accuracy: 0.9844\n",
      "Epoch 13/50\n",
      "180/180 [==============================] - 0s 553us/step - loss: 0.0413 - accuracy: 0.9872\n",
      "Epoch 14/50\n",
      "180/180 [==============================] - 0s 597us/step - loss: 0.0415 - accuracy: 0.9872\n",
      "Epoch 15/50\n",
      "180/180 [==============================] - 0s 536us/step - loss: 0.0360 - accuracy: 0.9866\n",
      "Epoch 16/50\n",
      "180/180 [==============================] - 0s 747us/step - loss: 0.0339 - accuracy: 0.9894\n",
      "Epoch 17/50\n",
      "180/180 [==============================] - 0s 614us/step - loss: 0.0313 - accuracy: 0.9894\n",
      "Epoch 18/50\n",
      "180/180 [==============================] - 0s 519us/step - loss: 0.0288 - accuracy: 0.9872\n",
      "Epoch 19/50\n",
      "180/180 [==============================] - 0s 569us/step - loss: 0.0251 - accuracy: 0.9922\n",
      "Epoch 20/50\n",
      "180/180 [==============================] - 0s 519us/step - loss: 0.0209 - accuracy: 0.9933\n",
      "Epoch 21/50\n",
      "180/180 [==============================] - 0s 617us/step - loss: 0.0207 - accuracy: 0.9933\n",
      "Epoch 22/50\n",
      "180/180 [==============================] - 0s 597us/step - loss: 0.0198 - accuracy: 0.9939\n",
      "Epoch 23/50\n",
      "180/180 [==============================] - 0s 636us/step - loss: 0.0170 - accuracy: 0.9933\n",
      "Epoch 24/50\n",
      "180/180 [==============================] - 0s 519us/step - loss: 0.0156 - accuracy: 0.9928\n",
      "Epoch 25/50\n",
      "180/180 [==============================] - 0s 544us/step - loss: 0.0171 - accuracy: 0.9939\n",
      "Epoch 26/50\n",
      "180/180 [==============================] - 0s 533us/step - loss: 0.0138 - accuracy: 0.9961\n",
      "Epoch 27/50\n",
      "180/180 [==============================] - 0s 622us/step - loss: 0.0121 - accuracy: 0.9967\n",
      "Epoch 28/50\n",
      "180/180 [==============================] - 0s 536us/step - loss: 0.0118 - accuracy: 0.9950\n",
      "Epoch 29/50\n",
      "180/180 [==============================] - 0s 561us/step - loss: 0.0110 - accuracy: 0.9955\n",
      "Epoch 30/50\n",
      "180/180 [==============================] - 0s 553us/step - loss: 0.0105 - accuracy: 0.9961\n",
      "Epoch 31/50\n",
      "180/180 [==============================] - 0s 514us/step - loss: 0.0121 - accuracy: 0.9933\n",
      "Epoch 32/50\n",
      "180/180 [==============================] - 0s 583us/step - loss: 0.0095 - accuracy: 0.9961\n",
      "Epoch 33/50\n",
      "180/180 [==============================] - 0s 744us/step - loss: 0.0079 - accuracy: 0.9961\n",
      "Epoch 34/50\n",
      "180/180 [==============================] - 0s 722us/step - loss: 0.0073 - accuracy: 0.9972\n",
      "Epoch 35/50\n",
      "180/180 [==============================] - 0s 533us/step - loss: 0.0070 - accuracy: 0.9972\n",
      "Epoch 36/50\n",
      "180/180 [==============================] - 0s 558us/step - loss: 0.0062 - accuracy: 0.9967\n",
      "Epoch 37/50\n",
      "180/180 [==============================] - 0s 653us/step - loss: 0.0058 - accuracy: 0.9972\n",
      "Epoch 38/50\n",
      "180/180 [==============================] - 0s 589us/step - loss: 0.0046 - accuracy: 0.9989\n",
      "Epoch 39/50\n",
      "180/180 [==============================] - 0s 600us/step - loss: 0.0052 - accuracy: 0.9978\n",
      "Epoch 40/50\n",
      "180/180 [==============================] - 0s 567us/step - loss: 0.0040 - accuracy: 0.9983\n",
      "Epoch 41/50\n",
      "180/180 [==============================] - 0s 544us/step - loss: 0.0044 - accuracy: 0.9989\n",
      "Epoch 42/50\n",
      "180/180 [==============================] - 0s 525us/step - loss: 0.0038 - accuracy: 0.9983\n",
      "Epoch 43/50\n",
      "180/180 [==============================] - 0s 567us/step - loss: 0.0030 - accuracy: 0.9983\n",
      "Epoch 44/50\n",
      "180/180 [==============================] - 0s 583us/step - loss: 0.0024 - accuracy: 1.0000\n",
      "Epoch 45/50\n",
      "180/180 [==============================] - 0s 558us/step - loss: 0.0020 - accuracy: 1.0000\n",
      "Epoch 46/50\n",
      "180/180 [==============================] - 0s 544us/step - loss: 0.0044 - accuracy: 0.9983\n",
      "Epoch 47/50\n",
      "180/180 [==============================] - 0s 592us/step - loss: 9.5888e-04 - accuracy: 1.0000\n",
      "Epoch 48/50\n",
      "180/180 [==============================] - 0s 653us/step - loss: 0.0013 - accuracy: 1.0000\n",
      "Epoch 49/50\n",
      "180/180 [==============================] - 0s 603us/step - loss: 0.0015 - accuracy: 0.9994\n",
      "Epoch 50/50\n",
      "180/180 [==============================] - 0s 536us/step - loss: 0.0017 - accuracy: 0.9994\n"
     ]
    },
    {
     "data": {
      "text/plain": [
       "<tensorflow.python.keras.callbacks.History at 0x26ed2c06700>"
      ]
     },
     "execution_count": 23,
     "metadata": {},
     "output_type": "execute_result"
    }
   ],
   "source": [
    "model = Sequential()\n",
    "model.add(Dense(12, activation='relu', input_dim=64))\n",
    "model.add(Dense(8, activation='relu'))\n",
    "model.add(Dense(1, activation='sigmoid'))\n",
    "\n",
    "model.compile(optimizer='rmsprop',\n",
    "              loss='binary_crossentropy',\n",
    "              metrics=['accuracy'])\n",
    "\n",
    "model.fit(X, y_binary, epochs=50, batch_size=10)"
   ]
  },
  {
   "cell_type": "markdown",
   "metadata": {},
   "source": [
    "### Things to know:"
   ]
  },
  {
   "cell_type": "markdown",
   "metadata": {},
   "source": [
    "- The data and labels in `fit()` need to be numpy arrays, not `pandas` dfs.\n",
    "- Scaling your data will have a large impact on your model.\n",
    "   > For our traditional input features, we would use a scaler object. For images, as long as the minimum value is 0, we can simply divide through by the maximum pixel intensity."
   ]
  },
  {
   "cell_type": "markdown",
   "metadata": {},
   "source": [
    "#### Getting data ready for modeling"
   ]
  },
  {
   "cell_type": "markdown",
   "metadata": {},
   "source": [
    "**Preprocessing**:\n",
    "\n",
    "- use train_test_split to create X_train, y_train, X_test, and y_test\n",
    "- Split training data into pure_train and validation sets.\n",
    "- Scale the pixel intensity to a value between 0 and 1."
   ]
  },
  {
   "cell_type": "markdown",
   "metadata": {},
   "source": [
    "Scaling our input variables will help speed up our neural network.\n",
    "\n",
    "Since our minimum intensity is 0, we can normalize the inputs by dividing each value by the max value (16)."
   ]
  },
  {
   "cell_type": "code",
   "execution_count": 25,
   "metadata": {
    "ExecuteTime": {
     "end_time": "2022-09-09T18:12:03.174591Z",
     "start_time": "2022-09-09T18:12:03.052596Z"
    }
   },
   "outputs": [],
   "source": [
    "X_train, X_test, y_train, y_test =\\\n",
    "    train_test_split(X, y_binary, random_state=42, test_size=0.2)\n",
    "\n",
    "X_pure_train, X_val, y_pure_train, y_val =\\\n",
    "    train_test_split(X_train, y_train, random_state=42, test_size=0.2)\n",
    "\n",
    "X_pure_train, X_val, X_test = X_pure_train/16, X_val/16, X_test/16"
   ]
  },
  {
   "cell_type": "code",
   "execution_count": 26,
   "metadata": {
    "ExecuteTime": {
     "end_time": "2022-09-09T18:12:03.856565Z",
     "start_time": "2022-09-09T18:12:03.739067Z"
    }
   },
   "outputs": [
    {
     "data": {
      "text/plain": [
       "array([[0.    , 0.    , 0.    , ..., 0.875 , 0.    , 0.    ],\n",
       "       [0.    , 0.    , 0.125 , ..., 0.    , 0.    , 0.    ],\n",
       "       [0.    , 0.    , 0.    , ..., 0.    , 0.    , 0.    ],\n",
       "       ...,\n",
       "       [0.    , 0.    , 0.375 , ..., 0.1875, 0.    , 0.    ],\n",
       "       [0.    , 0.    , 0.625 , ..., 0.8125, 1.    , 0.5   ],\n",
       "       [0.    , 0.    , 0.25  , ..., 0.0625, 0.    , 0.    ]],\n",
       "      dtype=float32)"
      ]
     },
     "execution_count": 26,
     "metadata": {},
     "output_type": "execute_result"
    }
   ],
   "source": [
    "X_pure_train"
   ]
  },
  {
   "cell_type": "markdown",
   "metadata": {},
   "source": [
    "### Sigmoid "
   ]
  },
  {
   "cell_type": "markdown",
   "metadata": {},
   "source": [
    "For activation, let's start with the familiar sigmoid function, and see how it performs."
   ]
  },
  {
   "cell_type": "code",
   "execution_count": 27,
   "metadata": {
    "ExecuteTime": {
     "end_time": "2022-09-09T18:12:06.104167Z",
     "start_time": "2022-09-09T18:12:05.466667Z"
    }
   },
   "outputs": [
    {
     "name": "stdout",
     "output_type": "stream",
     "text": [
      "Epoch 1/10\n",
      "12/12 [==============================] - 0s 583us/step - loss: 0.6920 - accuracy: 0.5039\n",
      "Epoch 2/10\n",
      "12/12 [==============================] - 0s 833us/step - loss: 0.6919 - accuracy: 0.5039\n",
      "Epoch 3/10\n",
      "12/12 [==============================] - 0s 625us/step - loss: 0.6917 - accuracy: 0.5048\n",
      "Epoch 4/10\n",
      "12/12 [==============================] - 0s 792us/step - loss: 0.6916 - accuracy: 0.5039\n",
      "Epoch 5/10\n",
      "12/12 [==============================] - 0s 750us/step - loss: 0.6915 - accuracy: 0.5057\n",
      "Epoch 6/10\n",
      "12/12 [==============================] - 0s 583us/step - loss: 0.6914 - accuracy: 0.5057\n",
      "Epoch 7/10\n",
      "12/12 [==============================] - 0s 625us/step - loss: 0.6913 - accuracy: 0.5083\n",
      "Epoch 8/10\n",
      "12/12 [==============================] - 0s 542us/step - loss: 0.6912 - accuracy: 0.5109\n",
      "Epoch 9/10\n",
      "12/12 [==============================] - 0s 625us/step - loss: 0.6912 - accuracy: 0.5126\n",
      "Epoch 10/10\n",
      "12/12 [==============================] - 0s 667us/step - loss: 0.6911 - accuracy: 0.5170\n"
     ]
    }
   ],
   "source": [
    "model = Sequential()\n",
    "# We will start with our trusty sigmoid function.\n",
    "# What does input dimension correspond to?\n",
    "model.add(Dense(12, activation='sigmoid', input_dim=64))\n",
    "model.add(Dense(8, activation='sigmoid'))\n",
    "model.add(Dense(1, activation='sigmoid'))\n",
    "\n",
    "model.compile(optimizer='SGD' ,\n",
    "              # We use binary_crossentropy for a binary loss function\n",
    "              loss='binary_crossentropy',\n",
    "              metrics=['accuracy'])\n",
    "\n",
    "# Assign the variable history to store the results,\n",
    "# and set verbose=1 so we can see the output. To see\n",
    "# only the metrics at the end of each epoch, set verbose=2.\n",
    "results = model.fit(X_pure_train, y_pure_train, epochs=10, batch_size=100, verbose=1)"
   ]
  },
  {
   "cell_type": "markdown",
   "metadata": {},
   "source": [
    "We can access the history of our model via `results.history`.\n",
    "Use __dict__ to take a tour."
   ]
  },
  {
   "cell_type": "code",
   "execution_count": 28,
   "metadata": {
    "ExecuteTime": {
     "end_time": "2022-09-09T18:12:07.420965Z",
     "start_time": "2022-09-09T18:12:07.289937Z"
    }
   },
   "outputs": [
    {
     "data": {
      "text/plain": [
       "{'validation_data': None,\n",
       " 'model': <tensorflow.python.keras.engine.sequential.Sequential at 0x26ed2ca1400>,\n",
       " '_chief_worker_only': None,\n",
       " '_supports_tf_logs': False,\n",
       " 'history': {'loss': [0.6919955611228943,\n",
       "   0.6918622255325317,\n",
       "   0.6917317509651184,\n",
       "   0.6916241645812988,\n",
       "   0.6915319561958313,\n",
       "   0.6914480924606323,\n",
       "   0.6913225054740906,\n",
       "   0.691236138343811,\n",
       "   0.6911607384681702,\n",
       "   0.6910787224769592],\n",
       "  'accuracy': [0.5039164423942566,\n",
       "   0.5039164423942566,\n",
       "   0.5047867894172668,\n",
       "   0.5039164423942566,\n",
       "   0.5056570768356323,\n",
       "   0.5056570768356323,\n",
       "   0.5082680583000183,\n",
       "   0.5108790397644043,\n",
       "   0.51261967420578,\n",
       "   0.5169712901115417]},\n",
       " 'params': {'verbose': 1, 'epochs': 10, 'steps': 12},\n",
       " 'epoch': [0, 1, 2, 3, 4, 5, 6, 7, 8, 9]}"
      ]
     },
     "execution_count": 28,
     "metadata": {},
     "output_type": "execute_result"
    }
   ],
   "source": [
    "# dict\n",
    "\n",
    "results.__dict__"
   ]
  },
  {
   "cell_type": "code",
   "execution_count": 29,
   "metadata": {
    "ExecuteTime": {
     "end_time": "2022-09-09T18:12:08.443936Z",
     "start_time": "2022-09-09T18:12:08.316438Z"
    }
   },
   "outputs": [
    {
     "data": {
      "text/plain": [
       "{'loss': [0.6919955611228943,\n",
       "  0.6918622255325317,\n",
       "  0.6917317509651184,\n",
       "  0.6916241645812988,\n",
       "  0.6915319561958313,\n",
       "  0.6914480924606323,\n",
       "  0.6913225054740906,\n",
       "  0.691236138343811,\n",
       "  0.6911607384681702,\n",
       "  0.6910787224769592],\n",
       " 'accuracy': [0.5039164423942566,\n",
       "  0.5039164423942566,\n",
       "  0.5047867894172668,\n",
       "  0.5039164423942566,\n",
       "  0.5056570768356323,\n",
       "  0.5056570768356323,\n",
       "  0.5082680583000183,\n",
       "  0.5108790397644043,\n",
       "  0.51261967420578,\n",
       "  0.5169712901115417]}"
      ]
     },
     "execution_count": 29,
     "metadata": {},
     "output_type": "execute_result"
    }
   ],
   "source": [
    "results.history"
   ]
  },
  {
   "cell_type": "code",
   "execution_count": 30,
   "metadata": {
    "ExecuteTime": {
     "end_time": "2022-09-09T18:12:09.544437Z",
     "start_time": "2022-09-09T18:12:09.164467Z"
    }
   },
   "outputs": [
    {
     "data": {
      "image/png": "[encoded data removed]",
      "text/plain": [
       "<Figure size 720x360 with 2 Axes>"
      ]
     },
     "metadata": {
      "needs_background": "light"
     },
     "output_type": "display_data"
    }
   ],
   "source": [
    "sigmoid_loss = results.history['loss']\n",
    "sigmoid_accuracy = results.history['accuracy']\n",
    "\n",
    "fig, (ax1, ax2) = plt.subplots(1, 2, figsize=(10, 5))\n",
    "sns.lineplot(x=results.epoch, y=sigmoid_loss, ax=ax1, label='loss')\n",
    "sns.lineplot(x=results.epoch, y=sigmoid_accuracy, ax=ax2, label='accuracy');"
   ]
  },
  {
   "cell_type": "markdown",
   "metadata": {},
   "source": [
    "We have two plots above both relating to the quality of our model.  The left-hand plot is our loss. It uses the probabilities associated with our predictions to judge how well our prediction fits reality. We want it to decrease as far as possible.\n",
    "\n",
    "The accuracy judges how well the predictions are after applying the threshold at the output layer.  We want accuracy to increase."
   ]
  },
  {
   "cell_type": "markdown",
   "metadata": {},
   "source": [
    "If we look at our loss, it is still decreasing. That is a signal that our model is **still learning**. If our model is still learning, we can allow it to get better by turning a few dials.\n",
    "\n",
    "Let's:\n",
    "- increase the number of epochs;\n",
    "- change sigmoid activation in the hidden layers to ReLU; and\n",
    "- decrease the batch size."
   ]
  },
  {
   "cell_type": "markdown",
   "metadata": {},
   "source": [
    "## Basic Model Tuning"
   ]
  },
  {
   "cell_type": "markdown",
   "metadata": {},
   "source": [
    "### Increase Epochs"
   ]
  },
  {
   "cell_type": "code",
   "execution_count": 31,
   "metadata": {
    "ExecuteTime": {
     "end_time": "2022-09-09T18:12:24.950846Z",
     "start_time": "2022-09-09T18:12:23.175347Z"
    }
   },
   "outputs": [
    {
     "name": "stdout",
     "output_type": "stream",
     "text": [
      "Epoch 1/100\n",
      "12/12 [==============================] - 0s 750us/step - loss: 0.7566 - accuracy: 0.4961\n",
      "Epoch 2/100\n",
      "12/12 [==============================] - 0s 792us/step - loss: 0.7458 - accuracy: 0.4961\n",
      "Epoch 3/100\n",
      "12/12 [==============================] - 0s 708us/step - loss: 0.7365 - accuracy: 0.4961\n",
      "Epoch 4/100\n",
      "12/12 [==============================] - 0s 583us/step - loss: 0.7292 - accuracy: 0.4961\n",
      "Epoch 5/100\n",
      "12/12 [==============================] - 0s 917us/step - loss: 0.7233 - accuracy: 0.4961\n",
      "Epoch 6/100\n",
      "12/12 [==============================] - 0s 625us/step - loss: 0.7185 - accuracy: 0.4961\n",
      "Epoch 7/100\n",
      "12/12 [==============================] - 0s 625us/step - loss: 0.7143 - accuracy: 0.4961\n",
      "Epoch 8/100\n",
      "12/12 [==============================] - 0s 583us/step - loss: 0.7110 - accuracy: 0.4961\n",
      "Epoch 9/100\n",
      "12/12 [==============================] - 0s 1ms/step - loss: 0.7085 - accuracy: 0.4961\n",
      "Epoch 10/100\n",
      "12/12 [==============================] - 0s 667us/step - loss: 0.7065 - accuracy: 0.4961\n",
      "Epoch 11/100\n",
      "12/12 [==============================] - 0s 708us/step - loss: 0.7046 - accuracy: 0.4961\n",
      "Epoch 12/100\n",
      "12/12 [==============================] - 0s 709us/step - loss: 0.7031 - accuracy: 0.4961\n",
      "Epoch 13/100\n",
      "12/12 [==============================] - 0s 583us/step - loss: 0.7019 - accuracy: 0.4961\n",
      "Epoch 14/100\n",
      "12/12 [==============================] - 0s 667us/step - loss: 0.7010 - accuracy: 0.4961\n",
      "Epoch 15/100\n",
      "12/12 [==============================] - 0s 875us/step - loss: 0.7002 - accuracy: 0.4961\n",
      "Epoch 16/100\n",
      "12/12 [==============================] - 0s 750us/step - loss: 0.6996 - accuracy: 0.4961\n",
      "Epoch 17/100\n",
      "12/12 [==============================] - 0s 625us/step - loss: 0.6991 - accuracy: 0.4961\n",
      "Epoch 18/100\n",
      "12/12 [==============================] - 0s 792us/step - loss: 0.6986 - accuracy: 0.4961\n",
      "Epoch 19/100\n",
      "12/12 [==============================] - 0s 625us/step - loss: 0.6982 - accuracy: 0.4961\n",
      "Epoch 20/100\n",
      "12/12 [==============================] - 0s 667us/step - loss: 0.6979 - accuracy: 0.4961\n",
      "Epoch 21/100\n",
      "12/12 [==============================] - 0s 542us/step - loss: 0.6977 - accuracy: 0.4961\n",
      "Epoch 22/100\n",
      "12/12 [==============================] - 0s 1ms/step - loss: 0.6974 - accuracy: 0.4952\n",
      "Epoch 23/100\n",
      "12/12 [==============================] - 0s 750us/step - loss: 0.6972 - accuracy: 0.4952\n",
      "Epoch 24/100\n",
      "12/12 [==============================] - 0s 1ms/step - loss: 0.6970 - accuracy: 0.4926\n",
      "Epoch 25/100\n",
      "12/12 [==============================] - 0s 1ms/step - loss: 0.6968 - accuracy: 0.4935\n",
      "Epoch 26/100\n",
      "12/12 [==============================] - 0s 500us/step - loss: 0.6967 - accuracy: 0.4795\n",
      "Epoch 27/100\n",
      "12/12 [==============================] - 0s 708us/step - loss: 0.6966 - accuracy: 0.4630\n",
      "Epoch 28/100\n",
      "12/12 [==============================] - 0s 1ms/step - loss: 0.6965 - accuracy: 0.4352\n",
      "Epoch 29/100\n",
      "12/12 [==============================] - 0s 583us/step - loss: 0.6964 - accuracy: 0.4238\n",
      "Epoch 30/100\n",
      "12/12 [==============================] - 0s 708us/step - loss: 0.6963 - accuracy: 0.3621\n",
      "Epoch 31/100\n",
      "12/12 [==============================] - 0s 750us/step - loss: 0.6962 - accuracy: 0.3586\n",
      "Epoch 32/100\n",
      "12/12 [==============================] - 0s 667us/step - loss: 0.6961 - accuracy: 0.3673\n",
      "Epoch 33/100\n",
      "12/12 [==============================] - 0s 792us/step - loss: 0.6960 - accuracy: 0.3621\n",
      "Epoch 34/100\n",
      "12/12 [==============================] - 0s 958us/step - loss: 0.6960 - accuracy: 0.3708\n",
      "Epoch 35/100\n",
      "12/12 [==============================] - 0s 834us/step - loss: 0.6958 - accuracy: 0.3621\n",
      "Epoch 36/100\n",
      "12/12 [==============================] - 0s 958us/step - loss: 0.6958 - accuracy: 0.3760\n",
      "Epoch 37/100\n",
      "12/12 [==============================] - 0s 2ms/step - loss: 0.6957 - accuracy: 0.3786\n",
      "Epoch 38/100\n",
      "12/12 [==============================] - 0s 958us/step - loss: 0.6956 - accuracy: 0.3777\n",
      "Epoch 39/100\n",
      "12/12 [==============================] - 0s 750us/step - loss: 0.6955 - accuracy: 0.3847\n",
      "Epoch 40/100\n",
      "12/12 [==============================] - 0s 2ms/step - loss: 0.6954 - accuracy: 0.3908\n",
      "Epoch 41/100\n",
      "12/12 [==============================] - 0s 1ms/step - loss: 0.6954 - accuracy: 0.4143\n",
      "Epoch 42/100\n",
      "12/12 [==============================] - 0s 792us/step - loss: 0.6953 - accuracy: 0.4125\n",
      "Epoch 43/100\n",
      "12/12 [==============================] - 0s 583us/step - loss: 0.6952 - accuracy: 0.4125\n",
      "Epoch 44/100\n",
      "12/12 [==============================] - 0s 500us/step - loss: 0.6952 - accuracy: 0.4369\n",
      "Epoch 45/100\n",
      "12/12 [==============================] - 0s 1ms/step - loss: 0.6951 - accuracy: 0.4334\n",
      "Epoch 46/100\n",
      "12/12 [==============================] - 0s 667us/step - loss: 0.6950 - accuracy: 0.4404\n",
      "Epoch 47/100\n",
      "12/12 [==============================] - 0s 667us/step - loss: 0.6950 - accuracy: 0.4334\n",
      "Epoch 48/100\n",
      "12/12 [==============================] - 0s 625us/step - loss: 0.6949 - accuracy: 0.4526\n",
      "Epoch 49/100\n",
      "12/12 [==============================] - 0s 958us/step - loss: 0.6948 - accuracy: 0.4395\n",
      "Epoch 50/100\n",
      "12/12 [==============================] - 0s 833us/step - loss: 0.6948 - accuracy: 0.4543\n",
      "Epoch 51/100\n",
      "12/12 [==============================] - 0s 750us/step - loss: 0.6947 - accuracy: 0.4630\n",
      "Epoch 52/100\n",
      "12/12 [==============================] - 0s 500us/step - loss: 0.6946 - accuracy: 0.4552\n",
      "Epoch 53/100\n",
      "12/12 [==============================] - 0s 625us/step - loss: 0.6946 - accuracy: 0.4552\n",
      "Epoch 54/100\n",
      "12/12 [==============================] - 0s 542us/step - loss: 0.6945 - accuracy: 0.4621\n",
      "Epoch 55/100\n",
      "12/12 [==============================] - 0s 542us/step - loss: 0.6944 - accuracy: 0.4578\n",
      "Epoch 56/100\n",
      "12/12 [==============================] - 0s 1ms/step - loss: 0.6944 - accuracy: 0.4665\n",
      "Epoch 57/100\n",
      "12/12 [==============================] - 0s 666us/step - loss: 0.6943 - accuracy: 0.4726\n",
      "Epoch 58/100\n",
      "12/12 [==============================] - 0s 542us/step - loss: 0.6942 - accuracy: 0.4665\n",
      "Epoch 59/100\n",
      "12/12 [==============================] - 0s 833us/step - loss: 0.6941 - accuracy: 0.4630\n",
      "Epoch 60/100\n",
      "12/12 [==============================] - 0s 625us/step - loss: 0.6941 - accuracy: 0.4743\n",
      "Epoch 61/100\n",
      "12/12 [==============================] - 0s 500us/step - loss: 0.6940 - accuracy: 0.4874\n",
      "Epoch 62/100\n",
      "12/12 [==============================] - 0s 583us/step - loss: 0.6939 - accuracy: 0.4682\n",
      "Epoch 63/100\n",
      "12/12 [==============================] - 0s 875us/step - loss: 0.6939 - accuracy: 0.4839\n",
      "Epoch 64/100\n",
      "12/12 [==============================] - 0s 542us/step - loss: 0.6938 - accuracy: 0.4830\n",
      "Epoch 65/100\n",
      "12/12 [==============================] - 0s 583us/step - loss: 0.6937 - accuracy: 0.4917\n",
      "Epoch 66/100\n",
      "12/12 [==============================] - 0s 667us/step - loss: 0.6937 - accuracy: 0.4961\n",
      "Epoch 67/100\n",
      "12/12 [==============================] - 0s 667us/step - loss: 0.6936 - accuracy: 0.4952\n",
      "Epoch 68/100\n",
      "12/12 [==============================] - 0s 583us/step - loss: 0.6935 - accuracy: 0.4961\n",
      "Epoch 69/100\n",
      "12/12 [==============================] - 0s 667us/step - loss: 0.6934 - accuracy: 0.4996\n",
      "Epoch 70/100\n",
      "12/12 [==============================] - 0s 1ms/step - loss: 0.6934 - accuracy: 0.4917\n",
      "Epoch 71/100\n",
      "12/12 [==============================] - 0s 500us/step - loss: 0.6933 - accuracy: 0.4987\n",
      "Epoch 72/100\n",
      "12/12 [==============================] - 0s 708us/step - loss: 0.6933 - accuracy: 0.5004\n",
      "Epoch 73/100\n",
      "12/12 [==============================] - 0s 542us/step - loss: 0.6932 - accuracy: 0.4978\n",
      "Epoch 74/100\n",
      "12/12 [==============================] - 0s 458us/step - loss: 0.6931 - accuracy: 0.5030\n",
      "Epoch 75/100\n",
      "12/12 [==============================] - 0s 917us/step - loss: 0.6930 - accuracy: 0.4952\n",
      "Epoch 76/100\n",
      "12/12 [==============================] - 0s 583us/step - loss: 0.6930 - accuracy: 0.4970\n",
      "Epoch 77/100\n",
      "12/12 [==============================] - 0s 792us/step - loss: 0.6929 - accuracy: 0.5100\n",
      "Epoch 78/100\n",
      "12/12 [==============================] - 0s 708us/step - loss: 0.6928 - accuracy: 0.5170\n",
      "Epoch 79/100\n",
      "12/12 [==============================] - 0s 541us/step - loss: 0.6928 - accuracy: 0.5135\n",
      "Epoch 80/100\n",
      "12/12 [==============================] - 0s 500us/step - loss: 0.6927 - accuracy: 0.5091\n",
      "Epoch 81/100\n"
     ]
    },
    {
     "name": "stdout",
     "output_type": "stream",
     "text": [
      "12/12 [==============================] - 0s 833us/step - loss: 0.6927 - accuracy: 0.5144\n",
      "Epoch 82/100\n",
      "12/12 [==============================] - 0s 583us/step - loss: 0.6926 - accuracy: 0.5126\n",
      "Epoch 83/100\n",
      "12/12 [==============================] - 0s 667us/step - loss: 0.6925 - accuracy: 0.5030\n",
      "Epoch 84/100\n",
      "12/12 [==============================] - 0s 1ms/step - loss: 0.6924 - accuracy: 0.5178\n",
      "Epoch 85/100\n",
      "12/12 [==============================] - 0s 542us/step - loss: 0.6924 - accuracy: 0.5187\n",
      "Epoch 86/100\n",
      "12/12 [==============================] - 0s 833us/step - loss: 0.6923 - accuracy: 0.5187\n",
      "Epoch 87/100\n",
      "12/12 [==============================] - 0s 833us/step - loss: 0.6922 - accuracy: 0.5222\n",
      "Epoch 88/100\n",
      "12/12 [==============================] - 0s 875us/step - loss: 0.6922 - accuracy: 0.5318\n",
      "Epoch 89/100\n",
      "12/12 [==============================] - 0s 708us/step - loss: 0.6921 - accuracy: 0.5292\n",
      "Epoch 90/100\n",
      "12/12 [==============================] - 0s 542us/step - loss: 0.6920 - accuracy: 0.5213\n",
      "Epoch 91/100\n",
      "12/12 [==============================] - 0s 1ms/step - loss: 0.6919 - accuracy: 0.5300\n",
      "Epoch 92/100\n",
      "12/12 [==============================] - 0s 792us/step - loss: 0.6919 - accuracy: 0.5257\n",
      "Epoch 93/100\n",
      "12/12 [==============================] - 0s 958us/step - loss: 0.6918 - accuracy: 0.5335\n",
      "Epoch 94/100\n",
      "12/12 [==============================] - 0s 583us/step - loss: 0.6917 - accuracy: 0.5370\n",
      "Epoch 95/100\n",
      "12/12 [==============================] - 0s 542us/step - loss: 0.6917 - accuracy: 0.5274\n",
      "Epoch 96/100\n",
      "12/12 [==============================] - 0s 583us/step - loss: 0.6916 - accuracy: 0.5352\n",
      "Epoch 97/100\n",
      "12/12 [==============================] - 0s 583us/step - loss: 0.6915 - accuracy: 0.5387\n",
      "Epoch 98/100\n",
      "12/12 [==============================] - 0s 667us/step - loss: 0.6915 - accuracy: 0.5457\n",
      "Epoch 99/100\n",
      "12/12 [==============================] - 0s 500us/step - loss: 0.6914 - accuracy: 0.5344\n",
      "Epoch 100/100\n",
      "12/12 [==============================] - 0s 583us/step - loss: 0.6913 - accuracy: 0.5379\n"
     ]
    }
   ],
   "source": [
    "model = Sequential()\n",
    "model.add(Dense(12, activation='sigmoid', input_dim=64))\n",
    "model.add(Dense(8, activation='sigmoid'))\n",
    "model.add(Dense(1, activation='sigmoid'))\n",
    "\n",
    "model.compile(optimizer='SGD',\n",
    "              loss='binary_crossentropy',\n",
    "              metrics=['accuracy'])\n",
    "\n",
    "# Assign the variable history to store the results,\n",
    "# and set verbose=1 so we can see the output.\n",
    "# increase epochs\n",
    "\n",
    "results = model.fit(X_pure_train, y_pure_train, epochs=100, batch_size=100, verbose=1)\n"
   ]
  },
  {
   "cell_type": "code",
   "execution_count": 32,
   "metadata": {
    "ExecuteTime": {
     "end_time": "2022-09-09T18:12:25.694847Z",
     "start_time": "2022-09-09T18:12:25.246847Z"
    }
   },
   "outputs": [
    {
     "data": {
      "image/png": "[encoded data removed]",
      "text/plain": [
       "<Figure size 720x360 with 2 Axes>"
      ]
     },
     "metadata": {
      "needs_background": "light"
     },
     "output_type": "display_data"
    }
   ],
   "source": [
    "sigmoid_loss = results.history['loss']\n",
    "sigmoid_accuracy = results.history['accuracy']\n",
    "\n",
    "fig, (ax1, ax2) = plt.subplots(1, 2, figsize=(10, 5))\n",
    "sns.lineplot(x=results.epoch, y=sigmoid_loss, ax=ax1, label='loss')\n",
    "sns.lineplot(x=results.epoch, y=sigmoid_accuracy, ax=ax2, label='accuracy')\n",
    "ax1.legend();"
   ]
  },
  {
   "cell_type": "markdown",
   "metadata": {},
   "source": [
    "### Decrease Batch Size"
   ]
  },
  {
   "cell_type": "code",
   "execution_count": 33,
   "metadata": {
    "ExecuteTime": {
     "end_time": "2022-09-09T18:12:36.295988Z",
     "start_time": "2022-09-09T18:12:35.376989Z"
    }
   },
   "outputs": [],
   "source": [
    "model = Sequential()\n",
    "\n",
    "model.add(Dense(12, activation='sigmoid', input_dim=64))\n",
    "model.add(Dense(8, activation='sigmoid'))\n",
    "model.add(Dense(1, activation='sigmoid'))\n",
    "\n",
    "model.compile(optimizer='SGD',\n",
    "              loss='binary_crossentropy',\n",
    "              metrics=['accuracy'])\n",
    "\n",
    "# decrease batch size\n",
    "results = model.fit(X_pure_train, y_pure_train, epochs=10, batch_size=None, verbose=0)"
   ]
  },
  {
   "cell_type": "code",
   "execution_count": 34,
   "metadata": {
    "ExecuteTime": {
     "end_time": "2022-09-09T18:12:36.962488Z",
     "start_time": "2022-09-09T18:12:36.591988Z"
    }
   },
   "outputs": [
    {
     "data": {
      "image/png": "[encoded data removed]",
      "text/plain": [
       "<Figure size 720x360 with 2 Axes>"
      ]
     },
     "metadata": {
      "needs_background": "light"
     },
     "output_type": "display_data"
    }
   ],
   "source": [
    "relu_loss = results.history['loss']\n",
    "relu_accuracy = results.history['accuracy']\n",
    "\n",
    "fig, (ax1, ax2) = plt.subplots(1, 2, figsize=(10, 5))\n",
    "sns.lineplot(x=results.epoch, y=relu_loss, ax=ax1, label='loss')\n",
    "sns.lineplot(x=results.epoch, y=relu_accuracy, ax=ax2, label='accuracy')\n",
    "ax1.legend();"
   ]
  },
  {
   "cell_type": "markdown",
   "metadata": {},
   "source": [
    "### Both"
   ]
  },
  {
   "cell_type": "code",
   "execution_count": 35,
   "metadata": {
    "ExecuteTime": {
     "end_time": "2022-09-09T18:12:47.052987Z",
     "start_time": "2022-09-09T18:12:39.505989Z"
    }
   },
   "outputs": [
    {
     "name": "stdout",
     "output_type": "stream",
     "text": [
      "Epoch 1/100\n",
      "115/115 [==============================] - 0s 574us/step - loss: 0.7394 - accuracy: 0.5039\n",
      "Epoch 2/100\n",
      "115/115 [==============================] - 0s 522us/step - loss: 0.7006 - accuracy: 0.5039\n",
      "Epoch 3/100\n",
      "115/115 [==============================] - 0s 548us/step - loss: 0.6953 - accuracy: 0.5065\n",
      "Epoch 4/100\n",
      "115/115 [==============================] - 0s 535us/step - loss: 0.6936 - accuracy: 0.5187\n",
      "Epoch 5/100\n",
      "115/115 [==============================] - 0s 561us/step - loss: 0.6923 - accuracy: 0.5187\n",
      "Epoch 6/100\n",
      "115/115 [==============================] - 0s 652us/step - loss: 0.6913 - accuracy: 0.5448\n",
      "Epoch 7/100\n",
      "115/115 [==============================] - 0s 548us/step - loss: 0.6899 - accuracy: 0.5849\n",
      "Epoch 8/100\n",
      "115/115 [==============================] - 0s 535us/step - loss: 0.6886 - accuracy: 0.6005\n",
      "Epoch 9/100\n",
      "115/115 [==============================] - 0s 557us/step - loss: 0.6872 - accuracy: 0.5779\n",
      "Epoch 10/100\n",
      "115/115 [==============================] - 0s 552us/step - loss: 0.6858 - accuracy: 0.6327\n",
      "Epoch 11/100\n",
      "115/115 [==============================] - 0s 548us/step - loss: 0.6847 - accuracy: 0.6910\n",
      "Epoch 12/100\n",
      "115/115 [==============================] - 0s 600us/step - loss: 0.6828 - accuracy: 0.6736\n",
      "Epoch 13/100\n",
      "115/115 [==============================] - 0s 639us/step - loss: 0.6817 - accuracy: 0.6275\n",
      "Epoch 14/100\n",
      "115/115 [==============================] - 0s 570us/step - loss: 0.6800 - accuracy: 0.6562\n",
      "Epoch 15/100\n",
      "115/115 [==============================] - 0s 570us/step - loss: 0.6782 - accuracy: 0.7250\n",
      "Epoch 16/100\n",
      "115/115 [==============================] - 0s 591us/step - loss: 0.6766 - accuracy: 0.7102\n",
      "Epoch 17/100\n",
      "115/115 [==============================] - 0s 587us/step - loss: 0.6744 - accuracy: 0.7258\n",
      "Epoch 18/100\n",
      "115/115 [==============================] - 0s 596us/step - loss: 0.6727 - accuracy: 0.7415\n",
      "Epoch 19/100\n",
      "115/115 [==============================] - 0s 809us/step - loss: 0.6706 - accuracy: 0.7763\n",
      "Epoch 20/100\n",
      "115/115 [==============================] - 0s 1ms/step - loss: 0.6682 - accuracy: 0.7702\n",
      "Epoch 21/100\n",
      "115/115 [==============================] - 0s 852us/step - loss: 0.6658 - accuracy: 0.7694\n",
      "Epoch 22/100\n",
      "115/115 [==============================] - 0s 591us/step - loss: 0.6634 - accuracy: 0.7850\n",
      "Epoch 23/100\n",
      "115/115 [==============================] - 0s 535us/step - loss: 0.6607 - accuracy: 0.7807\n",
      "Epoch 24/100\n",
      "115/115 [==============================] - 0s 565us/step - loss: 0.6575 - accuracy: 0.7885\n",
      "Epoch 25/100\n",
      "115/115 [==============================] - 0s 543us/step - loss: 0.6545 - accuracy: 0.7911\n",
      "Epoch 26/100\n",
      "115/115 [==============================] - 0s 591us/step - loss: 0.6510 - accuracy: 0.8016\n",
      "Epoch 27/100\n",
      "115/115 [==============================] - 0s 630us/step - loss: 0.6474 - accuracy: 0.8007\n",
      "Epoch 28/100\n",
      "115/115 [==============================] - 0s 643us/step - loss: 0.6434 - accuracy: 0.8007\n",
      "Epoch 29/100\n",
      "115/115 [==============================] - 0s 613us/step - loss: 0.6393 - accuracy: 0.8024\n",
      "Epoch 30/100\n",
      "115/115 [==============================] - 0s 635us/step - loss: 0.6347 - accuracy: 0.8042\n",
      "Epoch 31/100\n",
      "115/115 [==============================] - 0s 630us/step - loss: 0.6298 - accuracy: 0.8190\n",
      "Epoch 32/100\n",
      "115/115 [==============================] - 0s 604us/step - loss: 0.6247 - accuracy: 0.8190\n",
      "Epoch 33/100\n",
      "115/115 [==============================] - 0s 604us/step - loss: 0.6192 - accuracy: 0.8216\n",
      "Epoch 34/100\n",
      "115/115 [==============================] - 0s 557us/step - loss: 0.6132 - accuracy: 0.8190\n",
      "Epoch 35/100\n",
      "115/115 [==============================] - 0s 526us/step - loss: 0.6070 - accuracy: 0.8198\n",
      "Epoch 36/100\n",
      "115/115 [==============================] - 0s 1ms/step - loss: 0.6005 - accuracy: 0.8164\n",
      "Epoch 37/100\n",
      "115/115 [==============================] - 0s 522us/step - loss: 0.5937 - accuracy: 0.8268\n",
      "Epoch 38/100\n",
      "115/115 [==============================] - 0s 526us/step - loss: 0.5864 - accuracy: 0.8225\n",
      "Epoch 39/100\n",
      "115/115 [==============================] - 0s 530us/step - loss: 0.5788 - accuracy: 0.8277\n",
      "Epoch 40/100\n",
      "115/115 [==============================] - 0s 535us/step - loss: 0.5710 - accuracy: 0.8216\n",
      "Epoch 41/100\n",
      "115/115 [==============================] - 0s 517us/step - loss: 0.5628 - accuracy: 0.8251\n",
      "Epoch 42/100\n",
      "115/115 [==============================] - 0s 583us/step - loss: 0.5543 - accuracy: 0.8285\n",
      "Epoch 43/100\n",
      "115/115 [==============================] - 0s 609us/step - loss: 0.5455 - accuracy: 0.8338\n",
      "Epoch 44/100\n",
      "115/115 [==============================] - 0s 557us/step - loss: 0.5367 - accuracy: 0.8268\n",
      "Epoch 45/100\n",
      "115/115 [==============================] - 0s 509us/step - loss: 0.5277 - accuracy: 0.8346\n",
      "Epoch 46/100\n",
      "115/115 [==============================] - 0s 587us/step - loss: 0.5184 - accuracy: 0.8381\n",
      "Epoch 47/100\n",
      "115/115 [==============================] - 0s 565us/step - loss: 0.5092 - accuracy: 0.8320\n",
      "Epoch 48/100\n",
      "115/115 [==============================] - 0s 500us/step - loss: 0.5000 - accuracy: 0.8390\n",
      "Epoch 49/100\n",
      "115/115 [==============================] - 0s 535us/step - loss: 0.4909 - accuracy: 0.8390\n",
      "Epoch 50/100\n",
      "115/115 [==============================] - 0s 504us/step - loss: 0.4818 - accuracy: 0.8486\n",
      "Epoch 51/100\n",
      "115/115 [==============================] - 0s 565us/step - loss: 0.4727 - accuracy: 0.8381\n",
      "Epoch 52/100\n",
      "115/115 [==============================] - 0s 587us/step - loss: 0.4641 - accuracy: 0.8425\n",
      "Epoch 53/100\n",
      "115/115 [==============================] - 0s 639us/step - loss: 0.4552 - accuracy: 0.8520\n",
      "Epoch 54/100\n",
      "115/115 [==============================] - 0s 548us/step - loss: 0.4468 - accuracy: 0.8503\n",
      "Epoch 55/100\n",
      "115/115 [==============================] - 0s 574us/step - loss: 0.4384 - accuracy: 0.8555\n",
      "Epoch 56/100\n",
      "115/115 [==============================] - 0s 543us/step - loss: 0.4306 - accuracy: 0.8520\n",
      "Epoch 57/100\n",
      "115/115 [==============================] - 0s 552us/step - loss: 0.4228 - accuracy: 0.8573\n",
      "Epoch 58/100\n",
      "115/115 [==============================] - 0s 570us/step - loss: 0.4154 - accuracy: 0.8599\n",
      "Epoch 59/100\n",
      "115/115 [==============================] - 0s 657us/step - loss: 0.4079 - accuracy: 0.8607\n",
      "Epoch 60/100\n",
      "115/115 [==============================] - 0s 617us/step - loss: 0.4010 - accuracy: 0.8634\n",
      "Epoch 61/100\n",
      "115/115 [==============================] - 0s 509us/step - loss: 0.3942 - accuracy: 0.8651\n",
      "Epoch 62/100\n",
      "115/115 [==============================] - 0s 557us/step - loss: 0.3879 - accuracy: 0.8668\n",
      "Epoch 63/100\n",
      "115/115 [==============================] - 0s 557us/step - loss: 0.3816 - accuracy: 0.8677\n",
      "Epoch 64/100\n",
      "115/115 [==============================] - 0s 504us/step - loss: 0.3756 - accuracy: 0.8677\n",
      "Epoch 65/100\n",
      "115/115 [==============================] - 0s 709us/step - loss: 0.3697 - accuracy: 0.8677\n",
      "Epoch 66/100\n",
      "115/115 [==============================] - 0s 713us/step - loss: 0.3642 - accuracy: 0.8677\n",
      "Epoch 67/100\n",
      "115/115 [==============================] - 0s 674us/step - loss: 0.3590 - accuracy: 0.8703\n",
      "Epoch 68/100\n",
      "115/115 [==============================] - 0s 578us/step - loss: 0.3540 - accuracy: 0.8721\n",
      "Epoch 69/100\n",
      "115/115 [==============================] - 0s 596us/step - loss: 0.3487 - accuracy: 0.8747\n",
      "Epoch 70/100\n",
      "115/115 [==============================] - 0s 561us/step - loss: 0.3444 - accuracy: 0.8738\n",
      "Epoch 71/100\n",
      "115/115 [==============================] - 0s 483us/step - loss: 0.3397 - accuracy: 0.8729\n",
      "Epoch 72/100\n",
      "115/115 [==============================] - 0s 557us/step - loss: 0.3356 - accuracy: 0.8738\n",
      "Epoch 73/100\n",
      "115/115 [==============================] - 0s 517us/step - loss: 0.3313 - accuracy: 0.8764\n",
      "Epoch 74/100\n",
      "115/115 [==============================] - 0s 543us/step - loss: 0.3272 - accuracy: 0.8755\n",
      "Epoch 75/100\n",
      "115/115 [==============================] - 0s 691us/step - loss: 0.3234 - accuracy: 0.8790\n",
      "Epoch 76/100\n",
      "115/115 [==============================] - 0s 587us/step - loss: 0.3197 - accuracy: 0.8808\n",
      "Epoch 77/100\n",
      "115/115 [==============================] - 0s 809us/step - loss: 0.3160 - accuracy: 0.8825\n",
      "Epoch 78/100\n",
      "115/115 [==============================] - 0s 535us/step - loss: 0.3128 - accuracy: 0.8842\n",
      "Epoch 79/100\n"
     ]
    },
    {
     "name": "stdout",
     "output_type": "stream",
     "text": [
      "115/115 [==============================] - 0s 583us/step - loss: 0.3095 - accuracy: 0.8851\n",
      "Epoch 80/100\n",
      "115/115 [==============================] - 0s 517us/step - loss: 0.3064 - accuracy: 0.8842\n",
      "Epoch 81/100\n",
      "115/115 [==============================] - 0s 552us/step - loss: 0.3033 - accuracy: 0.8877\n",
      "Epoch 82/100\n",
      "115/115 [==============================] - 0s 570us/step - loss: 0.3002 - accuracy: 0.8886\n",
      "Epoch 83/100\n",
      "115/115 [==============================] - 0s 500us/step - loss: 0.2976 - accuracy: 0.8895\n",
      "Epoch 84/100\n",
      "115/115 [==============================] - 0s 583us/step - loss: 0.2947 - accuracy: 0.8903\n",
      "Epoch 85/100\n",
      "115/115 [==============================] - 0s 622us/step - loss: 0.2917 - accuracy: 0.8895\n",
      "Epoch 86/100\n",
      "115/115 [==============================] - 0s 522us/step - loss: 0.2893 - accuracy: 0.8921\n",
      "Epoch 87/100\n",
      "115/115 [==============================] - 0s 548us/step - loss: 0.2871 - accuracy: 0.8921\n",
      "Epoch 88/100\n",
      "115/115 [==============================] - 0s 552us/step - loss: 0.2849 - accuracy: 0.8903\n",
      "Epoch 89/100\n",
      "115/115 [==============================] - 0s 565us/step - loss: 0.2821 - accuracy: 0.8930\n",
      "Epoch 90/100\n",
      "115/115 [==============================] - 0s 552us/step - loss: 0.2801 - accuracy: 0.8938\n",
      "Epoch 91/100\n",
      "115/115 [==============================] - 0s 565us/step - loss: 0.2783 - accuracy: 0.8947\n",
      "Epoch 92/100\n",
      "115/115 [==============================] - 0s 535us/step - loss: 0.2758 - accuracy: 0.8930\n",
      "Epoch 93/100\n",
      "115/115 [==============================] - 0s 539us/step - loss: 0.2742 - accuracy: 0.8982\n",
      "Epoch 94/100\n",
      "115/115 [==============================] - 0s 530us/step - loss: 0.2719 - accuracy: 0.8982\n",
      "Epoch 95/100\n",
      "115/115 [==============================] - 0s 535us/step - loss: 0.2702 - accuracy: 0.8982\n",
      "Epoch 96/100\n",
      "115/115 [==============================] - 0s 552us/step - loss: 0.2682 - accuracy: 0.8990\n",
      "Epoch 97/100\n",
      "115/115 [==============================] - 0s 517us/step - loss: 0.2667 - accuracy: 0.8964\n",
      "Epoch 98/100\n",
      "115/115 [==============================] - 0s 548us/step - loss: 0.2649 - accuracy: 0.8982\n",
      "Epoch 99/100\n",
      "115/115 [==============================] - 0s 539us/step - loss: 0.2633 - accuracy: 0.8973\n",
      "Epoch 100/100\n",
      "115/115 [==============================] - 0s 526us/step - loss: 0.2616 - accuracy: 0.9008\n"
     ]
    }
   ],
   "source": [
    "model = Sequential()\n",
    "\n",
    "model.add(Dense(12, activation='sigmoid', input_dim=64))\n",
    "model.add(Dense(8, activation='sigmoid'))\n",
    "model.add(Dense(1, activation='sigmoid'))\n",
    "\n",
    "model.compile(optimizer='SGD',\n",
    "              loss='binary_crossentropy',\n",
    "              metrics=['accuracy'])\n",
    "\n",
    "# increase epochs decrease batch size\n",
    "results = model.fit(X_pure_train, y_pure_train, epochs=100, batch_size=10, verbose=0)"
   ]
  },
  {
   "cell_type": "code",
   "execution_count": 36,
   "metadata": {
    "ExecuteTime": {
     "end_time": "2022-09-09T18:12:47.766019Z",
     "start_time": "2022-09-09T18:12:47.349989Z"
    }
   },
   "outputs": [
    {
     "data": {
      "image/png": "[encoded data removed]",
      "text/plain": [
       "<Figure size 720x360 with 2 Axes>"
      ]
     },
     "metadata": {
      "needs_background": "light"
     },
     "output_type": "display_data"
    }
   ],
   "source": [
    "relu_loss = results.history['loss']\n",
    "relu_accuracy = results.history['accuracy']\n",
    "\n",
    "fig, (ax1, ax2) = plt.subplots(1, 2, figsize=(10, 5))\n",
    "sns.lineplot(x=results.epoch, y=relu_loss, ax=ax1, label='loss')\n",
    "sns.lineplot(x=results.epoch, y=relu_accuracy, ax=ax2, label='accuracy')\n",
    "ax1.legend();"
   ]
  },
  {
   "cell_type": "markdown",
   "metadata": {},
   "source": [
    "### Use Relu"
   ]
  },
  {
   "cell_type": "code",
   "execution_count": 39,
   "metadata": {
    "ExecuteTime": {
     "end_time": "2022-09-09T18:14:52.814103Z",
     "start_time": "2022-09-09T18:14:52.230103Z"
    }
   },
   "outputs": [],
   "source": [
    "model = Sequential()\n",
    "model.add(Dense(12, activation='relu', input_dim=64))\n",
    "model.add(Dense(8, activation='relu'))\n",
    "model.add(Dense(1, activation='sigmoid'))\n",
    "\n",
    "model.compile(optimizer='SGD',\n",
    "              loss='binary_crossentropy',\n",
    "              metrics=['accuracy'])\n",
    "\n",
    "# Assign the variable history to store the results,\n",
    "# and set verbose=1 so we can see the output.\n",
    "# increase epochs, decrease batchsize\n",
    "\n",
    "results = model.fit(X_pure_train, y_pure_train, epochs=10, batch_size=100, verbose=0)\n"
   ]
  },
  {
   "cell_type": "code",
   "execution_count": 40,
   "metadata": {
    "ExecuteTime": {
     "end_time": "2022-09-09T18:14:53.573628Z",
     "start_time": "2022-09-09T18:14:53.213603Z"
    }
   },
   "outputs": [
    {
     "data": {
      "image/png": "[encoded data removed]",
      "text/plain": [
       "<Figure size 720x360 with 2 Axes>"
      ]
     },
     "metadata": {
      "needs_background": "light"
     },
     "output_type": "display_data"
    }
   ],
   "source": [
    "relu_loss = results.history['loss']\n",
    "relu_accuracy = results.history['accuracy']\n",
    "\n",
    "fig, (ax1, ax2) = plt.subplots(1, 2, figsize=(10, 5))\n",
    "sns.lineplot(x=results.epoch, y=relu_loss, ax=ax1, label='loss')\n",
    "sns.lineplot(x=results.epoch, y=relu_accuracy, ax=ax2, label='accuracy')\n",
    "ax1.legend();"
   ]
  },
  {
   "cell_type": "markdown",
   "metadata": {},
   "source": [
    "### All of it (epochs, batch, relu)"
   ]
  },
  {
   "cell_type": "code",
   "execution_count": 45,
   "metadata": {
    "ExecuteTime": {
     "end_time": "2022-09-09T18:15:43.932670Z",
     "start_time": "2022-09-09T18:15:38.644671Z"
    }
   },
   "outputs": [],
   "source": [
    "model = Sequential()\n",
    "model.add(Dense(12, activation='relu', input_dim=64))\n",
    "model.add(Dense(8, activation='relu'))\n",
    "model.add(Dense(1, activation='sigmoid'))\n",
    "\n",
    "model.compile(optimizer='SGD',\n",
    "              loss='binary_crossentropy',\n",
    "              metrics=['accuracy'])\n",
    "\n",
    "# Assign the variable history to store the results,\n",
    "# and set verbose=1 so we can see the output.\n",
    "# increase epochs\n",
    "\n",
    "\n",
    "results = model.fit(X_pure_train, y_pure_train, epochs=100, batch_size=10, verbose=0)"
   ]
  },
  {
   "cell_type": "code",
   "execution_count": 46,
   "metadata": {
    "ExecuteTime": {
     "end_time": "2022-09-09T18:15:44.645670Z",
     "start_time": "2022-09-09T18:15:44.230170Z"
    }
   },
   "outputs": [
    {
     "data": {
      "image/png": "[encoded data removed]",
      "text/plain": [
       "<Figure size 720x360 with 2 Axes>"
      ]
     },
     "metadata": {
      "needs_background": "light"
     },
     "output_type": "display_data"
    }
   ],
   "source": [
    "relu_loss = results.history['loss']\n",
    "relu_accuracy = results.history['accuracy']\n",
    "\n",
    "fig, (ax1, ax2) = plt.subplots(1, 2, figsize=(10, 5))\n",
    "sns.lineplot(x=results.epoch, y=relu_loss, ax=ax1, label='loss')\n",
    "sns.lineplot(x=results.epoch, y=relu_accuracy, ax=ax2, label='accuracy')\n",
    "ax1.legend();"
   ]
  },
  {
   "cell_type": "markdown",
   "metadata": {},
   "source": [
    "### Side note: learning rate"
   ]
  },
  {
   "cell_type": "markdown",
   "metadata": {},
   "source": [
    "If we increase the learning rate to a very high number, we see that our model overshoots the minimum, and starts bouncing all around."
   ]
  },
  {
   "cell_type": "code",
   "execution_count": 51,
   "metadata": {
    "ExecuteTime": {
     "end_time": "2022-09-09T18:17:12.404750Z",
     "start_time": "2022-09-09T18:17:09.723279Z"
    }
   },
   "outputs": [
    {
     "data": {
      "image/png": "[encoded data removed]",
      "text/plain": [
       "<Figure size 720x360 with 2 Axes>"
      ]
     },
     "metadata": {
      "needs_background": "light"
     },
     "output_type": "display_data"
    }
   ],
   "source": [
    "model = Sequential()\n",
    "\n",
    "sgd = SGD(lr=.009)\n",
    "\n",
    "\n",
    "model.add(Dense(12, activation='relu', input_dim=64))\n",
    "model.add(Dense(8, activation='relu'))\n",
    "model.add(Dense(1, activation='sigmoid'))\n",
    "\n",
    "model.compile(optimizer=sgd,\n",
    "              loss='binary_crossentropy',\n",
    "              metrics=['accuracy'])\n",
    "\n",
    "results = model.fit(X_pure_train, y_pure_train,\n",
    "                    epochs=30, batch_size=10, verbose=0)\n",
    "\n",
    "relu_loss = results.history['loss']\n",
    "relu_accuracy = results.history['accuracy']\n",
    "\n",
    "fig, (ax1, ax2) = plt.subplots(1, 2, figsize=(10, 5))\n",
    "sns.lineplot(x=results.epoch, y=relu_loss, ax=ax1, label='loss')\n",
    "sns.lineplot(x=results.epoch, y=relu_accuracy, ax=ax2, label='accuracy')\n",
    "ax1.legend();\n"
   ]
  },
  {
   "cell_type": "markdown",
   "metadata": {},
   "source": [
    "### Exercise"
   ]
  },
  {
   "cell_type": "markdown",
   "metadata": {},
   "source": [
    "We have been looking only at our training set. Let's add in our validation set to the picture. Check the docstring for the `.fit()` method and add in our validation data."
   ]
  },
  {
   "cell_type": "code",
   "execution_count": 54,
   "metadata": {
    "ExecuteTime": {
     "end_time": "2022-09-09T18:21:34.384243Z",
     "start_time": "2022-09-09T18:21:30.810242Z"
    }
   },
   "outputs": [
    {
     "data": {
      "image/png": "[encoded data removed]",
      "text/plain": [
       "<Figure size 720x360 with 2 Axes>"
      ]
     },
     "metadata": {
      "needs_background": "light"
     },
     "output_type": "display_data"
    }
   ],
   "source": [
    "model = Sequential()\n",
    "model.add(Dense(12, activation='relu', input_dim=64))\n",
    "model.add(Dense(8, activation='relu'))\n",
    "model.add(Dense(4, activation='relu'))\n",
    "model.add(Dense(1, activation='sigmoid'))\n",
    "\n",
    "model.compile(optimizer='adam',\n",
    "              loss='binary_crossentropy',\n",
    "              metrics=['accuracy'])\n",
    "\n",
    "\n",
    "## YOUR CODE HERE\n",
    "\n",
    "results = model.fit(\n",
    "    X_pure_train, y_pure_train,\n",
    "    validation_data=(X_val, y_val),\n",
    "    epochs=30,\n",
    "    batch_size=10,\n",
    "    verbose=0\n",
    ")\n",
    "\n",
    "\n",
    "train_loss = results.history['loss']\n",
    "train_acc = results.history['accuracy']\n",
    "val_loss = results.history['val_loss']\n",
    "val_acc = results.history['val_accuracy']\n",
    "\n",
    "fig, (ax1, ax2) = plt.subplots(1, 2, figsize=(10, 5))\n",
    "sns.lineplot(x=results.epoch, y=train_loss, ax=ax1, label='train_loss')\n",
    "sns.lineplot(x=results.epoch, y=train_acc, ax=ax2, label='train_accuracy')\n",
    "\n",
    "sns.lineplot(x=results.epoch, y=val_loss, ax=ax1, label='val_loss')\n",
    "sns.lineplot(x=results.epoch, y=val_acc, ax=ax2, label='val_accuracy')\n",
    "ax1.set_title('Loss')\n",
    "ax2.set_title('Accuracy')\n",
    "ax1.legend();"
   ]
  },
  {
   "cell_type": "code",
   "execution_count": null,
   "metadata": {
    "ExecuteTime": {
     "end_time": "2022-09-01T22:55:26.688800Z",
     "start_time": "2022-09-01T22:55:20.445Z"
    }
   },
   "outputs": [],
   "source": [
    "results.history['val_accuracy'][-1]"
   ]
  },
  {
   "cell_type": "markdown",
   "metadata": {},
   "source": [
    "## Connecting with `sklearn`"
   ]
  },
  {
   "cell_type": "markdown",
   "metadata": {},
   "source": [
    "The `keras.wrappers` submodule means that we can turn `keras` models into estimators that `sklearn` tools will recognize."
   ]
  },
  {
   "cell_type": "code",
   "execution_count": 55,
   "metadata": {
    "ExecuteTime": {
     "end_time": "2022-09-09T18:23:31.870943Z",
     "start_time": "2022-09-09T18:23:31.725444Z"
    },
    "collapsed": true
   },
   "outputs": [
    {
     "ename": "TypeError",
     "evalue": "If no scoring is specified, the estimator passed should have a 'score' method. The estimator <tensorflow.python.keras.engine.sequential.Sequential object at 0x0000026ED2843670> does not.",
     "output_type": "error",
     "traceback": [
      "\u001b[1;31m---------------------------------------------------------------------------\u001b[0m",
      "\u001b[1;31mTypeError\u001b[0m                                 Traceback (most recent call last)",
      "\u001b[1;32m<ipython-input-55-440685741601>\u001b[0m in \u001b[0;36m<module>\u001b[1;34m\u001b[0m\n\u001b[0;32m      1\u001b[0m \u001b[1;31m# This will throw an error.\u001b[0m\u001b[1;33m\u001b[0m\u001b[1;33m\u001b[0m\u001b[1;33m\u001b[0m\u001b[0m\n\u001b[0;32m      2\u001b[0m \u001b[1;33m\u001b[0m\u001b[0m\n\u001b[1;32m----> 3\u001b[1;33m \u001b[0mcross_val_score\u001b[0m\u001b[1;33m(\u001b[0m\u001b[0mmodel\u001b[0m\u001b[1;33m,\u001b[0m \u001b[0mX_pure_train\u001b[0m\u001b[1;33m,\u001b[0m \u001b[0my_pure_train\u001b[0m\u001b[1;33m)\u001b[0m\u001b[1;33m\u001b[0m\u001b[1;33m\u001b[0m\u001b[0m\n\u001b[0m",
      "\u001b[1;32m~\\anaconda3\\envs\\learn-env\\lib\\site-packages\\sklearn\\utils\\validation.py\u001b[0m in \u001b[0;36minner_f\u001b[1;34m(*args, **kwargs)\u001b[0m\n\u001b[0;32m     70\u001b[0m                           FutureWarning)\n\u001b[0;32m     71\u001b[0m         \u001b[0mkwargs\u001b[0m\u001b[1;33m.\u001b[0m\u001b[0mupdate\u001b[0m\u001b[1;33m(\u001b[0m\u001b[1;33m{\u001b[0m\u001b[0mk\u001b[0m\u001b[1;33m:\u001b[0m \u001b[0marg\u001b[0m \u001b[1;32mfor\u001b[0m \u001b[0mk\u001b[0m\u001b[1;33m,\u001b[0m \u001b[0marg\u001b[0m \u001b[1;32min\u001b[0m \u001b[0mzip\u001b[0m\u001b[1;33m(\u001b[0m\u001b[0msig\u001b[0m\u001b[1;33m.\u001b[0m\u001b[0mparameters\u001b[0m\u001b[1;33m,\u001b[0m \u001b[0margs\u001b[0m\u001b[1;33m)\u001b[0m\u001b[1;33m}\u001b[0m\u001b[1;33m)\u001b[0m\u001b[1;33m\u001b[0m\u001b[1;33m\u001b[0m\u001b[0m\n\u001b[1;32m---> 72\u001b[1;33m         \u001b[1;32mreturn\u001b[0m \u001b[0mf\u001b[0m\u001b[1;33m(\u001b[0m\u001b[1;33m**\u001b[0m\u001b[0mkwargs\u001b[0m\u001b[1;33m)\u001b[0m\u001b[1;33m\u001b[0m\u001b[1;33m\u001b[0m\u001b[0m\n\u001b[0m\u001b[0;32m     73\u001b[0m     \u001b[1;32mreturn\u001b[0m \u001b[0minner_f\u001b[0m\u001b[1;33m\u001b[0m\u001b[1;33m\u001b[0m\u001b[0m\n\u001b[0;32m     74\u001b[0m \u001b[1;33m\u001b[0m\u001b[0m\n",
      "\u001b[1;32m~\\anaconda3\\envs\\learn-env\\lib\\site-packages\\sklearn\\model_selection\\_validation.py\u001b[0m in \u001b[0;36mcross_val_score\u001b[1;34m(estimator, X, y, groups, scoring, cv, n_jobs, verbose, fit_params, pre_dispatch, error_score)\u001b[0m\n\u001b[0;32m    397\u001b[0m     \"\"\"\n\u001b[0;32m    398\u001b[0m     \u001b[1;31m# To ensure multimetric format is not supported\u001b[0m\u001b[1;33m\u001b[0m\u001b[1;33m\u001b[0m\u001b[1;33m\u001b[0m\u001b[0m\n\u001b[1;32m--> 399\u001b[1;33m     \u001b[0mscorer\u001b[0m \u001b[1;33m=\u001b[0m \u001b[0mcheck_scoring\u001b[0m\u001b[1;33m(\u001b[0m\u001b[0mestimator\u001b[0m\u001b[1;33m,\u001b[0m \u001b[0mscoring\u001b[0m\u001b[1;33m=\u001b[0m\u001b[0mscoring\u001b[0m\u001b[1;33m)\u001b[0m\u001b[1;33m\u001b[0m\u001b[1;33m\u001b[0m\u001b[0m\n\u001b[0m\u001b[0;32m    400\u001b[0m \u001b[1;33m\u001b[0m\u001b[0m\n\u001b[0;32m    401\u001b[0m     cv_results = cross_validate(estimator=estimator, X=X, y=y, groups=groups,\n",
      "\u001b[1;32m~\\anaconda3\\envs\\learn-env\\lib\\site-packages\\sklearn\\utils\\validation.py\u001b[0m in \u001b[0;36minner_f\u001b[1;34m(*args, **kwargs)\u001b[0m\n\u001b[0;32m     70\u001b[0m                           FutureWarning)\n\u001b[0;32m     71\u001b[0m         \u001b[0mkwargs\u001b[0m\u001b[1;33m.\u001b[0m\u001b[0mupdate\u001b[0m\u001b[1;33m(\u001b[0m\u001b[1;33m{\u001b[0m\u001b[0mk\u001b[0m\u001b[1;33m:\u001b[0m \u001b[0marg\u001b[0m \u001b[1;32mfor\u001b[0m \u001b[0mk\u001b[0m\u001b[1;33m,\u001b[0m \u001b[0marg\u001b[0m \u001b[1;32min\u001b[0m \u001b[0mzip\u001b[0m\u001b[1;33m(\u001b[0m\u001b[0msig\u001b[0m\u001b[1;33m.\u001b[0m\u001b[0mparameters\u001b[0m\u001b[1;33m,\u001b[0m \u001b[0margs\u001b[0m\u001b[1;33m)\u001b[0m\u001b[1;33m}\u001b[0m\u001b[1;33m)\u001b[0m\u001b[1;33m\u001b[0m\u001b[1;33m\u001b[0m\u001b[0m\n\u001b[1;32m---> 72\u001b[1;33m         \u001b[1;32mreturn\u001b[0m \u001b[0mf\u001b[0m\u001b[1;33m(\u001b[0m\u001b[1;33m**\u001b[0m\u001b[0mkwargs\u001b[0m\u001b[1;33m)\u001b[0m\u001b[1;33m\u001b[0m\u001b[1;33m\u001b[0m\u001b[0m\n\u001b[0m\u001b[0;32m     73\u001b[0m     \u001b[1;32mreturn\u001b[0m \u001b[0minner_f\u001b[0m\u001b[1;33m\u001b[0m\u001b[1;33m\u001b[0m\u001b[0m\n\u001b[0;32m     74\u001b[0m \u001b[1;33m\u001b[0m\u001b[0m\n",
      "\u001b[1;32m~\\anaconda3\\envs\\learn-env\\lib\\site-packages\\sklearn\\metrics\\_scorer.py\u001b[0m in \u001b[0;36mcheck_scoring\u001b[1;34m(estimator, scoring, allow_none)\u001b[0m\n\u001b[0;32m    423\u001b[0m             \u001b[1;32mreturn\u001b[0m \u001b[1;32mNone\u001b[0m\u001b[1;33m\u001b[0m\u001b[1;33m\u001b[0m\u001b[0m\n\u001b[0;32m    424\u001b[0m         \u001b[1;32melse\u001b[0m\u001b[1;33m:\u001b[0m\u001b[1;33m\u001b[0m\u001b[1;33m\u001b[0m\u001b[0m\n\u001b[1;32m--> 425\u001b[1;33m             raise TypeError(\n\u001b[0m\u001b[0;32m    426\u001b[0m                 \u001b[1;34m\"If no scoring is specified, the estimator passed should \"\u001b[0m\u001b[1;33m\u001b[0m\u001b[1;33m\u001b[0m\u001b[0m\n\u001b[0;32m    427\u001b[0m                 \u001b[1;34m\"have a 'score' method. The estimator %r does not.\"\u001b[0m\u001b[1;33m\u001b[0m\u001b[1;33m\u001b[0m\u001b[0m\n",
      "\u001b[1;31mTypeError\u001b[0m: If no scoring is specified, the estimator passed should have a 'score' method. The estimator <tensorflow.python.keras.engine.sequential.Sequential object at 0x0000026ED2843670> does not."
     ]
    }
   ],
   "source": [
    "# This will throw an error.\n",
    "\n",
    "cross_val_score(model, X_pure_train, y_pure_train)"
   ]
  },
  {
   "cell_type": "code",
   "execution_count": 56,
   "metadata": {
    "ExecuteTime": {
     "end_time": "2022-09-09T18:24:08.063148Z",
     "start_time": "2022-09-09T18:24:07.936116Z"
    }
   },
   "outputs": [],
   "source": [
    "def build_model():\n",
    "    model = Sequential()\n",
    "    model.add(Dense(12, activation='relu', input_dim=64))\n",
    "    model.add(Dense(8, activation='relu'))\n",
    "    model.add(Dense(4, activation='relu'))\n",
    "    model.add(Dense(1, activation = 'sigmoid'))\n",
    "\n",
    "    model.compile(optimizer='adam',\n",
    "                  loss='binary_crossentropy',\n",
    "                  metrics=['accuracy'])\n",
    "    return model"
   ]
  },
  {
   "cell_type": "code",
   "execution_count": null,
   "metadata": {},
   "outputs": [],
   "source": [
    "scikit_learn.KerasRegressor()"
   ]
  },
  {
   "cell_type": "code",
   "execution_count": 64,
   "metadata": {
    "ExecuteTime": {
     "end_time": "2022-09-09T18:26:24.196651Z",
     "start_time": "2022-09-09T18:26:24.066654Z"
    }
   },
   "outputs": [],
   "source": [
    "keras_model = scikit_learn.KerasClassifier(build_model,\n",
    "                                          epochs=10,\n",
    "                                          batch_size=32,\n",
    "                                          verbose=2)"
   ]
  },
  {
   "cell_type": "code",
   "execution_count": 65,
   "metadata": {
    "ExecuteTime": {
     "end_time": "2022-09-09T18:26:26.692476Z",
     "start_time": "2022-09-09T18:26:26.554475Z"
    }
   },
   "outputs": [
    {
     "data": {
      "text/plain": [
       "tensorflow.python.keras.wrappers.scikit_learn.KerasClassifier"
      ]
     },
     "execution_count": 65,
     "metadata": {},
     "output_type": "execute_result"
    }
   ],
   "source": [
    "type(keras_model)"
   ]
  },
  {
   "cell_type": "code",
   "execution_count": 66,
   "metadata": {
    "ExecuteTime": {
     "end_time": "2022-09-09T18:26:31.806975Z",
     "start_time": "2022-09-09T18:26:27.003475Z"
    },
    "collapsed": true
   },
   "outputs": [
    {
     "name": "stdout",
     "output_type": "stream",
     "text": [
      "Epoch 1/10\n",
      "29/29 - 0s - loss: 0.6729 - accuracy: 0.4929\n",
      "Epoch 2/10\n",
      "29/29 - 0s - loss: 0.6339 - accuracy: 0.5190\n",
      "Epoch 3/10\n",
      "29/29 - 0s - loss: 0.5809 - accuracy: 0.6202\n",
      "Epoch 4/10\n",
      "29/29 - 0s - loss: 0.5315 - accuracy: 0.7639\n",
      "Epoch 5/10\n",
      "29/29 - 0s - loss: 0.4966 - accuracy: 0.8281\n",
      "Epoch 6/10\n",
      "29/29 - 0s - loss: 0.4726 - accuracy: 0.8640\n",
      "Epoch 7/10\n",
      "29/29 - 0s - loss: 0.4527 - accuracy: 0.8770\n",
      "Epoch 8/10\n",
      "29/29 - 0s - loss: 0.4372 - accuracy: 0.8770\n",
      "Epoch 9/10\n",
      "29/29 - 0s - loss: 0.4222 - accuracy: 0.8955\n",
      "Epoch 10/10\n",
      "29/29 - 0s - loss: 0.4087 - accuracy: 0.8966\n",
      "8/8 - 0s - loss: 0.3908 - accuracy: 0.9000\n",
      "Epoch 1/10\n",
      "29/29 - 0s - loss: 0.6756 - accuracy: 0.5876\n",
      "Epoch 2/10\n",
      "29/29 - 0s - loss: 0.5973 - accuracy: 0.7802\n",
      "Epoch 3/10\n",
      "29/29 - 0s - loss: 0.5126 - accuracy: 0.8596\n",
      "Epoch 4/10\n",
      "29/29 - 0s - loss: 0.4406 - accuracy: 0.8738\n",
      "Epoch 5/10\n",
      "29/29 - 0s - loss: 0.3772 - accuracy: 0.9053\n",
      "Epoch 6/10\n",
      "29/29 - 0s - loss: 0.3252 - accuracy: 0.9217\n",
      "Epoch 7/10\n",
      "29/29 - 0s - loss: 0.2912 - accuracy: 0.9195\n",
      "Epoch 8/10\n",
      "29/29 - 0s - loss: 0.2479 - accuracy: 0.9325\n",
      "Epoch 9/10\n",
      "29/29 - 0s - loss: 0.2234 - accuracy: 0.9347\n",
      "Epoch 10/10\n",
      "29/29 - 0s - loss: 0.2022 - accuracy: 0.9412\n",
      "8/8 - 0s - loss: 0.1971 - accuracy: 0.9391\n",
      "Epoch 1/10\n",
      "29/29 - 0s - loss: 0.6574 - accuracy: 0.6616\n",
      "Epoch 2/10\n",
      "29/29 - 0s - loss: 0.5890 - accuracy: 0.8118\n",
      "Epoch 3/10\n",
      "29/29 - 0s - loss: 0.4992 - accuracy: 0.8335\n",
      "Epoch 4/10\n",
      "29/29 - 0s - loss: 0.4169 - accuracy: 0.8542\n",
      "Epoch 5/10\n",
      "29/29 - 0s - loss: 0.3535 - accuracy: 0.8814\n",
      "Epoch 6/10\n",
      "29/29 - 0s - loss: 0.3077 - accuracy: 0.8814\n",
      "Epoch 7/10\n",
      "29/29 - 0s - loss: 0.2811 - accuracy: 0.8781\n",
      "Epoch 8/10\n",
      "29/29 - 0s - loss: 0.2589 - accuracy: 0.8934\n",
      "Epoch 9/10\n",
      "29/29 - 0s - loss: 0.2410 - accuracy: 0.8966\n",
      "Epoch 10/10\n",
      "29/29 - 0s - loss: 0.2288 - accuracy: 0.8977\n",
      "8/8 - 0s - loss: 0.1951 - accuracy: 0.9087\n",
      "Epoch 1/10\n",
      "29/29 - 0s - loss: 0.6084 - accuracy: 0.7214\n",
      "Epoch 2/10\n",
      "29/29 - 0s - loss: 0.5235 - accuracy: 0.7976\n",
      "Epoch 3/10\n",
      "29/29 - 0s - loss: 0.4169 - accuracy: 0.8259\n",
      "Epoch 4/10\n",
      "29/29 - 0s - loss: 0.3435 - accuracy: 0.8596\n",
      "Epoch 5/10\n",
      "29/29 - 0s - loss: 0.2948 - accuracy: 0.8781\n",
      "Epoch 6/10\n",
      "29/29 - 0s - loss: 0.2672 - accuracy: 0.8814\n",
      "Epoch 7/10\n",
      "29/29 - 0s - loss: 0.2387 - accuracy: 0.8923\n",
      "Epoch 8/10\n",
      "29/29 - 0s - loss: 0.2141 - accuracy: 0.9032\n",
      "Epoch 9/10\n",
      "29/29 - 0s - loss: 0.1920 - accuracy: 0.9162\n",
      "Epoch 10/10\n",
      "29/29 - 0s - loss: 0.1741 - accuracy: 0.9304\n",
      "8/8 - 0s - loss: 0.1549 - accuracy: 0.9478\n",
      "Epoch 1/10\n",
      "29/29 - 0s - loss: 0.6995 - accuracy: 0.5326\n",
      "Epoch 2/10\n",
      "29/29 - 0s - loss: 0.6553 - accuracy: 0.6826\n",
      "Epoch 3/10\n",
      "29/29 - 0s - loss: 0.6082 - accuracy: 0.7598\n",
      "Epoch 4/10\n",
      "29/29 - 0s - loss: 0.5631 - accuracy: 0.7978\n",
      "Epoch 5/10\n",
      "29/29 - 0s - loss: 0.5216 - accuracy: 0.8239\n",
      "Epoch 6/10\n",
      "29/29 - 0s - loss: 0.4606 - accuracy: 0.8761\n",
      "Epoch 7/10\n",
      "29/29 - 0s - loss: 0.3810 - accuracy: 0.8957\n",
      "Epoch 8/10\n",
      "29/29 - 0s - loss: 0.3133 - accuracy: 0.9087\n",
      "Epoch 9/10\n",
      "29/29 - 0s - loss: 0.2702 - accuracy: 0.9076\n",
      "Epoch 10/10\n",
      "29/29 - 0s - loss: 0.2423 - accuracy: 0.9141\n",
      "8/8 - 0s - loss: 0.3326 - accuracy: 0.8559\n"
     ]
    },
    {
     "data": {
      "text/plain": [
       "array([0.89999998, 0.93913043, 0.90869564, 0.94782609, 0.85589522])"
      ]
     },
     "execution_count": 66,
     "metadata": {},
     "output_type": "execute_result"
    }
   ],
   "source": [
    "cross_val_score(keras_model, X_pure_train, y_pure_train)"
   ]
  },
  {
   "cell_type": "markdown",
   "metadata": {},
   "source": [
    "## [Regularization](https://www.tensorflow.org/api_docs/python/tf/keras/regularizers/Regularizer)"
   ]
  },
  {
   "cell_type": "markdown",
   "metadata": {},
   "source": [
    "Does regularization make sense in the context of neural networks? <br/>\n",
    "\n",
    "Yes! We still have all of the salient ingredients: a loss function, overfitting vs. underfitting, and coefficients (weights) that could get too large.\n",
    "\n",
    "But there are now a few different flavors besides L1 and L2 regularization. (Note that L1 regularization is not common in the context of  neural networks.)\n",
    "\n",
    "We'll add a few more layers to give regularization a better chance of making a difference!"
   ]
  },
  {
   "cell_type": "code",
   "execution_count": 73,
   "metadata": {
    "ExecuteTime": {
     "end_time": "2022-09-09T18:34:46.215189Z",
     "start_time": "2022-09-09T18:34:44.101188Z"
    }
   },
   "outputs": [
    {
     "data": {
      "image/png": "[encoded data removed]",
      "text/plain": [
       "<Figure size 720x360 with 2 Axes>"
      ]
     },
     "metadata": {
      "needs_background": "light"
     },
     "output_type": "display_data"
    }
   ],
   "source": [
    "model = Sequential()\n",
    "model.add(Dense(30, activation='relu', input_dim=64))\n",
    "\n",
    "# We can add L2 (or L1) regularization right into\n",
    "# the layer with the kernel_regularizer parameter.\n",
    "\n",
    "model.add(Dense(20, activation='relu',kernel_regularizer=l2(l=.05)))\n",
    "\n",
    "# Note that there is also a bias_regularizer,\n",
    "# but this tends to have less effect.\n",
    "\n",
    "model.add(Dense(12, activation='relu'))\n",
    "model.add(Dense(12, activation='relu'))\n",
    "model.add(Dense(12, activation='relu'))\n",
    "model.add(Dense(8, activation='relu'))\n",
    "model.add(Dense(4, activation='relu'))\n",
    "model.add(Dense(1, activation ='sigmoid'))\n",
    "\n",
    "model.compile(optimizer='adam',\n",
    "              loss='binary_crossentropy',\n",
    "              metrics=['accuracy'])\n",
    "\n",
    "results = model.fit(X_pure_train, y_pure_train, epochs=20, batch_size=32,\n",
    "                    verbose=0, validation_data=(X_val, y_val))\n",
    "\n",
    "train_loss = results.history['loss']\n",
    "train_acc = results.history['accuracy']\n",
    "val_loss = results.history['val_loss']\n",
    "val_acc = results.history['val_accuracy']\n",
    "\n",
    "\n",
    "fig, (ax1, ax2) = plt.subplots(1, 2, figsize=(10, 5))\n",
    "sns.lineplot(x=results.epoch, y=train_loss, ax=ax1, label='train_loss')\n",
    "sns.lineplot(x=results.epoch, y=train_acc, ax=ax2, label='train_accuracy')\n",
    "\n",
    "sns.lineplot(x=results.epoch, y=val_loss, ax=ax1, label='val_loss')\n",
    "sns.lineplot(x=results.epoch, y=val_acc, ax=ax2, label='val_accuracy')\n",
    "ax1.set_title('Loss')\n",
    "ax2.set_title('Accuracy')\n",
    "ax1.legend();"
   ]
  },
  {
   "cell_type": "markdown",
   "metadata": {},
   "source": [
    "Adding L2 to multiple layers:"
   ]
  },
  {
   "cell_type": "code",
   "execution_count": 68,
   "metadata": {
    "ExecuteTime": {
     "end_time": "2022-09-09T18:33:42.820523Z",
     "start_time": "2022-09-09T18:33:40.273065Z"
    }
   },
   "outputs": [
    {
     "data": {
      "image/png": "[encoded data removed]",
      "text/plain": [
       "<Figure size 720x360 with 2 Axes>"
      ]
     },
     "metadata": {
      "needs_background": "light"
     },
     "output_type": "display_data"
    }
   ],
   "source": [
    "model = Sequential()\n",
    "model.add(Dense(30, activation='relu',\n",
    "                input_dim=64))\n",
    "model.add(Dense(20, activation='relu',\n",
    "                kernel_regularizer=l2(l=0.01)))\n",
    "\n",
    "model.add(Dense(12, activation='relu',\n",
    "                kernel_regularizer=l2(l=0.01)))\n",
    "model.add(Dense(12, activation='relu',\n",
    "                kernel_regularizer=l2(l=0.01)))\n",
    "model.add(Dense(12, activation='relu',\n",
    "                kernel_regularizer=l2(l=0.01)))\n",
    "model.add(Dense(8, activation='relu',\n",
    "                kernel_regularizer=l2(l=0.01)))\n",
    "model.add(Dense(4, activation='relu',\n",
    "                kernel_regularizer=l2(l=0.01)))\n",
    "model.add(Dense(1, activation='sigmoid'))\n",
    "\n",
    "model.compile(optimizer='adam',\n",
    "              loss='binary_crossentropy',\n",
    "              metrics=['accuracy'])\n",
    "\n",
    "results = model.fit(X_pure_train, y_pure_train, epochs=20, batch_size=32,\n",
    "                    verbose=0, validation_data=(X_val, y_val))\n",
    "\n",
    "train_loss = results.history['loss']\n",
    "train_acc = results.history['accuracy']\n",
    "val_loss = results.history['val_loss']\n",
    "val_acc = results.history['val_accuracy']\n",
    "\n",
    "\n",
    "fig, (ax1, ax2) = plt.subplots(1, 2, figsize=(10, 5))\n",
    "sns.lineplot(x=results.epoch, y=train_loss, ax=ax1, label='train_loss')\n",
    "sns.lineplot(x=results.epoch, y=train_acc, ax=ax2, label='train_accuracy')\n",
    "\n",
    "sns.lineplot(x=results.epoch, y=val_loss, ax=ax1, label='val_loss')\n",
    "sns.lineplot(x=results.epoch, y=val_acc, ax=ax2, label='val_accuracy')\n",
    "ax1.set_title('Loss')\n",
    "ax2.set_title('Accuracy')\n",
    "ax1.legend();"
   ]
  },
  {
   "cell_type": "markdown",
   "metadata": {},
   "source": [
    "### Dropout\n",
    "\n",
    "We can also specify a dropout layer in keras, which randomly shuts off different nodes during training. This can help to prevent overfitting."
   ]
  },
  {
   "cell_type": "markdown",
   "metadata": {},
   "source": [
    "![drop_out](images/drop_out.png)"
   ]
  },
  {
   "cell_type": "markdown",
   "metadata": {},
   "source": [
    "### Exercise\n",
    "\n",
    "To add dropout to a `keras` network, simply add it as though it were a layer. It will apply to the immediately preceding layer.\n",
    "\n",
    "Add Dropout to one or more layers below."
   ]
  },
  {
   "cell_type": "code",
   "execution_count": 85,
   "metadata": {
    "ExecuteTime": {
     "end_time": "2022-09-09T18:43:56.964200Z",
     "start_time": "2022-09-09T18:43:51.837699Z"
    }
   },
   "outputs": [
    {
     "data": {
      "image/png": "[encoded data removed]",
      "text/plain": [
       "<Figure size 720x360 with 2 Axes>"
      ]
     },
     "metadata": {
      "needs_background": "light"
     },
     "output_type": "display_data"
    }
   ],
   "source": [
    "model = Sequential()\n",
    "model.add(Dense(30, activation='relu', input_dim=64))\n",
    "model.add(Dense(20, activation='relu'))\n",
    "model.add(Dropout(0.5))\n",
    "model.add(Dense(12, activation='relu'))\n",
    "model.add(Dense(12, activation='relu'))\n",
    "model.add(Dense(8, activation='relu'))\n",
    "model.add(Dense(8, activation='relu'))\n",
    "model.add(Dense(4, activation='relu'))\n",
    "model.add(Dense(1, activation ='sigmoid'))\n",
    "\n",
    "model.compile(optimizer='adam',\n",
    "              loss='binary_crossentropy',\n",
    "              metrics=['accuracy'])\n",
    "\n",
    "results = model.fit(X_pure_train, y_pure_train, epochs=100,\n",
    "                    batch_size= 32, verbose=0,\n",
    "                    validation_data=(X_val, y_val))\n",
    "\n",
    "train_loss = results.history['loss']\n",
    "train_acc = results.history['accuracy']\n",
    "val_loss = results.history['val_loss']\n",
    "val_acc = results.history['val_accuracy']\n",
    "\n",
    "\n",
    "fig, (ax1, ax2) = plt.subplots(1, 2, figsize=(10, 5))\n",
    "sns.lineplot(x=results.epoch, y=train_loss, ax=ax1, label='train_loss')\n",
    "sns.lineplot(x=results.epoch, y=train_acc, ax=ax2, label='train_accuracy')\n",
    "\n",
    "sns.lineplot(x=results.epoch, y=val_loss, ax=ax1, label='val_loss')\n",
    "sns.lineplot(x=results.epoch, y=val_acc, ax=ax2, label='val_accuracy')\n",
    "ax1.set_title('Loss')\n",
    "ax2.set_title('Accuracy')\n",
    "ax1.legend();"
   ]
  },
  {
   "cell_type": "code",
   "execution_count": 84,
   "metadata": {
    "ExecuteTime": {
     "end_time": "2022-09-09T18:43:39.216655Z",
     "start_time": "2022-09-09T18:43:39.094157Z"
    }
   },
   "outputs": [
    {
     "data": {
      "text/plain": [
       "0.9583333134651184"
      ]
     },
     "execution_count": 84,
     "metadata": {},
     "output_type": "execute_result"
    }
   ],
   "source": [
    "results.history['val_accuracy'][-1]"
   ]
  },
  {
   "cell_type": "markdown",
   "metadata": {},
   "source": [
    "### Early Stopping"
   ]
  },
  {
   "cell_type": "markdown",
   "metadata": {},
   "source": [
    "We can also tell our neural network to stop once it stops realizing any gain.\n",
    "\n",
    "Here we tell it to stop once the a very small positive change in the validation loss occurs:"
   ]
  },
  {
   "cell_type": "code",
   "execution_count": 86,
   "metadata": {
    "ExecuteTime": {
     "end_time": "2022-09-09T18:46:08.177914Z",
     "start_time": "2022-09-09T18:46:06.377413Z"
    }
   },
   "outputs": [
    {
     "name": "stdout",
     "output_type": "stream",
     "text": [
      "Epoch 00008: early stopping\n"
     ]
    },
    {
     "data": {
      "image/png": "[encoded data removed]",
      "text/plain": [
       "<Figure size 720x360 with 2 Axes>"
      ]
     },
     "metadata": {
      "needs_background": "light"
     },
     "output_type": "display_data"
    }
   ],
   "source": [
    "model = Sequential()\n",
    "model.add(Dense(30, activation='relu', input_dim=64))\n",
    "model.add(Dense(20, activation='relu'))\n",
    "model.add(Dropout(0.5))\n",
    "model.add(Dense(12, activation='relu'))\n",
    "model.add(Dense(12, activation='relu'))\n",
    "model.add(Dense(12, activation='relu'))\n",
    "model.add(Dense(8, activation='relu'))\n",
    "model.add(Dense(4, activation='relu'))\n",
    "model.add(Dense(1, activation ='sigmoid'))\n",
    "\n",
    "model.compile(optimizer='adam',\n",
    "              loss='binary_crossentropy',\n",
    "              metrics=['accuracy'])\n",
    "\n",
    "# Define the EarlyStopping object\n",
    "early_stop = EarlyStopping(monitor='val_loss', min_delta=1e-8,\n",
    "                           verbose=1,\n",
    "                           mode='min')\n",
    "\n",
    "# Place this in a list as the value of the `callbacks` parameter\n",
    "# in the `.fit()` method.\n",
    "results = model.fit(X_pure_train, y_pure_train,\n",
    "                    epochs=20, batch_size=32,\n",
    "                    verbose=0, validation_data=(X_val, y_val),\n",
    "                    callbacks=[early_stop])\n",
    "\n",
    "train_loss = results.history['loss']\n",
    "train_acc = results.history['accuracy']\n",
    "val_loss = results.history['val_loss']\n",
    "val_acc = results.history['val_accuracy']\n",
    "\n",
    "\n",
    "fig, (ax1, ax2) = plt.subplots(1, 2, figsize=(10, 5))\n",
    "sns.lineplot(x=results.epoch, y=train_loss, ax=ax1, label='train_loss')\n",
    "sns.lineplot(x=results.epoch, y=train_acc, ax=ax2, label='train_accuracy')\n",
    "\n",
    "sns.lineplot(x=results.epoch, y=val_loss, ax=ax1, label='val_loss')\n",
    "sns.lineplot(x=results.epoch, y=val_acc, ax=ax2, label='val_accuracy')\n",
    "ax1.set_title('Loss')\n",
    "ax2.set_title('Accuracy')\n",
    "ax1.legend();"
   ]
  },
  {
   "cell_type": "markdown",
   "metadata": {},
   "source": [
    "### Exercise\n",
    "\n",
    "That probably stopped too early. We can specify the number of epochs in which it doesn't see decrease in the loss with the `patience` parameter. Modify the code below to include an Early Stop with a patience of 5 epochs."
   ]
  },
  {
   "cell_type": "code",
   "execution_count": 93,
   "metadata": {
    "ExecuteTime": {
     "end_time": "2022-09-09T18:52:48.938018Z",
     "start_time": "2022-09-09T18:52:46.253520Z"
    }
   },
   "outputs": [
    {
     "name": "stdout",
     "output_type": "stream",
     "text": [
      "Epoch 00034: early stopping\n"
     ]
    },
    {
     "data": {
      "image/png": "[encoded data removed]",
      "text/plain": [
       "<Figure size 720x360 with 2 Axes>"
      ]
     },
     "metadata": {
      "needs_background": "light"
     },
     "output_type": "display_data"
    }
   ],
   "source": [
    "model = Sequential()\n",
    "model.add(Dense(30, activation='relu', input_dim=64))\n",
    "model.add(Dense(20, activation='relu'))\n",
    "model.add(Dropout(0.5))\n",
    "model.add(Dense(12, activation='relu'))\n",
    "model.add(Dense(12, activation='relu'))\n",
    "model.add(Dense(12, activation='relu'))\n",
    "model.add(Dense(8, activation='relu'))\n",
    "model.add(Dense(4, activation='relu'))\n",
    "model.add(Dense(1, activation ='sigmoid'))\n",
    "\n",
    "model.compile(optimizer='adam',\n",
    "              loss='binary_crossentropy',\n",
    "              metrics=['accuracy'])\n",
    "\n",
    "# Define the EarlyStopping object\n",
    "early_stop = EarlyStopping(monitor='val_loss', min_delta=1e-8,\n",
    "                           verbose=1,\n",
    "                           patience=5,\n",
    "                           mode='min')\n",
    "\n",
    "# Place this in a list as the value of the `callbacks` parameter\n",
    "# in the `.fit()` method.\n",
    "results = model.fit(X_pure_train, y_pure_train,\n",
    "                    epochs=50, batch_size= 32,\n",
    "                    verbose=0, validation_data=(X_val, y_val),\n",
    "                    callbacks=[early_stop])\n",
    "\n",
    "train_loss = results.history['loss']\n",
    "train_acc = results.history['accuracy']\n",
    "val_loss = results.history['val_loss']\n",
    "val_acc = results.history['val_accuracy']\n",
    "\n",
    "\n",
    "fig, (ax1, ax2) = plt.subplots(1, 2, figsize=(10, 5))\n",
    "sns.lineplot(x=results.epoch, y=train_loss, ax=ax1, label='train_loss')\n",
    "sns.lineplot(x=results.epoch, y=train_acc, ax=ax2, label='train_accuracy')\n",
    "\n",
    "sns.lineplot(x=results.epoch, y=val_loss, ax=ax1, label='val_loss')\n",
    "sns.lineplot(x=results.epoch, y=val_acc, ax=ax2, label='val_accuracy')\n",
    "ax1.set_title('Loss')\n",
    "ax2.set_title('Accuracy')\n",
    "ax1.legend();"
   ]
  },
  {
   "cell_type": "code",
   "execution_count": 94,
   "metadata": {
    "ExecuteTime": {
     "end_time": "2022-09-09T18:53:06.515056Z",
     "start_time": "2022-09-09T18:53:06.378057Z"
    }
   },
   "outputs": [
    {
     "data": {
      "text/plain": [
       "0.9652777910232544"
      ]
     },
     "execution_count": 94,
     "metadata": {},
     "output_type": "execute_result"
    }
   ],
   "source": [
    "results.history['val_accuracy'][-1]"
   ]
  },
  {
   "cell_type": "markdown",
   "metadata": {},
   "source": [
    "## Multiclass Classification and Softmax"
   ]
  },
  {
   "cell_type": "markdown",
   "metadata": {},
   "source": [
    "Now let's return to the problem of predicting digits 0 through 9."
   ]
  },
  {
   "cell_type": "code",
   "execution_count": 95,
   "metadata": {
    "ExecuteTime": {
     "end_time": "2022-09-09T18:53:29.082295Z",
     "start_time": "2022-09-09T18:53:28.905266Z"
    }
   },
   "outputs": [],
   "source": [
    "digits = load_digits()\n",
    "X = digits.data\n",
    "y = digits.target"
   ]
  },
  {
   "cell_type": "code",
   "execution_count": 96,
   "metadata": {
    "ExecuteTime": {
     "end_time": "2022-09-09T18:53:38.986611Z",
     "start_time": "2022-09-09T18:53:38.862112Z"
    }
   },
   "outputs": [],
   "source": [
    "X_train, X_test, y_train, y_test = train_test_split(X, y,\n",
    "                                                    random_state=42,\n",
    "                                                    test_size=0.2)\n",
    "X_pure_train, X_val, y_pure_train, y_val =\\\n",
    "    train_test_split(X_train, y_train,\n",
    "                     random_state=42, test_size=0.2)\n",
    "X_pure_train, X_val, X_test = X_pure_train/16, X_val/16, X_test/16"
   ]
  },
  {
   "cell_type": "markdown",
   "metadata": {},
   "source": [
    "For a multiclass output, our neural net expects our target to be in a certain form."
   ]
  },
  {
   "cell_type": "code",
   "execution_count": 97,
   "metadata": {
    "ExecuteTime": {
     "end_time": "2022-09-09T18:54:12.434725Z",
     "start_time": "2022-09-09T18:54:12.274222Z"
    }
   },
   "outputs": [],
   "source": [
    "ohe = OneHotEncoder(sparse=False)\n",
    "y_pure_train = ohe.fit_transform(y_pure_train.reshape(-1,1))\n",
    "y_val = ohe.transform(y_val.reshape(-1,1))\n",
    "y_test = ohe.transform(y_test.reshape(-1,1))"
   ]
  },
  {
   "cell_type": "code",
   "execution_count": 98,
   "metadata": {
    "ExecuteTime": {
     "end_time": "2022-09-09T18:54:13.581722Z",
     "start_time": "2022-09-09T18:54:13.464222Z"
    }
   },
   "outputs": [
    {
     "data": {
      "text/plain": [
       "array([[0., 0., 0., ..., 0., 0., 0.],\n",
       "       [0., 0., 0., ..., 0., 0., 1.],\n",
       "       [0., 0., 0., ..., 0., 0., 0.],\n",
       "       ...,\n",
       "       [0., 0., 0., ..., 0., 1., 0.],\n",
       "       [0., 0., 0., ..., 0., 0., 0.],\n",
       "       [0., 0., 0., ..., 0., 0., 0.]])"
      ]
     },
     "execution_count": 98,
     "metadata": {},
     "output_type": "execute_result"
    }
   ],
   "source": [
    "y_test"
   ]
  },
  {
   "cell_type": "code",
   "execution_count": 99,
   "metadata": {
    "ExecuteTime": {
     "end_time": "2022-09-09T18:54:20.664862Z",
     "start_time": "2022-09-09T18:54:20.528862Z"
    }
   },
   "outputs": [
    {
     "data": {
      "text/plain": [
       "(360, 10)"
      ]
     },
     "execution_count": 99,
     "metadata": {},
     "output_type": "execute_result"
    }
   ],
   "source": [
    "y_test.shape"
   ]
  },
  {
   "cell_type": "code",
   "execution_count": 100,
   "metadata": {
    "ExecuteTime": {
     "end_time": "2022-09-09T18:55:53.166132Z",
     "start_time": "2022-09-09T18:55:47.317132Z"
    }
   },
   "outputs": [
    {
     "name": "stdout",
     "output_type": "stream",
     "text": [
      "Epoch 1/50\n",
      "115/115 [==============================] - 0s 2ms/step - loss: 2.2461 - accuracy: 0.1723 - val_loss: 2.1685 - val_accuracy: 0.2049\n",
      "Epoch 2/50\n",
      "115/115 [==============================] - 0s 804us/step - loss: 2.0236 - accuracy: 0.2924 - val_loss: 1.8752 - val_accuracy: 0.3264\n",
      "Epoch 3/50\n",
      "115/115 [==============================] - 0s 835us/step - loss: 1.6524 - accuracy: 0.4621 - val_loss: 1.5101 - val_accuracy: 0.4583\n",
      "Epoch 4/50\n",
      "115/115 [==============================] - 0s 1ms/step - loss: 1.2876 - accuracy: 0.6179 - val_loss: 1.2228 - val_accuracy: 0.6042\n",
      "Epoch 5/50\n",
      "115/115 [==============================] - 0s 809us/step - loss: 1.0491 - accuracy: 0.7023 - val_loss: 1.0251 - val_accuracy: 0.7188\n",
      "Epoch 6/50\n",
      "115/115 [==============================] - 0s 761us/step - loss: 0.8948 - accuracy: 0.7633 - val_loss: 0.8855 - val_accuracy: 0.7674\n",
      "Epoch 7/50\n",
      "115/115 [==============================] - 0s 800us/step - loss: 0.7754 - accuracy: 0.8059 - val_loss: 0.7952 - val_accuracy: 0.7708\n",
      "Epoch 8/50\n",
      "115/115 [==============================] - 0s 830us/step - loss: 0.6864 - accuracy: 0.8172 - val_loss: 0.7112 - val_accuracy: 0.7986\n",
      "Epoch 9/50\n",
      "115/115 [==============================] - 0s 778us/step - loss: 0.6143 - accuracy: 0.8486 - val_loss: 0.6452 - val_accuracy: 0.8160\n",
      "Epoch 10/50\n",
      "115/115 [==============================] - 0s 809us/step - loss: 0.5540 - accuracy: 0.8477 - val_loss: 0.5923 - val_accuracy: 0.8264\n",
      "Epoch 11/50\n",
      "115/115 [==============================] - 0s 778us/step - loss: 0.5079 - accuracy: 0.8651 - val_loss: 0.5514 - val_accuracy: 0.8264\n",
      "Epoch 12/50\n",
      "115/115 [==============================] - 0s 804us/step - loss: 0.4638 - accuracy: 0.8712 - val_loss: 0.5121 - val_accuracy: 0.8333\n",
      "Epoch 13/50\n",
      "115/115 [==============================] - 0s 756us/step - loss: 0.4260 - accuracy: 0.8886 - val_loss: 0.4659 - val_accuracy: 0.8472\n",
      "Epoch 14/50\n",
      "115/115 [==============================] - 0s 930us/step - loss: 0.3926 - accuracy: 0.8930 - val_loss: 0.4327 - val_accuracy: 0.8646\n",
      "Epoch 15/50\n",
      "115/115 [==============================] - 0s 896us/step - loss: 0.3634 - accuracy: 0.8938 - val_loss: 0.4230 - val_accuracy: 0.8785\n",
      "Epoch 16/50\n",
      "115/115 [==============================] - 0s 774us/step - loss: 0.3379 - accuracy: 0.9086 - val_loss: 0.3870 - val_accuracy: 0.8819\n",
      "Epoch 17/50\n",
      "115/115 [==============================] - 0s 952us/step - loss: 0.3240 - accuracy: 0.9043 - val_loss: 0.3691 - val_accuracy: 0.8924\n",
      "Epoch 18/50\n",
      "115/115 [==============================] - 0s 856us/step - loss: 0.3045 - accuracy: 0.9156 - val_loss: 0.3631 - val_accuracy: 0.8958\n",
      "Epoch 19/50\n",
      "115/115 [==============================] - 0s 830us/step - loss: 0.2829 - accuracy: 0.9199 - val_loss: 0.3527 - val_accuracy: 0.8993\n",
      "Epoch 20/50\n",
      "115/115 [==============================] - 0s 774us/step - loss: 0.2681 - accuracy: 0.9252 - val_loss: 0.3246 - val_accuracy: 0.9062\n",
      "Epoch 21/50\n",
      "115/115 [==============================] - 0s 722us/step - loss: 0.2583 - accuracy: 0.9199 - val_loss: 0.3141 - val_accuracy: 0.9132\n",
      "Epoch 22/50\n",
      "115/115 [==============================] - 0s 887us/step - loss: 0.2447 - accuracy: 0.9304 - val_loss: 0.2968 - val_accuracy: 0.9132\n",
      "Epoch 23/50\n",
      "115/115 [==============================] - 0s 891us/step - loss: 0.2346 - accuracy: 0.9391 - val_loss: 0.2808 - val_accuracy: 0.9271\n",
      "Epoch 24/50\n",
      "115/115 [==============================] - 0s 830us/step - loss: 0.2302 - accuracy: 0.9356 - val_loss: 0.2779 - val_accuracy: 0.9201\n",
      "Epoch 25/50\n",
      "115/115 [==============================] - 0s 996us/step - loss: 0.2135 - accuracy: 0.9391 - val_loss: 0.2655 - val_accuracy: 0.9236\n",
      "Epoch 26/50\n",
      "115/115 [==============================] - 0s 1ms/step - loss: 0.2087 - accuracy: 0.9391 - val_loss: 0.2715 - val_accuracy: 0.9271\n",
      "Epoch 27/50\n",
      "115/115 [==============================] - 0s 1ms/step - loss: 0.1972 - accuracy: 0.9434 - val_loss: 0.2571 - val_accuracy: 0.9167\n",
      "Epoch 28/50\n",
      "115/115 [==============================] - 0s 817us/step - loss: 0.1909 - accuracy: 0.9513 - val_loss: 0.2723 - val_accuracy: 0.9167\n",
      "Epoch 29/50\n",
      "115/115 [==============================] - 0s 865us/step - loss: 0.1860 - accuracy: 0.9478 - val_loss: 0.2440 - val_accuracy: 0.9306\n",
      "Epoch 30/50\n",
      "115/115 [==============================] - 0s 1ms/step - loss: 0.1803 - accuracy: 0.9513 - val_loss: 0.2366 - val_accuracy: 0.9236\n",
      "Epoch 31/50\n",
      "115/115 [==============================] - 0s 1ms/step - loss: 0.1733 - accuracy: 0.9521 - val_loss: 0.2287 - val_accuracy: 0.9410\n",
      "Epoch 32/50\n",
      "115/115 [==============================] - 0s 1ms/step - loss: 0.1672 - accuracy: 0.9504 - val_loss: 0.2288 - val_accuracy: 0.9271\n",
      "Epoch 33/50\n",
      "115/115 [==============================] - 0s 787us/step - loss: 0.1563 - accuracy: 0.9608 - val_loss: 0.2301 - val_accuracy: 0.9236\n",
      "Epoch 34/50\n",
      "115/115 [==============================] - 0s 739us/step - loss: 0.1476 - accuracy: 0.9556 - val_loss: 0.2033 - val_accuracy: 0.9340\n",
      "Epoch 35/50\n",
      "115/115 [==============================] - 0s 1ms/step - loss: 0.1385 - accuracy: 0.9626 - val_loss: 0.2060 - val_accuracy: 0.9271\n",
      "Epoch 36/50\n",
      "115/115 [==============================] - 0s 1ms/step - loss: 0.1365 - accuracy: 0.9582 - val_loss: 0.1897 - val_accuracy: 0.9340\n",
      "Epoch 37/50\n",
      "115/115 [==============================] - 0s 765us/step - loss: 0.1287 - accuracy: 0.9652 - val_loss: 0.1874 - val_accuracy: 0.9479\n",
      "Epoch 38/50\n",
      "115/115 [==============================] - 0s 822us/step - loss: 0.1255 - accuracy: 0.9661 - val_loss: 0.1784 - val_accuracy: 0.9410\n",
      "Epoch 39/50\n",
      "115/115 [==============================] - 0s 817us/step - loss: 0.1176 - accuracy: 0.9661 - val_loss: 0.1741 - val_accuracy: 0.9375\n",
      "Epoch 40/50\n",
      "115/115 [==============================] - 0s 761us/step - loss: 0.1152 - accuracy: 0.9695 - val_loss: 0.1697 - val_accuracy: 0.9340\n",
      "Epoch 41/50\n",
      "115/115 [==============================] - 0s 904us/step - loss: 0.1097 - accuracy: 0.9704 - val_loss: 0.1631 - val_accuracy: 0.9444\n",
      "Epoch 42/50\n",
      "115/115 [==============================] - 0s 761us/step - loss: 0.1070 - accuracy: 0.9721 - val_loss: 0.1586 - val_accuracy: 0.9514\n",
      "Epoch 43/50\n",
      "115/115 [==============================] - 0s 887us/step - loss: 0.1064 - accuracy: 0.9721 - val_loss: 0.1660 - val_accuracy: 0.9375\n",
      "Epoch 44/50\n",
      "115/115 [==============================] - 0s 778us/step - loss: 0.0999 - accuracy: 0.9739 - val_loss: 0.1675 - val_accuracy: 0.9375\n",
      "Epoch 45/50\n",
      "115/115 [==============================] - 0s 835us/step - loss: 0.1002 - accuracy: 0.9695 - val_loss: 0.1553 - val_accuracy: 0.9479\n",
      "Epoch 46/50\n",
      "115/115 [==============================] - 0s 874us/step - loss: 0.0915 - accuracy: 0.9739 - val_loss: 0.1462 - val_accuracy: 0.9549\n",
      "Epoch 47/50\n",
      "115/115 [==============================] - 0s 1ms/step - loss: 0.0899 - accuracy: 0.9782 - val_loss: 0.1460 - val_accuracy: 0.9549\n",
      "Epoch 48/50\n",
      "115/115 [==============================] - 0s 796us/step - loss: 0.0865 - accuracy: 0.9765 - val_loss: 0.1494 - val_accuracy: 0.9479\n",
      "Epoch 49/50\n",
      "115/115 [==============================] - 0s 800us/step - loss: 0.0846 - accuracy: 0.9774 - val_loss: 0.1440 - val_accuracy: 0.9549\n",
      "Epoch 50/50\n",
      "115/115 [==============================] - 0s 778us/step - loss: 0.0794 - accuracy: 0.9774 - val_loss: 0.1386 - val_accuracy: 0.9653\n"
     ]
    }
   ],
   "source": [
    "# Model from above, but now with ten output neurons:\n",
    "\n",
    "model = Sequential()\n",
    "model.add(Dense(12, activation='relu', input_dim=64))\n",
    "model.add(Dense(8, activation='relu'))\n",
    "model.add(Dense(10, activation='softmax'))\n",
    "\n",
    "model.compile(optimizer='adam',\n",
    "              loss='categorical_crossentropy',\n",
    "              metrics=['accuracy'])\n",
    "\n",
    "results = model.fit(X_pure_train, y_pure_train,\n",
    "                   epochs=50, batch_size=10,\n",
    "                   validation_data=(X_val, y_val))"
   ]
  },
  {
   "cell_type": "markdown",
   "metadata": {},
   "source": [
    "$$\\large \\text{Softmax}(x_{i}) = \\frac{\\exp(x_i)}{\\sum_j \\exp(x_j)}$$\n",
    "\n",
    "The sofmax function outputs a number between 0 and 1 for each of our classes.  All of the probabilities of the classes sum up to 1.\n",
    "\n",
    "The number of nodes in our output layer equals the number of categories in our dataset.\n",
    "\n",
    "We also need a new loss function: **categorical crossentropy**, which calculates a separate loss for each label and then sums the results."
   ]
  },
  {
   "cell_type": "code",
   "execution_count": 101,
   "metadata": {
    "ExecuteTime": {
     "end_time": "2022-09-09T18:55:56.297133Z",
     "start_time": "2022-09-09T18:55:56.152134Z"
    }
   },
   "outputs": [],
   "source": [
    "history = results.history\n",
    "training_loss = history['loss']\n",
    "val_loss = history['val_loss']\n",
    "training_accuracy = history['accuracy']\n",
    "val_accuracy = history['val_accuracy']"
   ]
  },
  {
   "cell_type": "code",
   "execution_count": 102,
   "metadata": {
    "ExecuteTime": {
     "end_time": "2022-09-09T18:55:58.017634Z",
     "start_time": "2022-09-09T18:55:57.567664Z"
    }
   },
   "outputs": [
    {
     "data": {
      "image/png": "[encoded data removed]",
      "text/plain": [
       "<Figure size 1080x360 with 2 Axes>"
      ]
     },
     "metadata": {
      "needs_background": "light"
     },
     "output_type": "display_data"
    }
   ],
   "source": [
    "fig, (ax1,ax2) = plt.subplots(1,2,figsize=(15,5))\n",
    "\n",
    "\n",
    "sns.lineplot(x=list(range(len(training_loss))),\n",
    "             y=training_loss, color='r', label='training', ax=ax1)\n",
    "sns.lineplot(x=list(range(len(val_loss))),\n",
    "             y=val_loss, color='b', label='validation', ax=ax1)\n",
    "sns.lineplot(x=list(range(len(training_loss))),\n",
    "             y=training_accuracy, color='r', label='training',ax=ax2)\n",
    "sns.lineplot(x=list(range(len(val_loss))),\n",
    "             y=val_accuracy, color='b', label='validation',ax=ax2)\n",
    "\n",
    "ax1.set_title('Loss')\n",
    "ax2.set_title('Accuracy')\n",
    "ax1.legend();"
   ]
  },
  {
   "cell_type": "code",
   "execution_count": 103,
   "metadata": {
    "ExecuteTime": {
     "end_time": "2022-09-09T18:57:10.538900Z",
     "start_time": "2022-09-09T18:57:10.401899Z"
    }
   },
   "outputs": [
    {
     "data": {
      "text/plain": [
       "0.9652777910232544"
      ]
     },
     "execution_count": 103,
     "metadata": {},
     "output_type": "execute_result"
    }
   ],
   "source": [
    "history['val_accuracy'][-1]"
   ]
  },
  {
   "cell_type": "code",
   "execution_count": 104,
   "metadata": {
    "ExecuteTime": {
     "end_time": "2022-09-09T18:57:21.636638Z",
     "start_time": "2022-09-09T18:57:21.513138Z"
    }
   },
   "outputs": [
    {
     "data": {
      "text/plain": [
       "0.9773716330528259"
      ]
     },
     "execution_count": 104,
     "metadata": {},
     "output_type": "execute_result"
    }
   ],
   "source": [
    "history['accuracy'][-1]"
   ]
  },
  {
   "cell_type": "code",
   "execution_count": 112,
   "metadata": {
    "ExecuteTime": {
     "end_time": "2022-09-09T19:00:50.041343Z",
     "start_time": "2022-09-09T19:00:49.874843Z"
    }
   },
   "outputs": [
    {
     "data": {
      "text/plain": [
       "6"
      ]
     },
     "execution_count": 112,
     "metadata": {},
     "output_type": "execute_result"
    }
   ],
   "source": [
    "np.argmax(model.predict(X_test)[0])"
   ]
  },
  {
   "cell_type": "code",
   "execution_count": 110,
   "metadata": {
    "ExecuteTime": {
     "end_time": "2022-09-09T19:00:05.557971Z",
     "start_time": "2022-09-09T19:00:05.429972Z"
    }
   },
   "outputs": [
    {
     "data": {
      "text/plain": [
       "array([0., 0., 0., 0., 0., 0., 1., 0., 0., 0.])"
      ]
     },
     "execution_count": 110,
     "metadata": {},
     "output_type": "execute_result"
    }
   ],
   "source": [
    "y_test[0]"
   ]
  },
  {
   "cell_type": "markdown",
   "metadata": {},
   "source": [
    "Wow, look at that performance!  \n",
    "\n",
    "That is great, but remember, we were dealing with simple black and white images.  With color, our basic neural net will have less success.\n",
    "\n",
    "We will explore more advanced tools in the coming days.\n"
   ]
  }
 ],
 "metadata": {
  "celltoolbar": "Raw Cell Format",
  "colab": {
   "collapsed_sections": [],
   "name": "intro-to-keras.ipynb",
   "provenance": []
  },
  "kernelspec": {
   "display_name": "learn-env",
   "language": "python",
   "name": "learn-env"
  },
  "language_info": {
   "codemirror_mode": {
    "name": "ipython",
    "version": 3
   },
   "file_extension": ".py",
   "mimetype": "text/x-python",
   "name": "python",
   "nbconvert_exporter": "python",
   "pygments_lexer": "ipython3",
   "version": "3.8.5"
  },
  "toc": {
   "base_numbering": 1,
   "nav_menu": {},
   "number_sections": true,
   "sideBar": true,
   "skip_h1_title": false,
   "title_cell": "Table of Contents",
   "title_sidebar": "Contents",
   "toc_cell": false,
   "toc_position": {},
   "toc_section_display": true,
   "toc_window_display": false
  },
  "varInspector": {
   "cols": {
    "lenName": 16,
    "lenType": 16,
    "lenVar": 40
   },
   "kernels_config": {
    "python": {
     "delete_cmd_postfix": "",
     "delete_cmd_prefix": "del ",
     "library": "var_list.py",
     "varRefreshCmd": "print(var_dic_list())"
    },
    "r": {
     "delete_cmd_postfix": ") ",
     "delete_cmd_prefix": "rm(",
     "library": "var_list.r",
     "varRefreshCmd": "cat(var_dic_list()) "
    }
   },
   "types_to_exclude": [
    "module",
    "function",
    "builtin_function_or_method",
    "instance",
    "_Feature"
   ],
   "window_display": false
  }
 },
 "nbformat": 4,
 "nbformat_minor": 4
}
